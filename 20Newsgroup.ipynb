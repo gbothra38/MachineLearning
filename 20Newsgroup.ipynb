{
  "nbformat": 4,
  "nbformat_minor": 0,
  "metadata": {
    "accelerator": "TPU",
    "colab": {
      "name": "20Newsgroup.ipynb",
      "provenance": [],
      "collapsed_sections": [],
      "toc_visible": true,
      "include_colab_link": true
    },
    "kernelspec": {
      "display_name": "Python 3",
      "name": "python3"
    }
  },
  "cells": [
    {
      "cell_type": "markdown",
      "metadata": {
        "id": "view-in-github",
        "colab_type": "text"
      },
      "source": [
        "<a href=\"https://colab.research.google.com/github/gbothra38/MachineLearning/blob/main/20Newsgroup.ipynb\" target=\"_parent\"><img src=\"https://colab.research.google.com/assets/colab-badge.svg\" alt=\"Open In Colab\"/></a>"
      ]
    },
    {
      "cell_type": "markdown",
      "metadata": {
        "id": "bmU9HJxzLeAn"
      },
      "source": [
        "# **Analysis of 20 Newsgroup Dataset**\n"
      ]
    },
    {
      "cell_type": "markdown",
      "metadata": {
        "id": "v21QkkywLwQc"
      },
      "source": [
        "\n",
        "```\n",
        "Gaurav Bothra\n",
        "19223029\n",
        "IV Sem, MCA 2019-2022\n",
        "\n",
        "```\n",
        "\n",
        "\n"
      ]
    },
    {
      "cell_type": "markdown",
      "metadata": {
        "id": "j4K6-Iek-Ml3"
      },
      "source": [
        "##Introduction"
      ]
    },
    {
      "cell_type": "markdown",
      "metadata": {
        "id": "Qpe2DPm7-NbR"
      },
      "source": [
        "* This data set consists of 20000 messages taken \n",
        "from 20 newsgroups. \n",
        "* 1000 Usenet articles were taken from each of the following 20 newsgroups.\n",
        "* The articles are typical postings and thus have headers including subject lines, signature files, and quoted portions of other articles.\n",
        "* Each newsgroup is stored in a subdirectory, with each article stored as a separate file.\n",
        "* Followings are the 20 name of these newsgroups:\n",
        "['alt.atheism',\n",
        " 'comp.graphics',\n",
        " 'comp.os.ms-windows.misc',\n",
        " 'comp.sys.ibm.pc.hardware',\n",
        " 'comp.sys.mac.hardware',\n",
        " 'comp.windows.x',\n",
        " 'misc.forsale',\n",
        " 'rec.autos',\n",
        " 'rec.motorcycles',\n",
        " 'rec.sport.baseball',\n",
        " 'rec.sport.hockey',\n",
        " 'sci.crypt',\n",
        " 'sci.electronics',\n",
        " 'sci.med',\n",
        " 'sci.space',\n",
        " 'soc.religion.christian',\n",
        " 'talk.politics.guns',\n",
        " 'talk.politics.mideast',\n",
        " 'talk.politics.misc',\n",
        " 'talk.religion.misc']\n",
        "\n",
        "* Dataset Link: https://archive.ics.uci.edu/ml/datasets/Twenty+Newsgroups\n"
      ]
    },
    {
      "cell_type": "markdown",
      "metadata": {
        "id": "T1oPJv2t-q2h"
      },
      "source": [
        "##Problem Statement"
      ]
    },
    {
      "cell_type": "markdown",
      "metadata": {
        "id": "88LWHwsjA1x2"
      },
      "source": [
        "> Here our task is to make a model which identifies or predicts the name of the NewsGroup based on its text and contents.\n",
        "\n"
      ]
    },
    {
      "cell_type": "markdown",
      "metadata": {
        "id": "FsZbUweKBGWR"
      },
      "source": [
        "## Strategies used"
      ]
    },
    {
      "cell_type": "markdown",
      "metadata": {
        "id": "03OypaDQ_r1m"
      },
      "source": [
        "* **Dataset:**\n",
        "  * 20016 files taken from 20 Newsgroup\n",
        "  * Output: Name of the Newsgroup (1 to 20)\n",
        "  * Null Values: 0\n",
        "* **Problem type:**\n",
        "    * Supervised\n",
        "    * Categorical\n",
        "    * Multi-class Classification\n",
        "* **Splitted the dataset into two:**\n",
        "    * train(75%) - instances\n",
        "    * test(25%)- instances\n",
        "* **Conversion of strings (content of file) into vectors (numeric form) using the following process, as the model can process only numerical data.**\n",
        "    * Clearing:\n",
        "      Removal of punctuations, such as \n",
        "      '!()-[]{};:'\"\\,<>./?@#$%^&*_~'\n",
        "    * Removal of white spaces\n",
        "    * Tokenization: Splitting sequence of strings into words.\n",
        "    * Removing Stopwords: Stopwords are commonly used words in any language.\n",
        "    * Casing: Making the case of all words same (here lowering).\n",
        "Stemming: The process of reducing a word to its word stem that affixes to suffixes.\n",
        "    * Vectorization: Conversion of word into number\n",
        "* **The process described above can be implemented using  CountVectorizer or TfidfVectorizer**\n",
        "    * CountVectorizer:  We only count the number of times a word appears in the document which results in biasing in favour of most frequent words. This ends up in ignoring rare words which could have helped us in processing our data more efficiently.\n",
        "    * TfidfVectorizer: We consider overall document weightage of a word. It helps us in dealing with most frequent words. Using it we can penalize them. TfidfVectorizer weights the word counts by a measure of how often they appear in the documents.\n",
        "Formula:\n",
        "      * TF= No. of repeat of words in sentence / no. of words in sentence\n",
        "      * IDF= log( no. of sentences/ no. of sentences containing words)\n",
        "      * Tf-IDF= TF*IDF\n",
        "* **Trained Using Multinomial Classification**\n",
        "    * MultinomialNB implements the naive Bayes algorithm for multinomial distributed data, and is one of the two classic naive Bayes variants used in text classification (where the data are typically represented as word vector counts, although tf-idf vectors are also known to work well in practice).\n",
        "    * The distribution is parametrized by vectors for each class , where  is the number of features (in text classification, the size of the vocabulary) and  is the probability of features  appearing in a sample belonging to class .\n",
        "* **Evaluation**\n",
        "    * Accuracy\n",
        "    * Confusion Matrix\n",
        "    * Precision and Recall\n",
        "    * F1 Score \n"
      ]
    },
    {
      "cell_type": "markdown",
      "metadata": {
        "id": "I97OpQfQCgu0"
      },
      "source": [
        "## Code"
      ]
    },
    {
      "cell_type": "markdown",
      "metadata": {
        "id": "3h4CUjj7MgAm"
      },
      "source": [
        "###Locating the folder and files"
      ]
    },
    {
      "cell_type": "code",
      "metadata": {
        "colab": {
          "base_uri": "https://localhost:8080/"
        },
        "id": "BpA72nztILXD",
        "outputId": "a94995fd-413d-487a-bfc8-78d08f5207f4"
      },
      "source": [
        "ls"
      ],
      "execution_count": null,
      "outputs": [
        {
          "output_type": "stream",
          "text": [
            "\u001b[0m\u001b[01;34mdrive\u001b[0m/  \u001b[01;34msample_data\u001b[0m/\n"
          ],
          "name": "stdout"
        }
      ]
    },
    {
      "cell_type": "code",
      "metadata": {
        "colab": {
          "base_uri": "https://localhost:8080/"
        },
        "id": "2-MY7TL6GQ6m",
        "outputId": "ceeaaba4-31e5-4252-e031-000c1f84d2b5"
      },
      "source": [
        "cd drive/MyDrive"
      ],
      "execution_count": null,
      "outputs": [
        {
          "output_type": "stream",
          "text": [
            "/content/drive/MyDrive\n"
          ],
          "name": "stdout"
        }
      ]
    },
    {
      "cell_type": "markdown",
      "metadata": {
        "id": "P9Mz4jp9MpWT"
      },
      "source": [
        "Our intented folder is, 20_newsgroups_dataset ."
      ]
    },
    {
      "cell_type": "markdown",
      "metadata": {
        "id": "daNF3aLOUytJ"
      },
      "source": [
        "###Overview of dataset"
      ]
    },
    {
      "cell_type": "markdown",
      "metadata": {
        "id": "U8G2rHYqkgbz"
      },
      "source": [
        "![image.png](data:image/png;base64,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)"
      ]
    },
    {
      "cell_type": "markdown",
      "metadata": {
        "id": "Zug7RsF6knnf"
      },
      "source": [
        "![image.png](data:image/png;base64,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)"
      ]
    },
    {
      "cell_type": "markdown",
      "metadata": {
        "id": "qGgRvGS9lXUr"
      },
      "source": [
        "This is the content of file 49960 of alt.atheism\n",
        "\n",
        "\n",
        "---\n",
        "\n"
      ]
    },
    {
      "cell_type": "markdown",
      "metadata": {
        "id": "dDtXkGDyk9pP"
      },
      "source": [
        "Xref: cantaloupe.srv.cs.cmu.edu alt.atheism:49960 alt.atheism.moderated:713 news.answers:7054 alt.answers:126\n",
        "Path: cantaloupe.srv.cs.cmu.edu!crabapple.srv.cs.cmu.edu!bb3.andrew.cmu.edu!news.sei.cmu.edu!cis.ohio-state.edu!magnus.acs.ohio-state.edu!usenet.ins.cwru.edu!agate!spool.mu.edu!uunet!pipex!ibmpcug!mantis!mathew\n",
        "From: mathew <mathew@mantis.co.uk>\n",
        "Newsgroups: alt.atheism,alt.atheism.moderated,news.answers,alt.answers\n",
        "Subject: Alt.Atheism FAQ: Atheist Resources\n",
        "Summary: Books, addresses, music -- anything related to atheism\n",
        "Keywords: FAQ, atheism, books, music, fiction, addresses, contacts\n",
        "Message-ID: <19930329115719@mantis.co.uk>\n",
        "Date: Mon, 29 Mar 1993 11:57:19 GMT\n",
        "Expires: Thu, 29 Apr 1993 11:57:19 GMT\n",
        "Followup-To: alt.atheism\n",
        "Distribution: world\n",
        "Organization: Mantis Consultants, Cambridge. UK.\n",
        "Approved: news-answers-request@mit.edu\n",
        "Supersedes: <19930301143317@mantis.co.uk>\n",
        "Lines: 290\n",
        "\n",
        "Archive-name: atheism/resources\n",
        "Alt-atheism-archive-name: resources\n",
        "Last-modified: 11 December 1992\n",
        "Version: 1.0\n",
        "\n",
        "                              Atheist Resources\n",
        "\n",
        "                      Addresses of Atheist Organizations\n",
        "\n",
        "                                     USA\n",
        "\n",
        "FREEDOM FROM RELIGION FOUNDATION\n",
        "\n",
        "Darwin fish bumper stickers and assorted other atheist paraphernalia are\n",
        "available from the Freedom From Religion Foundation in the US.\n",
        "\n",
        "Write to:  FFRF, P.O. Box 750, Madison, WI 53701.\n",
        "Telephone: (608) 256-8900\n",
        "\n",
        "EVOLUTION DESIGNS\n",
        "\n",
        "Evolution Designs sell the \"Darwin fish\".  It's a fish symbol, like the ones\n",
        "Christians stick on their cars, but with feet and the word \"Darwin\" written\n",
        "inside.  The deluxe moulded 3D plastic fish is $4.95 postpaid in the US.\n",
        "\n",
        "Write to:  Evolution Designs, 7119 Laurel Canyon #4, North Hollywood,\n",
        "           CA 91605.\n",
        "\n",
        "People in the San Francisco Bay area can get Darwin Fish from Lynn Gold --\n",
        "try mailing <figmo@netcom.com>.  For net people who go to Lynn directly, the\n",
        "price is $4.95 per fish.\n",
        "\n",
        "AMERICAN ATHEIST PRESS\n",
        "\n",
        "AAP publish various atheist books -- critiques of the Bible, lists of\n",
        "Biblical contradictions, and so on.  One such book is:\n",
        "\n",
        "\"The Bible Handbook\" by W.P. Ball and G.W. Foote.  American Atheist Press.\n",
        "372 pp.  ISBN 0-910309-26-4, 2nd edition, 1986.  Bible contradictions,\n",
        "absurdities, atrocities, immoralities... contains Ball, Foote: \"The Bible\n",
        "Contradicts Itself\", AAP.  Based on the King James version of the Bible.\n",
        "\n",
        "Write to:  American Atheist Press, P.O. Box 140195, Austin, TX 78714-0195.\n",
        "      or:  7215 Cameron Road, Austin, TX 78752-2973.\n",
        "Telephone: (512) 458-1244\n",
        "Fax:       (512) 467-9525\n",
        "\n",
        "PROMETHEUS BOOKS\n",
        "\n",
        "Sell books including Haught's \"Holy Horrors\" (see below).\n",
        "\n",
        "Write to:  700 East Amherst Street, Buffalo, New York 14215.\n",
        "Telephone: (716) 837-2475.\n",
        "\n",
        "An alternate address (which may be newer or older) is:\n",
        "Prometheus Books, 59 Glenn Drive, Buffalo, NY 14228-2197.\n",
        "\n",
        "AFRICAN-AMERICANS FOR HUMANISM\n",
        "\n",
        "An organization promoting black secular humanism and uncovering the history of\n",
        "black freethought.  They publish a quarterly newsletter, AAH EXAMINER.\n",
        "\n",
        "Write to:  Norm R. Allen, Jr., African Americans for Humanism, P.O. Box 664,\n",
        "           Buffalo, NY 14226.\n",
        "\n",
        "                                United Kingdom\n",
        "\n",
        "Rationalist Press Association          National Secular Society\n",
        "88 Islington High Street               702 Holloway Road\n",
        "London N1 8EW                          London N19 3NL\n",
        "071 226 7251                           071 272 1266\n",
        "\n",
        "British Humanist Association           South Place Ethical Society\n",
        "14 Lamb's Conduit Passage              Conway Hall\n",
        "London WC1R 4RH                        Red Lion Square\n",
        "071 430 0908                           London WC1R 4RL\n",
        "fax 071 430 1271                       071 831 7723\n",
        "\n",
        "The National Secular Society publish \"The Freethinker\", a monthly magazine\n",
        "founded in 1881.\n",
        "\n",
        "                                   Germany\n",
        "\n",
        "IBKA e.V.\n",
        "Internationaler Bund der Konfessionslosen und Atheisten\n",
        "Postfach 880, D-1000 Berlin 41. Germany.\n",
        "\n",
        "IBKA publish a journal:\n",
        "MIZ. (Materialien und Informationen zur Zeit. Politisches\n",
        "Journal der Konfessionslosesn und Atheisten. Hrsg. IBKA e.V.)\n",
        "MIZ-Vertrieb, Postfach 880, D-1000 Berlin 41. Germany.\n",
        "\n",
        "For atheist books, write to:\n",
        "\n",
        "IBDK, Internationaler B\"ucherdienst der Konfessionslosen\n",
        "Postfach 3005, D-3000 Hannover 1. Germany.\n",
        "Telephone: 0511/211216\n",
        "\n",
        "\n",
        "                               Books -- Fiction\n",
        "\n",
        "THOMAS M. DISCH\n",
        "\n",
        "\"The Santa Claus Compromise\"\n",
        "Short story.  The ultimate proof that Santa exists.  All characters and \n",
        "events are fictitious.  Any similarity to living or dead gods -- uh, well...\n",
        "\n",
        "WALTER M. MILLER, JR\n",
        "\n",
        "\"A Canticle for Leibowitz\"\n",
        "One gem in this post atomic doomsday novel is the monks who spent their lives\n",
        "copying blueprints from \"Saint Leibowitz\", filling the sheets of paper with\n",
        "ink and leaving white lines and letters.\n",
        "\n",
        "EDGAR PANGBORN\n",
        "\n",
        "\"Davy\"\n",
        "Post atomic doomsday novel set in clerical states.  The church, for example,\n",
        "forbids that anyone \"produce, describe or use any substance containing...\n",
        "atoms\". \n",
        "\n",
        "PHILIP K. DICK\n",
        "\n",
        "Philip K. Dick Dick wrote many philosophical and thought-provoking short \n",
        "stories and novels.  His stories are bizarre at times, but very approachable.\n",
        "He wrote mainly SF, but he wrote about people, truth and religion rather than\n",
        "technology.  Although he often believed that he had met some sort of God, he\n",
        "remained sceptical.  Amongst his novels, the following are of some relevance:\n",
        "\n",
        "\"Galactic Pot-Healer\"\n",
        "A fallible alien deity summons a group of Earth craftsmen and women to a\n",
        "remote planet to raise a giant cathedral from beneath the oceans.  When the\n",
        "deity begins to demand faith from the earthers, pot-healer Joe Fernwright is\n",
        "unable to comply.  A polished, ironic and amusing novel.\n",
        "\n",
        "\"A Maze of Death\"\n",
        "Noteworthy for its description of a technology-based religion.\n",
        "\n",
        "\"VALIS\"\n",
        "The schizophrenic hero searches for the hidden mysteries of Gnostic\n",
        "Christianity after reality is fired into his brain by a pink laser beam of\n",
        "unknown but possibly divine origin.  He is accompanied by his dogmatic and\n",
        "dismissively atheist friend and assorted other odd characters.\n",
        "\n",
        "\"The Divine Invasion\"\n",
        "God invades Earth by making a young woman pregnant as she returns from\n",
        "another star system.  Unfortunately she is terminally ill, and must be\n",
        "assisted by a dead man whose brain is wired to 24-hour easy listening music.\n",
        "\n",
        "MARGARET ATWOOD\n",
        "\n",
        "\"The Handmaid's Tale\"\n",
        "A story based on the premise that the US Congress is mysteriously\n",
        "assassinated, and fundamentalists quickly take charge of the nation to set it\n",
        "\"right\" again.  The book is the diary of a woman's life as she tries to live\n",
        "under the new Christian theocracy.  Women's right to own property is revoked,\n",
        "and their bank accounts are closed; sinful luxuries are outlawed, and the\n",
        "radio is only used for readings from the Bible.  Crimes are punished\n",
        "retroactively: doctors who performed legal abortions in the \"old world\" are\n",
        "hunted down and hanged.  Atwood's writing style is difficult to get used to\n",
        "at first, but the tale grows more and more chilling as it goes on.\n",
        "\n",
        "VARIOUS AUTHORS\n",
        "\n",
        "\"The Bible\"\n",
        "This somewhat dull and rambling work has often been criticized.  However, it\n",
        "is probably worth reading, if only so that you'll know what all the fuss is\n",
        "about.  It exists in many different versions, so make sure you get the one\n",
        "true version.\n",
        "\n",
        "                             Books -- Non-fiction\n",
        "\n",
        "PETER DE ROSA\n",
        "\n",
        "\"Vicars of Christ\", Bantam Press, 1988\n",
        "Although de Rosa seems to be Christian or even Catholic this is a very\n",
        "enlighting history of papal immoralities, adulteries, fallacies etc.\n",
        "(German translation: \"Gottes erste Diener. Die dunkle Seite des Papsttums\",\n",
        "Droemer-Knaur, 1989)\n",
        "\n",
        "MICHAEL MARTIN\n",
        "\n",
        "\"Atheism: A Philosophical Justification\", Temple University Press,\n",
        " Philadelphia, USA.\n",
        "A detailed and scholarly justification of atheism.  Contains an outstanding\n",
        "appendix defining terminology and usage in this (necessarily) tendentious\n",
        "area.  Argues both for \"negative atheism\" (i.e. the \"non-belief in the\n",
        "existence of god(s)\") and also for \"positive atheism\" (\"the belief in the\n",
        "non-existence of god(s)\").  Includes great refutations of the most\n",
        "challenging arguments for god; particular attention is paid to refuting\n",
        "contempory theists such as Platinga and Swinburne.\n",
        "541 pages. ISBN 0-87722-642-3 (hardcover; paperback also available)\n",
        "\n",
        "\"The Case Against Christianity\", Temple University Press\n",
        "A comprehensive critique of Christianity, in which he considers\n",
        "the best contemporary defences of Christianity and (ultimately)\n",
        "demonstrates that they are unsupportable and/or incoherent.\n",
        "273 pages. ISBN 0-87722-767-5\n",
        "\n",
        "JAMES TURNER\n",
        "\n",
        "\"Without God, Without Creed\", The Johns Hopkins University Press, Baltimore,\n",
        " MD, USA\n",
        "Subtitled \"The Origins of Unbelief in America\".  Examines the way in which\n",
        "unbelief (whether agnostic or atheistic)  became a mainstream alternative\n",
        "world-view.  Focusses on the period 1770-1900, and while considering France\n",
        "and Britain the emphasis is on American, and particularly New England\n",
        "developments.  \"Neither a religious history of secularization or atheism,\n",
        "Without God, Without Creed is, rather, the intellectual history of the fate\n",
        "of a single idea, the belief that God exists.\" \n",
        "316 pages. ISBN (hardcover) 0-8018-2494-X (paper) 0-8018-3407-4\n",
        "\n",
        "GEORGE SELDES (Editor)\n",
        "\n",
        "\"The great thoughts\", Ballantine Books, New York, USA\n",
        "A \"dictionary of quotations\" of a different kind, concentrating on statements\n",
        "and writings which, explicitly or implicitly, present the person's philosophy\n",
        "and world-view.  Includes obscure (and often suppressed) opinions from many\n",
        "people.  For some popular observations, traces the way in which various\n",
        "people expressed and twisted the idea over the centuries.  Quite a number of\n",
        "the quotations are derived from Cardiff's \"What Great Men Think of Religion\"\n",
        "and Noyes' \"Views of Religion\".\n",
        "490 pages. ISBN (paper) 0-345-29887-X.\n",
        "\n",
        "RICHARD SWINBURNE\n",
        "\n",
        "\"The Existence of God (Revised Edition)\", Clarendon Paperbacks, Oxford\n",
        "This book is the second volume in a trilogy that began with \"The Coherence of\n",
        "Theism\" (1977) and was concluded with \"Faith and Reason\" (1981).  In this\n",
        "work, Swinburne attempts to construct a series of inductive arguments for the\n",
        "existence of God.  His arguments, which are somewhat tendentious and rely\n",
        "upon the imputation of late 20th century western Christian values and\n",
        "aesthetics to a God which is supposedly as simple as can be conceived, were\n",
        "decisively rejected in Mackie's \"The Miracle of Theism\".  In the revised\n",
        "edition of \"The Existence of God\", Swinburne includes an Appendix in which he\n",
        "makes a somewhat incoherent attempt to rebut Mackie.\n",
        "\n",
        "J. L. MACKIE\n",
        "\n",
        "\"The Miracle of Theism\", Oxford\n",
        "This (posthumous) volume contains a comprehensive review of the principal\n",
        "arguments for and against the existence of God.  It ranges from the classical\n",
        "philosophical positions of Descartes, Anselm, Berkeley, Hume et al, through\n",
        "the moral arguments of Newman, Kant and Sidgwick, to the recent restatements\n",
        "of the classical theses by Plantinga and Swinburne.  It also addresses those\n",
        "positions which push the concept of God beyond the realm of the rational,\n",
        "such as those of Kierkegaard, Kung and Philips, as well as \"replacements for\n",
        "God\" such as Lelie's axiarchism.  The book is a delight to read - less\n",
        "formalistic and better written than Martin's works, and refreshingly direct\n",
        "when compared with the hand-waving of Swinburne.\n",
        "\n",
        "JAMES A. HAUGHT\n",
        "\n",
        "\"Holy Horrors: An Illustrated History of Religious Murder and Madness\",\n",
        " Prometheus Books\n",
        "Looks at religious persecution from ancient times to the present day -- and\n",
        "not only by Christians.\n",
        "Library of Congress Catalog Card Number 89-64079. 1990.\n",
        "\n",
        "NORM R. ALLEN, JR.\n",
        "\n",
        "\"African American Humanism: an Anthology\"\n",
        "See the listing for African Americans for Humanism above.\n",
        "\n",
        "GORDON STEIN\n",
        "\n",
        "\"An Anthology of Atheism and Rationalism\", Prometheus Books\n",
        "An anthology covering a wide range of subjects, including 'The Devil, Evil\n",
        "and Morality' and 'The History of Freethought'.  Comprehensive bibliography.\n",
        "\n",
        "EDMUND D. COHEN\n",
        "\n",
        "\"The Mind of The Bible-Believer\", Prometheus Books\n",
        "A study of why people become Christian fundamentalists, and what effect it\n",
        "has on them.\n",
        "\n",
        "                                Net Resources\n",
        "\n",
        "There's a small mail-based archive server at mantis.co.uk which carries\n",
        "archives of old alt.atheism.moderated articles and assorted other files.  For\n",
        "more information, send mail to archive-server@mantis.co.uk saying\n",
        "\n",
        "   help\n",
        "   send atheism/index\n",
        "\n",
        "and it will mail back a reply.\n",
        "\n",
        "\n",
        "mathew\n",
        "ÿ\n"
      ]
    },
    {
      "cell_type": "markdown",
      "metadata": {
        "id": "Or7C96tmNA_C"
      },
      "source": [
        "---\n",
        "\n"
      ]
    },
    {
      "cell_type": "markdown",
      "metadata": {
        "id": "mzBXdvo1NGqH"
      },
      "source": [
        "### Gathering the files"
      ]
    },
    {
      "cell_type": "code",
      "metadata": {
        "id": "nc4xQRtrGV7j"
      },
      "source": [
        "import os\n",
        "import string"
      ],
      "execution_count": null,
      "outputs": []
    },
    {
      "cell_type": "code",
      "metadata": {
        "id": "uX_n9HvyHFps"
      },
      "source": [
        "folders=[f for f in os.listdir('20_newsgroups_dataset')]"
      ],
      "execution_count": null,
      "outputs": []
    },
    {
      "cell_type": "code",
      "metadata": {
        "colab": {
          "base_uri": "https://localhost:8080/"
        },
        "id": "rOWWsOsgIT-E",
        "outputId": "b098c4bc-6746-4dbf-c5ed-923ae3d35b26"
      },
      "source": [
        "len(folders)"
      ],
      "execution_count": null,
      "outputs": [
        {
          "output_type": "execute_result",
          "data": {
            "text/plain": [
              "20"
            ]
          },
          "metadata": {
            "tags": []
          },
          "execution_count": 8
        }
      ]
    },
    {
      "cell_type": "markdown",
      "metadata": {
        "id": "XgZDyo_xN2kO"
      },
      "source": [
        "folders: It represents name of the all 20 folders (20 Newsgroup's name)"
      ]
    },
    {
      "cell_type": "code",
      "metadata": {
        "colab": {
          "base_uri": "https://localhost:8080/"
        },
        "id": "3jHGaettl_lw",
        "outputId": "63f5750d-c5e3-4382-b9ed-3e822945aee0"
      },
      "source": [
        "folders"
      ],
      "execution_count": null,
      "outputs": [
        {
          "output_type": "execute_result",
          "data": {
            "text/plain": [
              "['talk.politics.guns',\n",
              " 'comp.sys.ibm.pc.hardware',\n",
              " 'comp.windows.x',\n",
              " 'misc.forsale',\n",
              " 'soc.religion.christian',\n",
              " 'comp.graphics',\n",
              " 'sci.electronics',\n",
              " 'sci.space',\n",
              " 'talk.religion.misc',\n",
              " 'rec.motorcycles',\n",
              " 'comp.os.ms-windows.misc',\n",
              " 'talk.politics.mideast',\n",
              " 'sci.crypt',\n",
              " 'rec.sport.baseball',\n",
              " 'alt.atheism',\n",
              " 'sci.med',\n",
              " 'talk.politics.misc',\n",
              " 'rec.sport.hockey',\n",
              " 'rec.autos',\n",
              " 'comp.sys.mac.hardware']"
            ]
          },
          "metadata": {
            "tags": []
          },
          "execution_count": 9
        }
      ]
    },
    {
      "cell_type": "code",
      "metadata": {
        "id": "aPRaBxcbKhU3"
      },
      "source": [
        "files=[]\n",
        "for i in range(len(folders)):\n",
        "  path_folders=os.path.join('20_newsgroups_dataset',folders[i])\n",
        "  files.append([f for f in os.listdir(path_folders)])"
      ],
      "execution_count": null,
      "outputs": []
    },
    {
      "cell_type": "code",
      "metadata": {
        "colab": {
          "base_uri": "https://localhost:8080/"
        },
        "id": "67tz9B98Lxsx",
        "outputId": "52435cfe-a214-44fe-eff1-37bc92c41f3d"
      },
      "source": [
        "len(files)"
      ],
      "execution_count": null,
      "outputs": [
        {
          "output_type": "execute_result",
          "data": {
            "text/plain": [
              "20"
            ]
          },
          "metadata": {
            "tags": []
          },
          "execution_count": 11
        }
      ]
    },
    {
      "cell_type": "markdown",
      "metadata": {
        "id": "NMOudIDbOTju"
      },
      "source": [
        "files: It represents file names of all 20 Newsgroup"
      ]
    },
    {
      "cell_type": "markdown",
      "metadata": {
        "id": "AihWjH52OocH"
      },
      "source": [
        "Here these are top 10 file names of Newsgroup 'talk.politics.guns'"
      ]
    },
    {
      "cell_type": "code",
      "metadata": {
        "colab": {
          "base_uri": "https://localhost:8080/"
        },
        "id": "tWjtDxhFLbFN",
        "outputId": "3a5f68c6-a4bf-488b-abe6-2b09c9672bb0"
      },
      "source": [
        "files[0][:10]"
      ],
      "execution_count": null,
      "outputs": [
        {
          "output_type": "execute_result",
          "data": {
            "text/plain": [
              "['54665',\n",
              " '54664',\n",
              " '54645',\n",
              " '54672',\n",
              " '54662',\n",
              " '54663',\n",
              " '54227',\n",
              " '54673',\n",
              " '54122',\n",
              " '54116']"
            ]
          },
          "metadata": {
            "tags": []
          },
          "execution_count": 11
        }
      ]
    },
    {
      "cell_type": "code",
      "metadata": {
        "colab": {
          "base_uri": "https://localhost:8080/",
          "height": 35
        },
        "id": "Tn43V8bdLiOg",
        "outputId": "a41e092f-7d20-4ff6-adb7-cd15674f8333"
      },
      "source": [
        "folders[0]"
      ],
      "execution_count": null,
      "outputs": [
        {
          "output_type": "execute_result",
          "data": {
            "application/vnd.google.colaboratory.intrinsic+json": {
              "type": "string"
            },
            "text/plain": [
              "'talk.politics.guns'"
            ]
          },
          "metadata": {
            "tags": []
          },
          "execution_count": 12
        }
      ]
    },
    {
      "cell_type": "code",
      "metadata": {
        "colab": {
          "base_uri": "https://localhost:8080/"
        },
        "id": "O6yU35bJL0zh",
        "outputId": "b29832e5-5286-4df4-b52f-2d80890f08a0"
      },
      "source": [
        "for i in range(20):\n",
        "  each_file_len=len(files[i])\n",
        "  print(\"Folder %dth: %d files\"%(i+1,each_file_len))"
      ],
      "execution_count": null,
      "outputs": [
        {
          "output_type": "stream",
          "text": [
            "Folder 1th: 1000 files\n",
            "Folder 2th: 1000 files\n",
            "Folder 3th: 1000 files\n",
            "Folder 4th: 1019 files\n",
            "Folder 5th: 997 files\n",
            "Folder 6th: 1000 files\n",
            "Folder 7th: 1000 files\n",
            "Folder 8th: 1000 files\n",
            "Folder 9th: 1000 files\n",
            "Folder 10th: 1000 files\n",
            "Folder 11th: 1000 files\n",
            "Folder 12th: 1000 files\n",
            "Folder 13th: 1010 files\n",
            "Folder 14th: 1000 files\n",
            "Folder 15th: 1000 files\n",
            "Folder 16th: 1000 files\n",
            "Folder 17th: 1000 files\n",
            "Folder 18th: 1000 files\n",
            "Folder 19th: 1000 files\n",
            "Folder 20th: 1000 files\n"
          ],
          "name": "stdout"
        }
      ]
    },
    {
      "cell_type": "markdown",
      "metadata": {
        "id": "3-2vhiEvPAJc"
      },
      "source": [
        "input_files: Combining all files name into single datastructure\n",
        "\n",
        "input_file_names: Represents corresponding names of the Newsgroup"
      ]
    },
    {
      "cell_type": "code",
      "metadata": {
        "id": "3o9GzmmDIZm4"
      },
      "source": [
        "input_files=[]\n",
        "for i in range(len(folders)):\n",
        "  for j in files[i]:\n",
        "    input_files.append(os.path.join('20_newsgroups_dataset',os.path.join(folders[i],j)))"
      ],
      "execution_count": null,
      "outputs": []
    },
    {
      "cell_type": "code",
      "metadata": {
        "colab": {
          "base_uri": "https://localhost:8080/",
          "height": 35
        },
        "id": "iLmPbtr9HCSX",
        "outputId": "a53b819f-1a70-4436-af4d-340aec00a083"
      },
      "source": [
        "input_files[0]"
      ],
      "execution_count": null,
      "outputs": [
        {
          "output_type": "execute_result",
          "data": {
            "application/vnd.google.colaboratory.intrinsic+json": {
              "type": "string"
            },
            "text/plain": [
              "'20_newsgroups_dataset/talk.politics.guns/54665'"
            ]
          },
          "metadata": {
            "tags": []
          },
          "execution_count": 30
        }
      ]
    },
    {
      "cell_type": "code",
      "metadata": {
        "colab": {
          "base_uri": "https://localhost:8080/"
        },
        "id": "_c76e6bRJ8F2",
        "outputId": "360cfdb8-6171-47ac-b622-972cefef6f23"
      },
      "source": [
        "len(input_files)"
      ],
      "execution_count": null,
      "outputs": [
        {
          "output_type": "execute_result",
          "data": {
            "text/plain": [
              "20026"
            ]
          },
          "metadata": {
            "tags": []
          },
          "execution_count": 15
        }
      ]
    },
    {
      "cell_type": "code",
      "metadata": {
        "id": "fU5bf6XJLr5b"
      },
      "source": [
        "input_file_names=[]\n",
        "for i in range(len(folders)):\n",
        "  each_file_len=len(files[i])\n",
        "  input_file_names+=[os.path.join('20_newsgroups_dataset',folders[i])]*each_file_len\n",
        "  "
      ],
      "execution_count": null,
      "outputs": []
    },
    {
      "cell_type": "code",
      "metadata": {
        "colab": {
          "base_uri": "https://localhost:8080/",
          "height": 35
        },
        "id": "lFiuCRq3m_g-",
        "outputId": "6fde9ed6-1d46-4a48-de63-1d17451ad51c"
      },
      "source": [
        "input_file_names[0]"
      ],
      "execution_count": null,
      "outputs": [
        {
          "output_type": "execute_result",
          "data": {
            "application/vnd.google.colaboratory.intrinsic+json": {
              "type": "string"
            },
            "text/plain": [
              "'20_newsgroups_dataset/talk.politics.guns'"
            ]
          },
          "metadata": {
            "tags": []
          },
          "execution_count": 32
        }
      ]
    },
    {
      "cell_type": "code",
      "metadata": {
        "colab": {
          "base_uri": "https://localhost:8080/"
        },
        "id": "LqlSeYVmNNOd",
        "outputId": "7ab41821-55db-4a63-da98-07e84b861049"
      },
      "source": [
        "len(input_file_names)"
      ],
      "execution_count": null,
      "outputs": [
        {
          "output_type": "execute_result",
          "data": {
            "text/plain": [
              "20026"
            ]
          },
          "metadata": {
            "tags": []
          },
          "execution_count": 33
        }
      ]
    },
    {
      "cell_type": "markdown",
      "metadata": {
        "id": "H0-J8NkuPwDL"
      },
      "source": [
        "Lets try to read a single file "
      ]
    },
    {
      "cell_type": "code",
      "metadata": {
        "id": "b3ylHlrFJ-dm"
      },
      "source": [
        "f=open(input_files[0],'r')\n",
        "input_file_0_str=f.read()"
      ],
      "execution_count": null,
      "outputs": []
    },
    {
      "cell_type": "code",
      "metadata": {
        "colab": {
          "base_uri": "https://localhost:8080/",
          "height": 222
        },
        "id": "EDxoteK1Nsqi",
        "outputId": "5bc94d54-8cfb-40a0-d2b0-89d8c3febbde"
      },
      "source": [
        "input_file_0_str"
      ],
      "execution_count": null,
      "outputs": [
        {
          "output_type": "execute_result",
          "data": {
            "application/vnd.google.colaboratory.intrinsic+json": {
              "type": "string"
            },
            "text/plain": [
              "'Path: cantaloupe.srv.cs.cmu.edu!crabapple.srv.cs.cmu.edu!fs7.ece.cmu.edu!europa.eng.gtefsd.com!darwin.sura.net!uvaarpa!clem!clem!news\\nFrom: jmd@cube.handheld.com (Jim De Arras)\\nNewsgroups: talk.politics.guns\\nSubject: Re: BATF/FBI Murders Almost Everyone in Waco Today! 4/19\\nDate: 21 Apr 1993 12:56:03 GMT\\nOrganization: Hand Held Products, Inc.\\nLines: 138\\nDistribution: world\\nMessage-ID: <1r3g93INN2m9@clem.handheld.com>\\nReferences: <C5tLxr.1xq@news.udel.edu>\\nNNTP-Posting-Host: dale.handheld.com\\n\\nIn article <C5tLxr.1xq@news.udel.edu> roby@chopin.udel.edu (Scott W Roby)  \\nwrites:\\n> In article <1r21g2INNeah@clem.handheld.com> jmd@cube.handheld.com (Jim De  \\nArras) writes:\\n> >In article <C5sou8.LnB@news.udel.edu> roby@chopin.udel.edu (Scott W Roby)  \\n> >writes:\\n> >> In article <1993Apr20.163730.16128@guinness.idbsu.edu>  \\nbetz@gozer.idbsu.edu  \\n> >(Andrew Betz) writes:\\n> >> >In article <C5rynw.Iz8@news.udel.edu> roby@chopin.udel.edu (Scott W Roby)  \\n> >writes:\\n> >> >>And I suppose the FBI also prevented them from coming out with their \\n> >> >>hands up while national tv cameras watch.\\n> >> >>\\n> >> >Watch from where?  Two miles away?  Far enough away that whatever\\n> >> >really happenned must be explained through the vengeful filter of\\n> >> >a humiliated agency that said (quote!) \"Enough is enough.\"\\n> >> \\n> >> Please tell me what you think would have happened had the people \\n> >> come out with their hands up several weeks ago.\\n> >> \\n> >It didn\\'t happen.\\n> \\n> And who is responsible for it not happening?\\n> Certainly not the children.  Koresh was calling the shots.  He was \\n> talking with his lawyer and the FBI.  Since others were released safely, \\n> there is no sane reason for keeping the children inside the compound.\\n> \\n\\nThe FBI and Koresh were calling the shots.  And there were very sane reasons  \\nfor keeping the children, if they let them go, the parents would NEVER see them  \\nagain.  That is not an easy choice, in spite of you cold attitude about it.\\n\\n> >> >>scenario that is simplest and most plausible.  I do not generally \\n> >> >>believe in conspiracy theories that involve complicated and unlikely \\n> >> >>scenarios.\\n> >> >\\n> >> >The FBI sent letters to Martin Luther King\\'s wife insinuating\\n> >> >that MLK was having an affair!  Again, please tell us exactly\\n> >> >how much you trust our supposedly benevolent government.\\n> >> \\n> >> More than someone who would not release children from the compound.\\n> >> \\n> >Obviously.  You are an authority worshiper.\\n> \\n> Not at all.  Are you a Koresh worshiper?\\n\\nI am a constitution worshiper.  You quite obviously eat anything the  \\nauthorities feed you, without doubt, which makes you no different that a Koresh  \\nworshiper\\n\\n> \\n> >> I.e., more than David Koresh/Vernon Howell/\"Jesus Christ\".\\n> >> I saw lengthy excerpts from an Australian documentary made in \\n> >> 1992 that clearly showed that this was a cult.\\n> >\\n> >Give me a camera, and time with you, and I can present excerpts that show  \\nyou  \\n> >to be a cult leader.  Guarenteed. \\n> \\n> Thanks for my laugh of the day!  Definitely a very silly supposition.\\n> \\nIf you do not believe this, you are truly naive.  It is not only possible, it  \\nis easy.  I worked in the broadcast profession, at a network station, in the  \\nlate 70s, I know what I\\'m saying here.  Embarrasing footage is easy to get, add  \\na little sinister music, and the right voice-over, and I\\'ll have you mother  \\nagreeing to commit you.\\n\\n> >You should at least view the whole  \\n> >documentary before you claim it as a source.\\n> \\n> I would if I could.  The news show that showed the lengthy excerpts also \\n> had interviews with the filmmaker who made the documentary who basically \\n> confirmed what was shown in the excerpts from the time he spent at the \\n> compound in 1992.\\n> \\nThe news shows were looking for excerpts which backed their position.  Do you  \\nthink they would show excerpts which disproved their points?\\n\\n> >> I am not pleased with the BATF handling of the affair.  I think they \\n> >> bungled it badly from the start.  But I don\\'t think they are \\n> >> responsible for the fire, which started in two different places.\\n> >\\n> >Two places, eh?  You saw this?  Or did the wonderful FBI tell you this?  \\n> >I saw one place.\\n> \\n> I believe that this was reported by local radio reporters on site.\\n> A fire started in a three story tower at the same time as the two \\n> story window shown on the tv coverage.\\n> \\nThe reports of multi-starts came solely from the FBI.  Anyone observing the  \\nfire from the available video would be hard pressed to see more than one point  \\nof fire.  Which spread across the compound as a uniform rate.\\n\\n> >> >>The BATF is by no means devoid of fault in the handling of this affair.\\n> >> >>But to suggest that they may have intentionally started the fire is \\n> >> >>ludicrous.\\n> >> >\\n> >> >I suspect that there were plenty of camerapeople willing to\\n> >> >risk small arms fire to get some good footage.  These people\\n> >> >were told to get the hell out of camera range.  Why?\\n> >\\n> >Couldn\\'t answer this one, eh?  This is the most important question of all,  \\nit  \\n> >is the root cause of all the other suspicion.\\n> \\n> I thought about mentioning how Reagan and the military treated the press \\n> in Grenada and how that set the precedent, but decided it wasn\\'t worthy \\n> of discussion.  If the news reporter got shot, you can bet his family \\n> would sue the government for letting him into the danger area.\\n\\nNo reported has ever sued the government for such a situation.  They know the  \\ndangers.  Remember, the BATF invited the initial coverage. And how about a  \\nsimple, remote-controlled, camera or two?  There were ways to provide media  \\naccess.  The FBI obviously just didn\\'t want any.\\n\\n> \\n> The root cause of suspicion in my mind is why 100 people wouldn\\'t flee \\n> a building that had numerous exits during the 30 minutes time it took \\n> to burn down.  Or why didn\\'t they flee hours earlier when the tear gas was \\n> first introduced?  I can find no rational explanation for their behavior.\\n> \\nI can find several.  Tear gas and smoke making it impossible to remove the  \\nbarricades.  Flames blocking exits to the saferooms. Perhaps the gun shots were  \\nfrom the FBI, keeping them pinned in?  Who knows?\\n\\n> -- \\n> \\n\\nJim\\n--\\njmd@handheld.com\\n-------------------------------------------------------------------------------\\n\"I\\'m always rethinking that.  There\\'s never been a day when I haven\\'t rethought  \\nthat.  But I can\\'t do that by myself.\"  Bill Clinton  6 April 93\\n\"If I were an American, as I am an Englishman, while a foreign troop was landed  \\nin my country, I never would lay down my arms,-never--never--never!\"\\nWILLIAM PITT, EARL OF CHATHAM 1708-1778 18 Nov. 1777\\n'"
            ]
          },
          "metadata": {
            "tags": []
          },
          "execution_count": 17
        }
      ]
    },
    {
      "cell_type": "code",
      "metadata": {
        "colab": {
          "base_uri": "https://localhost:8080/"
        },
        "id": "5rgNZNWOnW-Y",
        "outputId": "85780113-9634-4ae3-f168-19ed9bd3a765"
      },
      "source": [
        "len(input_file_0_str)"
      ],
      "execution_count": null,
      "outputs": [
        {
          "output_type": "execute_result",
          "data": {
            "text/plain": [
              "6703"
            ]
          },
          "metadata": {
            "tags": []
          },
          "execution_count": 18
        }
      ]
    },
    {
      "cell_type": "markdown",
      "metadata": {
        "id": "TVtNgUHYN6ea"
      },
      "source": [
        "Lets read all files and store in into input_files_str"
      ]
    },
    {
      "cell_type": "code",
      "metadata": {
        "id": "4-mddKndN5Rn"
      },
      "source": [
        "input_files_str=[]"
      ],
      "execution_count": null,
      "outputs": []
    },
    {
      "cell_type": "markdown",
      "metadata": {
        "id": "Pdzb3dy2P5u3"
      },
      "source": [
        "As following commented process takes huge amount of time, as it reads these 20K files, therefore I have saved the variable into numpy file. The variable containts the content of each file. "
      ]
    },
    {
      "cell_type": "code",
      "metadata": {
        "id": "R5_zRu2qN5Ls"
      },
      "source": [
        "\"\"\"for i in input_files:\n",
        "  f=open(i,'rb')\n",
        "  input_files_str.append(f.read())\"\"\""
      ],
      "execution_count": null,
      "outputs": []
    },
    {
      "cell_type": "code",
      "metadata": {
        "colab": {
          "base_uri": "https://localhost:8080/"
        },
        "id": "bvA6EscGp1dx",
        "outputId": "32241162-60d4-4891-ddf6-3e78033d51e3"
      },
      "source": [
        "\"\"\"input_files_str[0:10]\"\"\""
      ],
      "execution_count": null,
      "outputs": [
        {
          "output_type": "execute_result",
          "data": {
            "text/plain": [
              "[b'Path: cantaloupe.srv.cs.cmu.edu!crabapple.srv.cs.cmu.edu!fs7.ece.cmu.edu!europa.eng.gtefsd.com!darwin.sura.net!uvaarpa!clem!clem!news\\nFrom: jmd@cube.handheld.com (Jim De Arras)\\nNewsgroups: talk.politics.guns\\nSubject: Re: BATF/FBI Murders Almost Everyone in Waco Today! 4/19\\nDate: 21 Apr 1993 12:56:03 GMT\\nOrganization: Hand Held Products, Inc.\\nLines: 138\\nDistribution: world\\nMessage-ID: <1r3g93INN2m9@clem.handheld.com>\\nReferences: <C5tLxr.1xq@news.udel.edu>\\nNNTP-Posting-Host: dale.handheld.com\\n\\nIn article <C5tLxr.1xq@news.udel.edu> roby@chopin.udel.edu (Scott W Roby)  \\nwrites:\\n> In article <1r21g2INNeah@clem.handheld.com> jmd@cube.handheld.com (Jim De  \\nArras) writes:\\n> >In article <C5sou8.LnB@news.udel.edu> roby@chopin.udel.edu (Scott W Roby)  \\n> >writes:\\n> >> In article <1993Apr20.163730.16128@guinness.idbsu.edu>  \\nbetz@gozer.idbsu.edu  \\n> >(Andrew Betz) writes:\\n> >> >In article <C5rynw.Iz8@news.udel.edu> roby@chopin.udel.edu (Scott W Roby)  \\n> >writes:\\n> >> >>And I suppose the FBI also prevented them from coming out with their \\n> >> >>hands up while national tv cameras watch.\\n> >> >>\\n> >> >Watch from where?  Two miles away?  Far enough away that whatever\\n> >> >really happenned must be explained through the vengeful filter of\\n> >> >a humiliated agency that said (quote!) \"Enough is enough.\"\\n> >> \\n> >> Please tell me what you think would have happened had the people \\n> >> come out with their hands up several weeks ago.\\n> >> \\n> >It didn\\'t happen.\\n> \\n> And who is responsible for it not happening?\\n> Certainly not the children.  Koresh was calling the shots.  He was \\n> talking with his lawyer and the FBI.  Since others were released safely, \\n> there is no sane reason for keeping the children inside the compound.\\n> \\n\\nThe FBI and Koresh were calling the shots.  And there were very sane reasons  \\nfor keeping the children, if they let them go, the parents would NEVER see them  \\nagain.  That is not an easy choice, in spite of you cold attitude about it.\\n\\n> >> >>scenario that is simplest and most plausible.  I do not generally \\n> >> >>believe in conspiracy theories that involve complicated and unlikely \\n> >> >>scenarios.\\n> >> >\\n> >> >The FBI sent letters to Martin Luther King\\'s wife insinuating\\n> >> >that MLK was having an affair!  Again, please tell us exactly\\n> >> >how much you trust our supposedly benevolent government.\\n> >> \\n> >> More than someone who would not release children from the compound.\\n> >> \\n> >Obviously.  You are an authority worshiper.\\n> \\n> Not at all.  Are you a Koresh worshiper?\\n\\nI am a constitution worshiper.  You quite obviously eat anything the  \\nauthorities feed you, without doubt, which makes you no different that a Koresh  \\nworshiper\\n\\n> \\n> >> I.e., more than David Koresh/Vernon Howell/\"Jesus Christ\".\\n> >> I saw lengthy excerpts from an Australian documentary made in \\n> >> 1992 that clearly showed that this was a cult.\\n> >\\n> >Give me a camera, and time with you, and I can present excerpts that show  \\nyou  \\n> >to be a cult leader.  Guarenteed. \\n> \\n> Thanks for my laugh of the day!  Definitely a very silly supposition.\\n> \\nIf you do not believe this, you are truly naive.  It is not only possible, it  \\nis easy.  I worked in the broadcast profession, at a network station, in the  \\nlate 70s, I know what I\\'m saying here.  Embarrasing footage is easy to get, add  \\na little sinister music, and the right voice-over, and I\\'ll have you mother  \\nagreeing to commit you.\\n\\n> >You should at least view the whole  \\n> >documentary before you claim it as a source.\\n> \\n> I would if I could.  The news show that showed the lengthy excerpts also \\n> had interviews with the filmmaker who made the documentary who basically \\n> confirmed what was shown in the excerpts from the time he spent at the \\n> compound in 1992.\\n> \\nThe news shows were looking for excerpts which backed their position.  Do you  \\nthink they would show excerpts which disproved their points?\\n\\n> >> I am not pleased with the BATF handling of the affair.  I think they \\n> >> bungled it badly from the start.  But I don\\'t think they are \\n> >> responsible for the fire, which started in two different places.\\n> >\\n> >Two places, eh?  You saw this?  Or did the wonderful FBI tell you this?  \\n> >I saw one place.\\n> \\n> I believe that this was reported by local radio reporters on site.\\n> A fire started in a three story tower at the same time as the two \\n> story window shown on the tv coverage.\\n> \\nThe reports of multi-starts came solely from the FBI.  Anyone observing the  \\nfire from the available video would be hard pressed to see more than one point  \\nof fire.  Which spread across the compound as a uniform rate.\\n\\n> >> >>The BATF is by no means devoid of fault in the handling of this affair.\\n> >> >>But to suggest that they may have intentionally started the fire is \\n> >> >>ludicrous.\\n> >> >\\n> >> >I suspect that there were plenty of camerapeople willing to\\n> >> >risk small arms fire to get some good footage.  These people\\n> >> >were told to get the hell out of camera range.  Why?\\n> >\\n> >Couldn\\'t answer this one, eh?  This is the most important question of all,  \\nit  \\n> >is the root cause of all the other suspicion.\\n> \\n> I thought about mentioning how Reagan and the military treated the press \\n> in Grenada and how that set the precedent, but decided it wasn\\'t worthy \\n> of discussion.  If the news reporter got shot, you can bet his family \\n> would sue the government for letting him into the danger area.\\n\\nNo reported has ever sued the government for such a situation.  They know the  \\ndangers.  Remember, the BATF invited the initial coverage. And how about a  \\nsimple, remote-controlled, camera or two?  There were ways to provide media  \\naccess.  The FBI obviously just didn\\'t want any.\\n\\n> \\n> The root cause of suspicion in my mind is why 100 people wouldn\\'t flee \\n> a building that had numerous exits during the 30 minutes time it took \\n> to burn down.  Or why didn\\'t they flee hours earlier when the tear gas was \\n> first introduced?  I can find no rational explanation for their behavior.\\n> \\nI can find several.  Tear gas and smoke making it impossible to remove the  \\nbarricades.  Flames blocking exits to the saferooms. Perhaps the gun shots were  \\nfrom the FBI, keeping them pinned in?  Who knows?\\n\\n> -- \\n> \\n\\nJim\\n--\\njmd@handheld.com\\n-------------------------------------------------------------------------------\\n\"I\\'m always rethinking that.  There\\'s never been a day when I haven\\'t rethought  \\nthat.  But I can\\'t do that by myself.\"  Bill Clinton  6 April 93\\n\"If I were an American, as I am an Englishman, while a foreign troop was landed  \\nin my country, I never would lay down my arms,-never--never--never!\"\\nWILLIAM PITT, EARL OF CHATHAM 1708-1778 18 Nov. 1777\\n',\n",
              " b'Xref: cantaloupe.srv.cs.cmu.edu talk.politics.guns:54664 talk.politics.misc:179045 alt.drugs:45854 alt.conspiracy:21908\\nNewsgroups: talk.politics.guns,talk.politics.misc,alt.drugs,alt.conspiracy\\nPath: cantaloupe.srv.cs.cmu.edu!crabapple.srv.cs.cmu.edu!bb3.andrew.cmu.edu!news.sei.cmu.edu!cis.ohio-state.edu!zaphod.mps.ohio-state.edu!cs.utexas.edu!sdd.hp.com!apollo.hp.com!netnews\\nFrom: nelson_p@apollo.hp.com (Peter Nelson)\\nSubject: Re: Proof of the Viability of Gun Control\\nSender: usenet@apollo.hp.com (Usenet News)\\nMessage-ID: <C5u51G.43@apollo.hp.com>\\nDate: Wed, 21 Apr 1993 13:20:03 GMT\\nReferences: <C5sBJ5.3Kp@apollo.hp.com> <1993Apr20.224730.2098@hpcvaac.cv.hp.com>\\nNntp-Posting-Host: c.ch.apollo.hp.com\\nOrganization: Hewlett-Packard Corporation, Chelmsford, MA\\nLines: 24\\n\\nIn article <1993Apr20.224730.2098@hpcvaac.cv.hp.com> billn@hpcvaac.cv.hp.com (bill nelson) writes:\\n\\n>:   My comments were directed against those who see these sorts\\n>:   of incidents as proof that rights as we know them are about to \\n>:   vanish.\\n>\\n>Many rights have disappeared. For example, the right to destroy your\\n>own body in any way you desire (as long as you do not injure others\\n>or their property in the process) is just about gone.\\n\\n  And what\\'s your evidence that you had more such rights in 1932?\\n\\n  In those days people were ROUTINELY sent off to the county home\\n  for the feeble-minded/confused if they showed the slightest weirdness.\\n  Remember all the jokes people used to make about \"the guys in the\\n  white coats and the big butterfly net\" coming to \"take you away\"?\\n\\n  That sort of thing used to really happen.  Nowadays you can be a\\n  total loon and end up living, and dying, on the street.   \\n\\n\\n---peter\\n\\n\\n',\n",
              " b\"Xref: cantaloupe.srv.cs.cmu.edu talk.politics.guns:54645 soc.culture.usa:13858 alt.rush-limbaugh:23766\\nPath: cantaloupe.srv.cs.cmu.edu!crabapple.srv.cs.cmu.edu!fs7.ece.cmu.edu!europa.eng.gtefsd.com!darwin.sura.net!haven.umd.edu!uunet!pipex!uknet!strath-cs!str-ccsun!dct.ac.uk!ccdarg\\nFrom: ccdarg@dct.ac.uk (Alan Greig)\\nNewsgroups: talk.politics.guns,soc.culture.usa,alt.rush-limbaugh\\nSubject: Re: ATF BURNS DIVIDIAN RANCH! NO SURVIVORS!!!\\nMessage-ID: <1993Apr21.113421.5309@dct.ac.uk>\\nDate: 21 Apr 93 11:34:21 +0100\\nReferences: <93109.13404334AEJ7D@CMUVM.BITNET> <C5stLG.Fwq@news.cso.uiuc.edu>\\nOrganization: Dundee Institute of Technology\\nLines: 19\\n\\nIn article <C5stLG.Fwq@news.cso.uiuc.edu>, irvine@uxh.cso.uiuc.edu (Brent Irvine) writes:\\n\\n> Sorry, guy, you got it wrong.  ATF was pumping tear gas into the compound.\\n> The Branch Davidians (going along with their apocolyptic faith) set their\\n> own compound on fire killing all but 9 or so.  No children survived.\\n\\nSeeing as how people are willing to quote the FBI quoting cultists\\nwho just yesterday were deranged and not to be trusted (hmm the FBI\\nor the cultists...) I think I'll quote the BBC quoting (actually voice\\ninterview) one of the two British survivors. He claimed that the fire\\nstarted when the tanks caused an internal wooden wall/roof to collapse\\nknocking over kerosene lamps and that they had no suicide plan.\\n\\nMaybe true, partly true, or false.\\n-- \\nAlan Greig                            Janet: A.Greig@uk.ac.dct\\nDundee Institute of Technology\\t   Internet: A.Greig@dct.ac.uk\\nTel: (0382) 308810                 (Int +44 382 308810)\\n         ** Never underestimate the power of human stupidity **\\n\",\n",
              " b'Path: cantaloupe.srv.cs.cmu.edu!crabapple.srv.cs.cmu.edu!fs7.ece.cmu.edu!europa.eng.gtefsd.com!howland.reston.ans.net!zaphod.mps.ohio-state.edu!menudo.uh.edu!usenet\\nFrom: HADCRJAM@admin.uh.edu (MILLER, JIMMY A.)\\nNewsgroups: talk.politics.guns\\nSubject: Re: ATF BURNS DIVIDIAN RANCH! NO SURVIVORS!!!\\nDate: 21 Apr 1993 13:43:48 GMT\\nOrganization: University of Houston Administrative Computing\\nLines: 44\\nDistribution: world\\nMessage-ID: <1r3j2k$da2@menudo.uh.edu>\\nReferences: <93109.13404334AEJ7D@CMUVM.BITNET> <1r19tp$5em@bigboote.WPI.EDU> <1r1j3n$4t@transfer.stratus.com> <1r2cat$5a9@geraldo.cc.utexas.edu>\\nNNTP-Posting-Host: uhad2.admin.uh.edu\\nX-News-Reader: VMS NEWS 1.24\\nIn-Reply-To: mikey@ccwf.cc.utexas.edu\\'s message of 21 Apr 1993 02:42:37 GMT\\n\\nIn <1r2cat$5a9@geraldo.cc.utexas.edu> mikey@ccwf.cc.utexas.edu writes:\\n\\n> cdt@sw.stratus.com (C. D. Tavares) writes:\\n> :mfrhein@wpi.WPI.EDU (Michael Frederick Rhein) writes:\\n> :\\n> :> As someone else has pointed out, why would the stove be in use on a warm day\\n> :> in Texas. \\n> :\\n> :Do YOU eat all your food cold?\\n> \\n> Thank you for pointing out the obvious to people who so clearly missed it.\\n> I can\\'t stand it when people\\'s first reaction is to defend the aggressor.\\n\\n  Minor quibble:  The assualt (and it was one) began near dawn.  The fire did\\nnot break out for several hours.  I find it highly unlikely that the BD would\\nbe cooking lunch while armored vehicles punch holes in their house and are\\npumping in tear gas.  The lantern story makes more sense, except the fire \\nseemed to spread too quickly, even given the nature of the buildings and the\\nvery high winds.  And it was daylight, but I guess in the innner recesses it\\ncould be dark--shutters probably closed as well.\\n\\n  Which puts us back to the FBI did it, or the BD did it, or some other screw-\\nup occured, which is quite possible.\\n\\n  The problem with the FBI as a monolithic entity doing it is that it requires\\n*everybody* involved to keep their mouths shut.  While they tended to behave \\nlike total idiots, that does not make them homocidal maniacs, either.  And if\\nit was one nutcase agent, then it serves no purpose to blame the whole agency.\\n\\n  I can believe that a real nut-case like a Koresh would start such a fire,\\nbut I\\'m far from convinced he actually did so.\\n\\n  Then again, I rarely go off making blanket condemnations and pronouncments\\nwithin 2 hours of a very confusing incident over 175 miles away...\\n\\nsemper fi,\\n\\nJammer Jim Miller \\nTexas A&M University \\'89 and \\'91\\n________________________________________________________________________________\\n I don\\'t speak for UH, which is too bad, because they could use the help.     \\n\"Become one with the Student Billing System. *BE* the Student Billing System.\"\\n \"Power finds its way to those who take a stand.  Stand up, Ordinary Man.\"    \\n      ---Rik Emmet, Gil Moore, Mike Levine: Triumph \\t\\t              \\n',\n",
              " b'Path: cantaloupe.srv.cs.cmu.edu!crabapple.srv.cs.cmu.edu!fs7.ece.cmu.edu!europa.eng.gtefsd.com!darwin.sura.net!dtix.dt.navy.mil!mimsy!andrew.cmu.edu\\nFrom: se08+@andrew.cmu.edu (Seth Adam Eliot)\\nNewsgroups: talk.politics.guns\\nSubject: reference needed....\\nMessage-ID: <sfp_ZKe00UhWMAIkYl@andrew.cmu.edu>\\nDate: 21 Apr 93 13:22:32 GMT\\nSender: magnum@mimsy.umd.edu\\nOrganization: Doctoral student, Materials Science and Engineering, Carnegie Mellon, Pittsburgh, PA\\nLines: 22\\nApproved: gun-control@cs.umd.edu\\n\\n\\nDoes anybody have any solid data on how many legally owned versus\\nillegally owned firearms are used in crime.  I know the number of\\nlegally owned guns used in crime is small, but I would like a number,\\nand a reference if possible.\\n\\nData should be e-mailed to me.\\nOpen discussion should be directed to talk.politics.guns\\n\\n-Seth\\n\\n__________________________________________________________________________\\n[unlike cats] dogs NEVER scratch you when you wash them. They just\\nbecome very sad and try to figure out what they did wrong. -Dave Barry\\n           \\nSeth Eliot                    Dept of Material Science and Engineering\\n                              Carnegie Mellon Univerity,   Pittsburgh, PA\\nARPA    :eliot+@cmu.edu       |------------------------------------------\\n   or    se08+@andrew.cmu.edu |\\nBitnet:  se08%andrew@cmccvb   |      \\n------------------------------|\\n\\n',\n",
              " b\"Xref: cantaloupe.srv.cs.cmu.edu rec.guns:39530 talk.politics.guns:54663\\nPath: cantaloupe.srv.cs.cmu.edu!crabapple.srv.cs.cmu.edu!fs7.ece.cmu.edu!europa.eng.gtefsd.com!darwin.sura.net!dtix.dt.navy.mil!mimsy!mcimail.com\\nFrom: 0005111312@mcimail.com (Peter Nesbitt)\\nNewsgroups: rec.guns,talk.politics.guns\\nSubject: Need Senate Bill numbers and House Resolution numbers\\nMessage-ID: <53930421052235/0005111312NA3EM@mcimail.com>\\nDate: 21 Apr 93 13:23:06 GMT\\nSender: magnum@mimsy.umd.edu\\nFollowup-To: talk.politics.guns\\nLines: 30\\nApproved: gun-control@cs.umd.edu\\n\\nSorry for posting this here, but noone has replied to my post from the politics\\nside of the group.\\n\\nI want to get involved in the fight to save our gun rights.  But first, I need\\nto get a little more educated.  I've been reading all the magzines and books I\\ncan get my hands on, and sifting through hundreds of messages here in the \\nInternet.\\n\\nI want to obtain a COMPLETE list of Senate Bill and House Resolution\\nnames/numbers.\\n\\nCan anyone tell me how/where to obtain this info?  Surely there has to be a\\nway to obtain copies of anti-gun legislation from those *&%$#@'s in Washington.\\n\\nAny help is appreciated.\\n\\n/-----------------------------------------------------------------------------\\\\\\n\\n| Peter D. Nesbitt |     Air Traffic Controller     | PNESBITT@MCIMAIL.COM    |\\n\\n|                  |       Oakland Bay TRACON       |                         |\\n\\n|-----------------------------------------------------------------------------|\\n\\n|  CBR600F2 Pilot  |       NRA Member CCX1380F      |  S&W .41 Magnum Carrier |\\n\\n\\\\-----------------------------------------------------------------------------/\\n\\n\\n\\n\",\n",
              " b'Xref: cantaloupe.srv.cs.cmu.edu rec.backcountry:30908 talk.politics.guns:54227\\nNewsgroups: rec.backcountry,talk.politics.guns\\nPath: cantaloupe.srv.cs.cmu.edu!das-news.harvard.edu!noc.near.net!howland.reston.ans.net!agate!headwall.Stanford.EDU!CSD-NewsHost.Stanford.EDU!SAIL.Stanford.EDU!andy\\nFrom: andy@SAIL.Stanford.EDU (Andy Freeman)\\nSubject: Re: Insane Gun-toting Wackos Unite!!!\\nMessage-ID: <1993Apr15.195910.28806@CSD-NewsHost.Stanford.EDU>\\nFollowup-To: talk.politics.guns\\nSender: news@CSD-NewsHost.Stanford.EDU\\nOrganization: Computer Science Department,  Stanford University.\\nReferences: <13633@sail.LABS.TEK.COM> <1576@heimdall.sdrc.com>\\nDistribution: na\\nDate: Thu, 15 Apr 1993 19:59:10 GMT\\nLines: 38\\n\\nIn article <1576@heimdall.sdrc.com> crrob@sony1.sdrc.com (Rob Davis) writes:\\n> Do you know how many deaths each year are caused by self-inflicted gun-\\n> shot wounds by people wearing thigh holsters?\\n\\nNo, but I have several other breakdowns of accidental shootings.\\nI\\'ve never seen one that specifically provides the info that Davis insists\\nthat he has, so I\\'d love to have a cite.\\n\\n>If you fall, for example,\\n> and land on the handgun or cause a sudden blow, the gun will discharge.\\n\\nWrong.  There\\'s one gun design where that can happen, and it is\\nsupposed to be carried with the hammer over an unloaded chamber.\\n(Cocking the gun turns the cylinder so that a loaded cylinder is under\\nthe hammer.  In other words, it can be usefully carried in a safe\\nmanner.)  Other handgun designs don\\'t have that property; if their\\ntrigger isn\\'t pulled, the hammer can\\'t hit the firing pin.\\n\\n> The number of people killed in this manner far outweighs the number of\\n> deaths caused by animal attacks or \"wacko\" attacks combined.\\n\\nThe breakdowns that I do have include the above category.  From them I\\ncan safely say that if Davis is right in ALL of his claims, a large\\nnegative number of people are killed by animals, because we know that\\nthe number of killings by wackos is reasonably large and that the\\nnumber of accidents due to gun failures (which is a superset of the\\ndescribed circumstance) is near zero.\\n\\n>I can find the figures if you don\\'t believe me.\\n\\nPlease do.  Include a cite for those of us who like looking at\\ncontext.  Make sure that your source excludes other types of\\naccidents and suicides that are misreported.  (\"Gun cleaning\\naccident\" is police-speak for \"the family needs the insurance\\nmoney.\")\\n\\n-andy\\n--\\n',\n",
              " b'Xref: cantaloupe.srv.cs.cmu.edu talk.religion.misc:83955 talk.politics.guns:54673 soc.culture.jewish:63371\\nNewsgroups: talk.religion.misc,talk.politics.guns,soc.culture.jewish\\nPath: cantaloupe.srv.cs.cmu.edu!crabapple.srv.cs.cmu.edu!fs7.ece.cmu.edu!europa.eng.gtefsd.com!howland.reston.ans.net!agate!ames!purdue!mentor.cc.purdue.edu!pop.stat.purdue.edu!hrubin\\nFrom: hrubin@pop.stat.purdue.edu (Herman Rubin)\\nSubject: Re: Who\\'s next?  Mormons and Jews?\\nMessage-ID: <C5u57J.7DM@mentor.cc.purdue.edu>\\nSender: news@mentor.cc.purdue.edu (USENET News)\\nOrganization: Purdue University Statistics Department\\nReferences: <1qvfik$6rf@usenet.INS.CWRU.Edu> <2BD4A8F4.21802@news.service.uci.edu>\\nDate: Wed, 21 Apr 1993 13:23:42 GMT\\nLines: 39\\n\\nIn article <2BD4A8F4.21802@news.service.uci.edu> tclock@orion.oac.uci.edu (Tim Clock) writes:\\n>In article <1qvfik$6rf@usenet.INS.CWRU.Edu> cj195@cleveland.Freenet.Edu (John W. Redelfs) writes:\\n\\n>>Now that Big Brother has rubbed out one minority religion in Waco, who is\\n>>next?  The Mormons or Jews?\\n\\n>>We used to live in a country where everyone enjoyed the free exercise of\\n>>their rights to worship and bear arms.  Now we don\\'t.\\n\\n>>Of course, to Jews and Mormons this is just a broken record.  It has\\n>>happened before.\\n\\n>>I\\'ll bet all you cult haters are happy now, right?  Just hope you\\'re not next.\\n\\n\\n>I like how, as you make a point, you breeze over *any* responsibility Koresh\\n>may have had in the deaths (of the agents and/or of the cult followers- the\\n>children) and blithely ignor the *reality* that some cults ***are*** very\\n>dangerous and harmful to followers/to any that they judge \"in their w\".\\n\\nFor you, or the government, or anyone else to say what is dangerous or\\nharmful to the followers is direct interference in religion; it has been\\nused quite improperly even when nothing as drastic as Waco has happened.\\n\\nNo evidence has been presented that the Davidians have engaged in any \\nactivities harmful to others before the actions of the BATF.  On this\\nmorning\\'s news, there was an item about the BATF warrant being unsealed.\\nThat they bought $200,000 worth of LEGAL weapons has not been denied by\\nanyone.  When they were accused of harming others in the past, the local\\nsherriff had no problems in serving a warrant; our rights as free people\\nwere violated by the BATF going in shooting.  \\n\\nThis country was founded on the superiority of the rights of the individual.\\nRemember Pastor Niemoller\\'s remarks.\\n-- \\nHerman Rubin, Dept. of Statistics, Purdue Univ., West Lafayette IN47907-1399\\nPhone: (317)494-6054\\nhrubin@snap.stat.purdue.edu (Internet, bitnet)  \\n{purdue,pur-ee}!snap.stat!hrubin(UUCP)\\n',\n",
              " b'Newsgroups: talk.politics.guns\\nPath: cantaloupe.srv.cs.cmu.edu!crabapple.srv.cs.cmu.edu!fs7.ece.cmu.edu!europa.eng.gtefsd.com!emory!wupost!darwin.sura.net!martha.utcc.utk.edu!LEVIATHAN.CE.UTK.EDU!PA146008\\nFrom: PA146008@utkvm1.utk.edu (David Veal)\\nSubject: Re: My Gun is like my American Express Card\\nMessage-ID: <PA146008.713.734840700@utkvm1.utk.edu>\\nLines: 53\\nSender: usenet@martha.utcc.utk.edu (USENET News System)\\nOrganization: University of Tennessee Division of Continuing Education\\nReferences: <viking.734512792@ponderous.cc.iastate.edu>  <93103.170753U28037@uicv <16BB029C.PA146008@utkvm1.utk.edu> <93104.173826U28037@uicvm.uic.edu> <1qiebiINN1c1@cae.cad.gatech.edu>\\nDistribution: usa\\nDate: Thu, 15 Apr 1993 02:25:00 GMT\\n\\nIn article <1qiebiINN1c1@cae.cad.gatech.edu> vincent@cad.gatech.edu (Vincent Fox) writes:\\n>In <93104.173826U28037@uicvm.uic.edu> Jason Kratz <U28037@uicvm.uic.edu> writes:\\n>[deleted]\\n>>The University cops here (who are\\n>>are state cops) are armed better than the Chicago police.  It seems most\\n>>state cops are.  I don\\'t know where you are originally from David but you live\\n>>in Tennesse and I live in Chicago and see this crap everyday on the news\\n>>and in the papers.  I think the situation is just a tad different here\\n>>than there.\\n>\\n>Which crap, the ridiculous assertions that Uzis are mowing down cops\\n>right and left? The assertions that dialing 911 should be the proper\\n>and only option available to the law-abiding citizens?\\n>\\n>A factoid:\\n>\\n>56 cops were killed in the whole country last year. This is down from\\n>around 100 in the early \\'80s. Wow, a real explosion in cop killings\\n>there eh?  :-)\\n\\n        Well, if we\\'re going to discuss being a police officer in\\nAmerica today.       \\n\\n        The FBI lists 132 police officers killed (feloniously and\\naccidentally) in 1990.  That\\'s apparently everybody at all levels.\\n\\nYear        Officers killed       Rate/100,000 police officers\\n1982             164*                  47.6\\n1983             152**                 40.2\\n1984             147                   39.4\\n1985             148***                37.9\\n1986             133                   34.9\\n1987             148                   39.0\\n1988             155****               41.9\\n1989             145*****              38.1\\n1990             132                   32.0\\n\\n\\n* Includes one officer in Mariana Islands\\n** Includes one officer each in Guam and Mariana Islands\\n*** Includes one officer in Guam and two in foreign locations\\n**** Includes one officer in American Samoas and two in foreign countries\\n***** Includes one officer in Guam and one Federal officer killed in\\nPeru\\n\\n\\n       God, I love the information age!  :-) \\n\\n------------------------------------------------------------------------\\nDavid Veal Univ. of Tenn. Div. of Cont. Education Info. Services Group\\nPA146008@utkvm1.utk.edu - \"I still remember the way you laughed, the day\\nyour pushed me down the elevator shaft;  I\\'m beginning to think you don\\'t\\nlove me anymore.\" - \"Weird Al\"\\n',\n",
              " b'Path: cantaloupe.srv.cs.cmu.edu!crabapple.srv.cs.cmu.edu!bb3.andrew.cmu.edu!news.sei.cmu.edu!cis.ohio-state.edu!magnus.acs.ohio-state.edu!bgsuvax!uoft02.utoledo.edu!jupiter!steiner\\nNewsgroups: talk.politics.guns\\nSubject: Re: My Gun is like my American Express Card\\nMessage-ID: <1993Apr14.210208.3214@uoft02.utoledo.edu>\\nFrom: steiner@jupiter.cse.utoledo.edu (Jason \\'Think!\\' Steiner)\\nDate: 14 Apr 93 21:02:07 EST\\nReferences: <93104.173826U28037@uicvm.uic.edu>\\nNntp-Posting-Host: jupiter.cse.utoledo.edu\\nX-Newsreader: TIN [version 1.1 PL9]\\nLines: 58\\n\\nJason Kratz (U28037@uicvm.uic.edu) writes:\\n> PA146008@utkvm1.utk.edu (David Veal) says:\\n> >Jason Kratz <U28037@uicvm.uic.edu> writes:\\n> >\\n> >Don\\'t be silly.  Of course you can.  The police have everything \\n> >the gangs have and then some.  Plus they\\'ve got access to the \\n> >National Guard (via the Governor) if things get too rough.  That\\'s \\n> >tanks for those of you who\\'ve never seen them at play.  Of course, \\n> >they\\'ve got rifles and helicopters.\\n> >\\n> >And as far as fully-automatic weapons, you can be a lot better\\n> >armed if you want to hit what you aim at.\\n>\\n> What seems to be happening here is the situation getting totally \\n> blown out of proportion.  In my post I was referring to your \\n> regular patrolman in a car cruising around the city vs. gang \\n> members.  Of course the police have access to the things that you \\n> mentioned but do they use tanks and such all of the time?  Of \\n> course they don\\'t and that\\'s the point I was trying to make.  Every \\n> day when I go out to lunch I always see cops coming in.  The \\n> majority that I see are still carrying revolvers.  Not that there \\n> is anything wrong with a revolver but if you\\'re a cop that is up \\n> against some gang member with a couple of automatics in his coat (I \\n> mean semi-auto handguns) you\\'re going to be at a disadvantage even \\n> with training.\\n\\nhow so? i think you\\'re making assumptions here that might not \\nnecessarily be true. -my- personal choice would be a semi-auto, but \\nrevolvers are just as effective, if not more so.\\n\\n> I have been at a shooting range where gang gang members were \\n> \"practicing\" shooting.  They were actually practicing taking out \\n> their guns as quick as possible and shooting at the target and they \\n> weren\\'t doing too badly either.\\n\\nrelevancy, please? you sound shocked, but that hardly proves anything.\\n\\n> The University cops here (who are are state cops) are armed better \\n> than the Chicago police.  It seems most state cops are.  I don\\'t \\n> know where you are originally from David but you live in Tennesse \\n> and I live in Chicago and see this crap everyday on the news and in \\n> the papers.  I think the situation is just a tad different here \\n> than there.\\n\\nwait, doesn\\'t Chicago have -serious- gun control? if so, why do the\\npolice need all that firepower in the first place? (sarcasm alert)\\n\\nall the patrol cars i\\'ve seen around here have shotguns clamped to \\nthe dash board. IMHO, that\\'s all the police need to outgun just about \\nanything.\\n\\njason\\n\\n--\\n`,`,`,`,`,`,`,`,`,`,`,`,`,`,`,`,`,`,`,`,`,`,`,`,`,`,`,`,`,`,`,`,`,`,`,`,`,`\\n`,` The Crystal Wind is the Storm, and the Storm is Data, and the Data  `,`\\n`,`  is Life -- The Player\\'s Litany, from _The Long Run_ by D.K. Moran  `,`\\n`,`,`,`,`,`,`,`,`,`,`,`,`,`,`,`,`,` steiner@jupiter.cse.utoledo.edu `,`,`,`\\n']"
            ]
          },
          "metadata": {
            "tags": []
          },
          "execution_count": 39
        }
      ]
    },
    {
      "cell_type": "code",
      "metadata": {
        "colab": {
          "base_uri": "https://localhost:8080/"
        },
        "id": "yYwt9O9bxH-X",
        "outputId": "8a714057-ef82-4da9-a474-04c6a1dadb8c"
      },
      "source": [
        "\"\"\"len(input_files_str)\"\"\""
      ],
      "execution_count": null,
      "outputs": [
        {
          "output_type": "execute_result",
          "data": {
            "text/plain": [
              "20026"
            ]
          },
          "metadata": {
            "tags": []
          },
          "execution_count": 40
        }
      ]
    },
    {
      "cell_type": "code",
      "metadata": {
        "id": "GlD2wCK5HmiY"
      },
      "source": [
        "import numpy as np"
      ],
      "execution_count": null,
      "outputs": []
    },
    {
      "cell_type": "code",
      "metadata": {
        "id": "7--KqN3_IHxE"
      },
      "source": [
        "\"\"\"np.save('20_newsgroup_dataset_input_in_string',input_files_str)\"\"\"\n"
      ],
      "execution_count": null,
      "outputs": []
    },
    {
      "cell_type": "markdown",
      "metadata": {
        "id": "rmcOsOG2QoAi"
      },
      "source": [
        "Loading saved file."
      ]
    },
    {
      "cell_type": "code",
      "metadata": {
        "id": "TtNRRLhaITqU"
      },
      "source": [
        "input_files_str=np.load('20_newsgroup_dataset_input_in_string.npy')\n",
        "input_files_str=input_files_str.tolist()"
      ],
      "execution_count": null,
      "outputs": []
    },
    {
      "cell_type": "code",
      "metadata": {
        "colab": {
          "base_uri": "https://localhost:8080/"
        },
        "id": "GbCxh4WxLHFP",
        "outputId": "db00b27d-325b-46d2-b9e5-44e5d0e4cb33"
      },
      "source": [
        "input_files_str[0:10]"
      ],
      "execution_count": null,
      "outputs": [
        {
          "output_type": "execute_result",
          "data": {
            "text/plain": [
              "[b'Path: cantaloupe.srv.cs.cmu.edu!crabapple.srv.cs.cmu.edu!fs7.ece.cmu.edu!europa.eng.gtefsd.com!darwin.sura.net!uvaarpa!clem!clem!news\\nFrom: jmd@cube.handheld.com (Jim De Arras)\\nNewsgroups: talk.politics.guns\\nSubject: Re: BATF/FBI Murders Almost Everyone in Waco Today! 4/19\\nDate: 21 Apr 1993 12:56:03 GMT\\nOrganization: Hand Held Products, Inc.\\nLines: 138\\nDistribution: world\\nMessage-ID: <1r3g93INN2m9@clem.handheld.com>\\nReferences: <C5tLxr.1xq@news.udel.edu>\\nNNTP-Posting-Host: dale.handheld.com\\n\\nIn article <C5tLxr.1xq@news.udel.edu> roby@chopin.udel.edu (Scott W Roby)  \\nwrites:\\n> In article <1r21g2INNeah@clem.handheld.com> jmd@cube.handheld.com (Jim De  \\nArras) writes:\\n> >In article <C5sou8.LnB@news.udel.edu> roby@chopin.udel.edu (Scott W Roby)  \\n> >writes:\\n> >> In article <1993Apr20.163730.16128@guinness.idbsu.edu>  \\nbetz@gozer.idbsu.edu  \\n> >(Andrew Betz) writes:\\n> >> >In article <C5rynw.Iz8@news.udel.edu> roby@chopin.udel.edu (Scott W Roby)  \\n> >writes:\\n> >> >>And I suppose the FBI also prevented them from coming out with their \\n> >> >>hands up while national tv cameras watch.\\n> >> >>\\n> >> >Watch from where?  Two miles away?  Far enough away that whatever\\n> >> >really happenned must be explained through the vengeful filter of\\n> >> >a humiliated agency that said (quote!) \"Enough is enough.\"\\n> >> \\n> >> Please tell me what you think would have happened had the people \\n> >> come out with their hands up several weeks ago.\\n> >> \\n> >It didn\\'t happen.\\n> \\n> And who is responsible for it not happening?\\n> Certainly not the children.  Koresh was calling the shots.  He was \\n> talking with his lawyer and the FBI.  Since others were released safely, \\n> there is no sane reason for keeping the children inside the compound.\\n> \\n\\nThe FBI and Koresh were calling the shots.  And there were very sane reasons  \\nfor keeping the children, if they let them go, the parents would NEVER see them  \\nagain.  That is not an easy choice, in spite of you cold attitude about it.\\n\\n> >> >>scenario that is simplest and most plausible.  I do not generally \\n> >> >>believe in conspiracy theories that involve complicated and unlikely \\n> >> >>scenarios.\\n> >> >\\n> >> >The FBI sent letters to Martin Luther King\\'s wife insinuating\\n> >> >that MLK was having an affair!  Again, please tell us exactly\\n> >> >how much you trust our supposedly benevolent government.\\n> >> \\n> >> More than someone who would not release children from the compound.\\n> >> \\n> >Obviously.  You are an authority worshiper.\\n> \\n> Not at all.  Are you a Koresh worshiper?\\n\\nI am a constitution worshiper.  You quite obviously eat anything the  \\nauthorities feed you, without doubt, which makes you no different that a Koresh  \\nworshiper\\n\\n> \\n> >> I.e., more than David Koresh/Vernon Howell/\"Jesus Christ\".\\n> >> I saw lengthy excerpts from an Australian documentary made in \\n> >> 1992 that clearly showed that this was a cult.\\n> >\\n> >Give me a camera, and time with you, and I can present excerpts that show  \\nyou  \\n> >to be a cult leader.  Guarenteed. \\n> \\n> Thanks for my laugh of the day!  Definitely a very silly supposition.\\n> \\nIf you do not believe this, you are truly naive.  It is not only possible, it  \\nis easy.  I worked in the broadcast profession, at a network station, in the  \\nlate 70s, I know what I\\'m saying here.  Embarrasing footage is easy to get, add  \\na little sinister music, and the right voice-over, and I\\'ll have you mother  \\nagreeing to commit you.\\n\\n> >You should at least view the whole  \\n> >documentary before you claim it as a source.\\n> \\n> I would if I could.  The news show that showed the lengthy excerpts also \\n> had interviews with the filmmaker who made the documentary who basically \\n> confirmed what was shown in the excerpts from the time he spent at the \\n> compound in 1992.\\n> \\nThe news shows were looking for excerpts which backed their position.  Do you  \\nthink they would show excerpts which disproved their points?\\n\\n> >> I am not pleased with the BATF handling of the affair.  I think they \\n> >> bungled it badly from the start.  But I don\\'t think they are \\n> >> responsible for the fire, which started in two different places.\\n> >\\n> >Two places, eh?  You saw this?  Or did the wonderful FBI tell you this?  \\n> >I saw one place.\\n> \\n> I believe that this was reported by local radio reporters on site.\\n> A fire started in a three story tower at the same time as the two \\n> story window shown on the tv coverage.\\n> \\nThe reports of multi-starts came solely from the FBI.  Anyone observing the  \\nfire from the available video would be hard pressed to see more than one point  \\nof fire.  Which spread across the compound as a uniform rate.\\n\\n> >> >>The BATF is by no means devoid of fault in the handling of this affair.\\n> >> >>But to suggest that they may have intentionally started the fire is \\n> >> >>ludicrous.\\n> >> >\\n> >> >I suspect that there were plenty of camerapeople willing to\\n> >> >risk small arms fire to get some good footage.  These people\\n> >> >were told to get the hell out of camera range.  Why?\\n> >\\n> >Couldn\\'t answer this one, eh?  This is the most important question of all,  \\nit  \\n> >is the root cause of all the other suspicion.\\n> \\n> I thought about mentioning how Reagan and the military treated the press \\n> in Grenada and how that set the precedent, but decided it wasn\\'t worthy \\n> of discussion.  If the news reporter got shot, you can bet his family \\n> would sue the government for letting him into the danger area.\\n\\nNo reported has ever sued the government for such a situation.  They know the  \\ndangers.  Remember, the BATF invited the initial coverage. And how about a  \\nsimple, remote-controlled, camera or two?  There were ways to provide media  \\naccess.  The FBI obviously just didn\\'t want any.\\n\\n> \\n> The root cause of suspicion in my mind is why 100 people wouldn\\'t flee \\n> a building that had numerous exits during the 30 minutes time it took \\n> to burn down.  Or why didn\\'t they flee hours earlier when the tear gas was \\n> first introduced?  I can find no rational explanation for their behavior.\\n> \\nI can find several.  Tear gas and smoke making it impossible to remove the  \\nbarricades.  Flames blocking exits to the saferooms. Perhaps the gun shots were  \\nfrom the FBI, keeping them pinned in?  Who knows?\\n\\n> -- \\n> \\n\\nJim\\n--\\njmd@handheld.com\\n-------------------------------------------------------------------------------\\n\"I\\'m always rethinking that.  There\\'s never been a day when I haven\\'t rethought  \\nthat.  But I can\\'t do that by myself.\"  Bill Clinton  6 April 93\\n\"If I were an American, as I am an Englishman, while a foreign troop was landed  \\nin my country, I never would lay down my arms,-never--never--never!\"\\nWILLIAM PITT, EARL OF CHATHAM 1708-1778 18 Nov. 1777\\n',\n",
              " b'Xref: cantaloupe.srv.cs.cmu.edu talk.politics.guns:54664 talk.politics.misc:179045 alt.drugs:45854 alt.conspiracy:21908\\nNewsgroups: talk.politics.guns,talk.politics.misc,alt.drugs,alt.conspiracy\\nPath: cantaloupe.srv.cs.cmu.edu!crabapple.srv.cs.cmu.edu!bb3.andrew.cmu.edu!news.sei.cmu.edu!cis.ohio-state.edu!zaphod.mps.ohio-state.edu!cs.utexas.edu!sdd.hp.com!apollo.hp.com!netnews\\nFrom: nelson_p@apollo.hp.com (Peter Nelson)\\nSubject: Re: Proof of the Viability of Gun Control\\nSender: usenet@apollo.hp.com (Usenet News)\\nMessage-ID: <C5u51G.43@apollo.hp.com>\\nDate: Wed, 21 Apr 1993 13:20:03 GMT\\nReferences: <C5sBJ5.3Kp@apollo.hp.com> <1993Apr20.224730.2098@hpcvaac.cv.hp.com>\\nNntp-Posting-Host: c.ch.apollo.hp.com\\nOrganization: Hewlett-Packard Corporation, Chelmsford, MA\\nLines: 24\\n\\nIn article <1993Apr20.224730.2098@hpcvaac.cv.hp.com> billn@hpcvaac.cv.hp.com (bill nelson) writes:\\n\\n>:   My comments were directed against those who see these sorts\\n>:   of incidents as proof that rights as we know them are about to \\n>:   vanish.\\n>\\n>Many rights have disappeared. For example, the right to destroy your\\n>own body in any way you desire (as long as you do not injure others\\n>or their property in the process) is just about gone.\\n\\n  And what\\'s your evidence that you had more such rights in 1932?\\n\\n  In those days people were ROUTINELY sent off to the county home\\n  for the feeble-minded/confused if they showed the slightest weirdness.\\n  Remember all the jokes people used to make about \"the guys in the\\n  white coats and the big butterfly net\" coming to \"take you away\"?\\n\\n  That sort of thing used to really happen.  Nowadays you can be a\\n  total loon and end up living, and dying, on the street.   \\n\\n\\n---peter\\n\\n\\n',\n",
              " b\"Xref: cantaloupe.srv.cs.cmu.edu talk.politics.guns:54645 soc.culture.usa:13858 alt.rush-limbaugh:23766\\nPath: cantaloupe.srv.cs.cmu.edu!crabapple.srv.cs.cmu.edu!fs7.ece.cmu.edu!europa.eng.gtefsd.com!darwin.sura.net!haven.umd.edu!uunet!pipex!uknet!strath-cs!str-ccsun!dct.ac.uk!ccdarg\\nFrom: ccdarg@dct.ac.uk (Alan Greig)\\nNewsgroups: talk.politics.guns,soc.culture.usa,alt.rush-limbaugh\\nSubject: Re: ATF BURNS DIVIDIAN RANCH! NO SURVIVORS!!!\\nMessage-ID: <1993Apr21.113421.5309@dct.ac.uk>\\nDate: 21 Apr 93 11:34:21 +0100\\nReferences: <93109.13404334AEJ7D@CMUVM.BITNET> <C5stLG.Fwq@news.cso.uiuc.edu>\\nOrganization: Dundee Institute of Technology\\nLines: 19\\n\\nIn article <C5stLG.Fwq@news.cso.uiuc.edu>, irvine@uxh.cso.uiuc.edu (Brent Irvine) writes:\\n\\n> Sorry, guy, you got it wrong.  ATF was pumping tear gas into the compound.\\n> The Branch Davidians (going along with their apocolyptic faith) set their\\n> own compound on fire killing all but 9 or so.  No children survived.\\n\\nSeeing as how people are willing to quote the FBI quoting cultists\\nwho just yesterday were deranged and not to be trusted (hmm the FBI\\nor the cultists...) I think I'll quote the BBC quoting (actually voice\\ninterview) one of the two British survivors. He claimed that the fire\\nstarted when the tanks caused an internal wooden wall/roof to collapse\\nknocking over kerosene lamps and that they had no suicide plan.\\n\\nMaybe true, partly true, or false.\\n-- \\nAlan Greig                            Janet: A.Greig@uk.ac.dct\\nDundee Institute of Technology\\t   Internet: A.Greig@dct.ac.uk\\nTel: (0382) 308810                 (Int +44 382 308810)\\n         ** Never underestimate the power of human stupidity **\\n\",\n",
              " b'Path: cantaloupe.srv.cs.cmu.edu!crabapple.srv.cs.cmu.edu!fs7.ece.cmu.edu!europa.eng.gtefsd.com!howland.reston.ans.net!zaphod.mps.ohio-state.edu!menudo.uh.edu!usenet\\nFrom: HADCRJAM@admin.uh.edu (MILLER, JIMMY A.)\\nNewsgroups: talk.politics.guns\\nSubject: Re: ATF BURNS DIVIDIAN RANCH! NO SURVIVORS!!!\\nDate: 21 Apr 1993 13:43:48 GMT\\nOrganization: University of Houston Administrative Computing\\nLines: 44\\nDistribution: world\\nMessage-ID: <1r3j2k$da2@menudo.uh.edu>\\nReferences: <93109.13404334AEJ7D@CMUVM.BITNET> <1r19tp$5em@bigboote.WPI.EDU> <1r1j3n$4t@transfer.stratus.com> <1r2cat$5a9@geraldo.cc.utexas.edu>\\nNNTP-Posting-Host: uhad2.admin.uh.edu\\nX-News-Reader: VMS NEWS 1.24\\nIn-Reply-To: mikey@ccwf.cc.utexas.edu\\'s message of 21 Apr 1993 02:42:37 GMT\\n\\nIn <1r2cat$5a9@geraldo.cc.utexas.edu> mikey@ccwf.cc.utexas.edu writes:\\n\\n> cdt@sw.stratus.com (C. D. Tavares) writes:\\n> :mfrhein@wpi.WPI.EDU (Michael Frederick Rhein) writes:\\n> :\\n> :> As someone else has pointed out, why would the stove be in use on a warm day\\n> :> in Texas. \\n> :\\n> :Do YOU eat all your food cold?\\n> \\n> Thank you for pointing out the obvious to people who so clearly missed it.\\n> I can\\'t stand it when people\\'s first reaction is to defend the aggressor.\\n\\n  Minor quibble:  The assualt (and it was one) began near dawn.  The fire did\\nnot break out for several hours.  I find it highly unlikely that the BD would\\nbe cooking lunch while armored vehicles punch holes in their house and are\\npumping in tear gas.  The lantern story makes more sense, except the fire \\nseemed to spread too quickly, even given the nature of the buildings and the\\nvery high winds.  And it was daylight, but I guess in the innner recesses it\\ncould be dark--shutters probably closed as well.\\n\\n  Which puts us back to the FBI did it, or the BD did it, or some other screw-\\nup occured, which is quite possible.\\n\\n  The problem with the FBI as a monolithic entity doing it is that it requires\\n*everybody* involved to keep their mouths shut.  While they tended to behave \\nlike total idiots, that does not make them homocidal maniacs, either.  And if\\nit was one nutcase agent, then it serves no purpose to blame the whole agency.\\n\\n  I can believe that a real nut-case like a Koresh would start such a fire,\\nbut I\\'m far from convinced he actually did so.\\n\\n  Then again, I rarely go off making blanket condemnations and pronouncments\\nwithin 2 hours of a very confusing incident over 175 miles away...\\n\\nsemper fi,\\n\\nJammer Jim Miller \\nTexas A&M University \\'89 and \\'91\\n________________________________________________________________________________\\n I don\\'t speak for UH, which is too bad, because they could use the help.     \\n\"Become one with the Student Billing System. *BE* the Student Billing System.\"\\n \"Power finds its way to those who take a stand.  Stand up, Ordinary Man.\"    \\n      ---Rik Emmet, Gil Moore, Mike Levine: Triumph \\t\\t              \\n',\n",
              " b'Path: cantaloupe.srv.cs.cmu.edu!crabapple.srv.cs.cmu.edu!fs7.ece.cmu.edu!europa.eng.gtefsd.com!darwin.sura.net!dtix.dt.navy.mil!mimsy!andrew.cmu.edu\\nFrom: se08+@andrew.cmu.edu (Seth Adam Eliot)\\nNewsgroups: talk.politics.guns\\nSubject: reference needed....\\nMessage-ID: <sfp_ZKe00UhWMAIkYl@andrew.cmu.edu>\\nDate: 21 Apr 93 13:22:32 GMT\\nSender: magnum@mimsy.umd.edu\\nOrganization: Doctoral student, Materials Science and Engineering, Carnegie Mellon, Pittsburgh, PA\\nLines: 22\\nApproved: gun-control@cs.umd.edu\\n\\n\\nDoes anybody have any solid data on how many legally owned versus\\nillegally owned firearms are used in crime.  I know the number of\\nlegally owned guns used in crime is small, but I would like a number,\\nand a reference if possible.\\n\\nData should be e-mailed to me.\\nOpen discussion should be directed to talk.politics.guns\\n\\n-Seth\\n\\n__________________________________________________________________________\\n[unlike cats] dogs NEVER scratch you when you wash them. They just\\nbecome very sad and try to figure out what they did wrong. -Dave Barry\\n           \\nSeth Eliot                    Dept of Material Science and Engineering\\n                              Carnegie Mellon Univerity,   Pittsburgh, PA\\nARPA    :eliot+@cmu.edu       |------------------------------------------\\n   or    se08+@andrew.cmu.edu |\\nBitnet:  se08%andrew@cmccvb   |      \\n------------------------------|\\n\\n',\n",
              " b\"Xref: cantaloupe.srv.cs.cmu.edu rec.guns:39530 talk.politics.guns:54663\\nPath: cantaloupe.srv.cs.cmu.edu!crabapple.srv.cs.cmu.edu!fs7.ece.cmu.edu!europa.eng.gtefsd.com!darwin.sura.net!dtix.dt.navy.mil!mimsy!mcimail.com\\nFrom: 0005111312@mcimail.com (Peter Nesbitt)\\nNewsgroups: rec.guns,talk.politics.guns\\nSubject: Need Senate Bill numbers and House Resolution numbers\\nMessage-ID: <53930421052235/0005111312NA3EM@mcimail.com>\\nDate: 21 Apr 93 13:23:06 GMT\\nSender: magnum@mimsy.umd.edu\\nFollowup-To: talk.politics.guns\\nLines: 30\\nApproved: gun-control@cs.umd.edu\\n\\nSorry for posting this here, but noone has replied to my post from the politics\\nside of the group.\\n\\nI want to get involved in the fight to save our gun rights.  But first, I need\\nto get a little more educated.  I've been reading all the magzines and books I\\ncan get my hands on, and sifting through hundreds of messages here in the \\nInternet.\\n\\nI want to obtain a COMPLETE list of Senate Bill and House Resolution\\nnames/numbers.\\n\\nCan anyone tell me how/where to obtain this info?  Surely there has to be a\\nway to obtain copies of anti-gun legislation from those *&%$#@'s in Washington.\\n\\nAny help is appreciated.\\n\\n/-----------------------------------------------------------------------------\\\\\\n\\n| Peter D. Nesbitt |     Air Traffic Controller     | PNESBITT@MCIMAIL.COM    |\\n\\n|                  |       Oakland Bay TRACON       |                         |\\n\\n|-----------------------------------------------------------------------------|\\n\\n|  CBR600F2 Pilot  |       NRA Member CCX1380F      |  S&W .41 Magnum Carrier |\\n\\n\\\\-----------------------------------------------------------------------------/\\n\\n\\n\\n\",\n",
              " b'Xref: cantaloupe.srv.cs.cmu.edu rec.backcountry:30908 talk.politics.guns:54227\\nNewsgroups: rec.backcountry,talk.politics.guns\\nPath: cantaloupe.srv.cs.cmu.edu!das-news.harvard.edu!noc.near.net!howland.reston.ans.net!agate!headwall.Stanford.EDU!CSD-NewsHost.Stanford.EDU!SAIL.Stanford.EDU!andy\\nFrom: andy@SAIL.Stanford.EDU (Andy Freeman)\\nSubject: Re: Insane Gun-toting Wackos Unite!!!\\nMessage-ID: <1993Apr15.195910.28806@CSD-NewsHost.Stanford.EDU>\\nFollowup-To: talk.politics.guns\\nSender: news@CSD-NewsHost.Stanford.EDU\\nOrganization: Computer Science Department,  Stanford University.\\nReferences: <13633@sail.LABS.TEK.COM> <1576@heimdall.sdrc.com>\\nDistribution: na\\nDate: Thu, 15 Apr 1993 19:59:10 GMT\\nLines: 38\\n\\nIn article <1576@heimdall.sdrc.com> crrob@sony1.sdrc.com (Rob Davis) writes:\\n> Do you know how many deaths each year are caused by self-inflicted gun-\\n> shot wounds by people wearing thigh holsters?\\n\\nNo, but I have several other breakdowns of accidental shootings.\\nI\\'ve never seen one that specifically provides the info that Davis insists\\nthat he has, so I\\'d love to have a cite.\\n\\n>If you fall, for example,\\n> and land on the handgun or cause a sudden blow, the gun will discharge.\\n\\nWrong.  There\\'s one gun design where that can happen, and it is\\nsupposed to be carried with the hammer over an unloaded chamber.\\n(Cocking the gun turns the cylinder so that a loaded cylinder is under\\nthe hammer.  In other words, it can be usefully carried in a safe\\nmanner.)  Other handgun designs don\\'t have that property; if their\\ntrigger isn\\'t pulled, the hammer can\\'t hit the firing pin.\\n\\n> The number of people killed in this manner far outweighs the number of\\n> deaths caused by animal attacks or \"wacko\" attacks combined.\\n\\nThe breakdowns that I do have include the above category.  From them I\\ncan safely say that if Davis is right in ALL of his claims, a large\\nnegative number of people are killed by animals, because we know that\\nthe number of killings by wackos is reasonably large and that the\\nnumber of accidents due to gun failures (which is a superset of the\\ndescribed circumstance) is near zero.\\n\\n>I can find the figures if you don\\'t believe me.\\n\\nPlease do.  Include a cite for those of us who like looking at\\ncontext.  Make sure that your source excludes other types of\\naccidents and suicides that are misreported.  (\"Gun cleaning\\naccident\" is police-speak for \"the family needs the insurance\\nmoney.\")\\n\\n-andy\\n--\\n',\n",
              " b'Xref: cantaloupe.srv.cs.cmu.edu talk.religion.misc:83955 talk.politics.guns:54673 soc.culture.jewish:63371\\nNewsgroups: talk.religion.misc,talk.politics.guns,soc.culture.jewish\\nPath: cantaloupe.srv.cs.cmu.edu!crabapple.srv.cs.cmu.edu!fs7.ece.cmu.edu!europa.eng.gtefsd.com!howland.reston.ans.net!agate!ames!purdue!mentor.cc.purdue.edu!pop.stat.purdue.edu!hrubin\\nFrom: hrubin@pop.stat.purdue.edu (Herman Rubin)\\nSubject: Re: Who\\'s next?  Mormons and Jews?\\nMessage-ID: <C5u57J.7DM@mentor.cc.purdue.edu>\\nSender: news@mentor.cc.purdue.edu (USENET News)\\nOrganization: Purdue University Statistics Department\\nReferences: <1qvfik$6rf@usenet.INS.CWRU.Edu> <2BD4A8F4.21802@news.service.uci.edu>\\nDate: Wed, 21 Apr 1993 13:23:42 GMT\\nLines: 39\\n\\nIn article <2BD4A8F4.21802@news.service.uci.edu> tclock@orion.oac.uci.edu (Tim Clock) writes:\\n>In article <1qvfik$6rf@usenet.INS.CWRU.Edu> cj195@cleveland.Freenet.Edu (John W. Redelfs) writes:\\n\\n>>Now that Big Brother has rubbed out one minority religion in Waco, who is\\n>>next?  The Mormons or Jews?\\n\\n>>We used to live in a country where everyone enjoyed the free exercise of\\n>>their rights to worship and bear arms.  Now we don\\'t.\\n\\n>>Of course, to Jews and Mormons this is just a broken record.  It has\\n>>happened before.\\n\\n>>I\\'ll bet all you cult haters are happy now, right?  Just hope you\\'re not next.\\n\\n\\n>I like how, as you make a point, you breeze over *any* responsibility Koresh\\n>may have had in the deaths (of the agents and/or of the cult followers- the\\n>children) and blithely ignor the *reality* that some cults ***are*** very\\n>dangerous and harmful to followers/to any that they judge \"in their w\".\\n\\nFor you, or the government, or anyone else to say what is dangerous or\\nharmful to the followers is direct interference in religion; it has been\\nused quite improperly even when nothing as drastic as Waco has happened.\\n\\nNo evidence has been presented that the Davidians have engaged in any \\nactivities harmful to others before the actions of the BATF.  On this\\nmorning\\'s news, there was an item about the BATF warrant being unsealed.\\nThat they bought $200,000 worth of LEGAL weapons has not been denied by\\nanyone.  When they were accused of harming others in the past, the local\\nsherriff had no problems in serving a warrant; our rights as free people\\nwere violated by the BATF going in shooting.  \\n\\nThis country was founded on the superiority of the rights of the individual.\\nRemember Pastor Niemoller\\'s remarks.\\n-- \\nHerman Rubin, Dept. of Statistics, Purdue Univ., West Lafayette IN47907-1399\\nPhone: (317)494-6054\\nhrubin@snap.stat.purdue.edu (Internet, bitnet)  \\n{purdue,pur-ee}!snap.stat!hrubin(UUCP)\\n',\n",
              " b'Newsgroups: talk.politics.guns\\nPath: cantaloupe.srv.cs.cmu.edu!crabapple.srv.cs.cmu.edu!fs7.ece.cmu.edu!europa.eng.gtefsd.com!emory!wupost!darwin.sura.net!martha.utcc.utk.edu!LEVIATHAN.CE.UTK.EDU!PA146008\\nFrom: PA146008@utkvm1.utk.edu (David Veal)\\nSubject: Re: My Gun is like my American Express Card\\nMessage-ID: <PA146008.713.734840700@utkvm1.utk.edu>\\nLines: 53\\nSender: usenet@martha.utcc.utk.edu (USENET News System)\\nOrganization: University of Tennessee Division of Continuing Education\\nReferences: <viking.734512792@ponderous.cc.iastate.edu>  <93103.170753U28037@uicv <16BB029C.PA146008@utkvm1.utk.edu> <93104.173826U28037@uicvm.uic.edu> <1qiebiINN1c1@cae.cad.gatech.edu>\\nDistribution: usa\\nDate: Thu, 15 Apr 1993 02:25:00 GMT\\n\\nIn article <1qiebiINN1c1@cae.cad.gatech.edu> vincent@cad.gatech.edu (Vincent Fox) writes:\\n>In <93104.173826U28037@uicvm.uic.edu> Jason Kratz <U28037@uicvm.uic.edu> writes:\\n>[deleted]\\n>>The University cops here (who are\\n>>are state cops) are armed better than the Chicago police.  It seems most\\n>>state cops are.  I don\\'t know where you are originally from David but you live\\n>>in Tennesse and I live in Chicago and see this crap everyday on the news\\n>>and in the papers.  I think the situation is just a tad different here\\n>>than there.\\n>\\n>Which crap, the ridiculous assertions that Uzis are mowing down cops\\n>right and left? The assertions that dialing 911 should be the proper\\n>and only option available to the law-abiding citizens?\\n>\\n>A factoid:\\n>\\n>56 cops were killed in the whole country last year. This is down from\\n>around 100 in the early \\'80s. Wow, a real explosion in cop killings\\n>there eh?  :-)\\n\\n        Well, if we\\'re going to discuss being a police officer in\\nAmerica today.       \\n\\n        The FBI lists 132 police officers killed (feloniously and\\naccidentally) in 1990.  That\\'s apparently everybody at all levels.\\n\\nYear        Officers killed       Rate/100,000 police officers\\n1982             164*                  47.6\\n1983             152**                 40.2\\n1984             147                   39.4\\n1985             148***                37.9\\n1986             133                   34.9\\n1987             148                   39.0\\n1988             155****               41.9\\n1989             145*****              38.1\\n1990             132                   32.0\\n\\n\\n* Includes one officer in Mariana Islands\\n** Includes one officer each in Guam and Mariana Islands\\n*** Includes one officer in Guam and two in foreign locations\\n**** Includes one officer in American Samoas and two in foreign countries\\n***** Includes one officer in Guam and one Federal officer killed in\\nPeru\\n\\n\\n       God, I love the information age!  :-) \\n\\n------------------------------------------------------------------------\\nDavid Veal Univ. of Tenn. Div. of Cont. Education Info. Services Group\\nPA146008@utkvm1.utk.edu - \"I still remember the way you laughed, the day\\nyour pushed me down the elevator shaft;  I\\'m beginning to think you don\\'t\\nlove me anymore.\" - \"Weird Al\"\\n',\n",
              " b'Path: cantaloupe.srv.cs.cmu.edu!crabapple.srv.cs.cmu.edu!bb3.andrew.cmu.edu!news.sei.cmu.edu!cis.ohio-state.edu!magnus.acs.ohio-state.edu!bgsuvax!uoft02.utoledo.edu!jupiter!steiner\\nNewsgroups: talk.politics.guns\\nSubject: Re: My Gun is like my American Express Card\\nMessage-ID: <1993Apr14.210208.3214@uoft02.utoledo.edu>\\nFrom: steiner@jupiter.cse.utoledo.edu (Jason \\'Think!\\' Steiner)\\nDate: 14 Apr 93 21:02:07 EST\\nReferences: <93104.173826U28037@uicvm.uic.edu>\\nNntp-Posting-Host: jupiter.cse.utoledo.edu\\nX-Newsreader: TIN [version 1.1 PL9]\\nLines: 58\\n\\nJason Kratz (U28037@uicvm.uic.edu) writes:\\n> PA146008@utkvm1.utk.edu (David Veal) says:\\n> >Jason Kratz <U28037@uicvm.uic.edu> writes:\\n> >\\n> >Don\\'t be silly.  Of course you can.  The police have everything \\n> >the gangs have and then some.  Plus they\\'ve got access to the \\n> >National Guard (via the Governor) if things get too rough.  That\\'s \\n> >tanks for those of you who\\'ve never seen them at play.  Of course, \\n> >they\\'ve got rifles and helicopters.\\n> >\\n> >And as far as fully-automatic weapons, you can be a lot better\\n> >armed if you want to hit what you aim at.\\n>\\n> What seems to be happening here is the situation getting totally \\n> blown out of proportion.  In my post I was referring to your \\n> regular patrolman in a car cruising around the city vs. gang \\n> members.  Of course the police have access to the things that you \\n> mentioned but do they use tanks and such all of the time?  Of \\n> course they don\\'t and that\\'s the point I was trying to make.  Every \\n> day when I go out to lunch I always see cops coming in.  The \\n> majority that I see are still carrying revolvers.  Not that there \\n> is anything wrong with a revolver but if you\\'re a cop that is up \\n> against some gang member with a couple of automatics in his coat (I \\n> mean semi-auto handguns) you\\'re going to be at a disadvantage even \\n> with training.\\n\\nhow so? i think you\\'re making assumptions here that might not \\nnecessarily be true. -my- personal choice would be a semi-auto, but \\nrevolvers are just as effective, if not more so.\\n\\n> I have been at a shooting range where gang gang members were \\n> \"practicing\" shooting.  They were actually practicing taking out \\n> their guns as quick as possible and shooting at the target and they \\n> weren\\'t doing too badly either.\\n\\nrelevancy, please? you sound shocked, but that hardly proves anything.\\n\\n> The University cops here (who are are state cops) are armed better \\n> than the Chicago police.  It seems most state cops are.  I don\\'t \\n> know where you are originally from David but you live in Tennesse \\n> and I live in Chicago and see this crap everyday on the news and in \\n> the papers.  I think the situation is just a tad different here \\n> than there.\\n\\nwait, doesn\\'t Chicago have -serious- gun control? if so, why do the\\npolice need all that firepower in the first place? (sarcasm alert)\\n\\nall the patrol cars i\\'ve seen around here have shotguns clamped to \\nthe dash board. IMHO, that\\'s all the police need to outgun just about \\nanything.\\n\\njason\\n\\n--\\n`,`,`,`,`,`,`,`,`,`,`,`,`,`,`,`,`,`,`,`,`,`,`,`,`,`,`,`,`,`,`,`,`,`,`,`,`,`\\n`,` The Crystal Wind is the Storm, and the Storm is Data, and the Data  `,`\\n`,`  is Life -- The Player\\'s Litany, from _The Long Run_ by D.K. Moran  `,`\\n`,`,`,`,`,`,`,`,`,`,`,`,`,`,`,`,`,` steiner@jupiter.cse.utoledo.edu `,`,`,`\\n']"
            ]
          },
          "metadata": {
            "tags": []
          },
          "execution_count": 23
        }
      ]
    },
    {
      "cell_type": "code",
      "metadata": {
        "colab": {
          "base_uri": "https://localhost:8080/"
        },
        "id": "IAhB40ywPFoH",
        "outputId": "2f3ee8e8-2f77-4238-d0f7-92139c22f2a6"
      },
      "source": [
        "type(input_file_0_str[0])"
      ],
      "execution_count": null,
      "outputs": [
        {
          "output_type": "execute_result",
          "data": {
            "text/plain": [
              "str"
            ]
          },
          "metadata": {
            "tags": []
          },
          "execution_count": 24
        }
      ]
    },
    {
      "cell_type": "markdown",
      "metadata": {
        "id": "pU1oDm5mRQPY"
      },
      "source": [
        "###Splitting dataset into 2 parts:\n",
        "* Train\n",
        "* Test"
      ]
    },
    {
      "cell_type": "code",
      "metadata": {
        "id": "tA5FSV9PtkFe"
      },
      "source": [
        "from sklearn.model_selection import train_test_split"
      ],
      "execution_count": null,
      "outputs": []
    },
    {
      "cell_type": "code",
      "metadata": {
        "id": "36O57UVnt5Zr"
      },
      "source": [
        "input_train,input_test,output_train,output_test=train_test_split(input_files_str,input_file_names,random_state=42)"
      ],
      "execution_count": null,
      "outputs": []
    },
    {
      "cell_type": "code",
      "metadata": {
        "colab": {
          "base_uri": "https://localhost:8080/"
        },
        "id": "t7fQsCMgxIzq",
        "outputId": "ac7d6806-95ab-4f4c-9490-439fc501f6e0"
      },
      "source": [
        "print(\"input_train:%d,output_train:%d\"%(len(input_train),len(output_train)))\n",
        "print(\"input_test:%d,output_test:%d\"%(len(input_test),len(output_test)))"
      ],
      "execution_count": null,
      "outputs": [
        {
          "output_type": "stream",
          "text": [
            "input_train:15019,output_train:15019\n",
            "input_test:5007,output_test:5007\n"
          ],
          "name": "stdout"
        }
      ]
    },
    {
      "cell_type": "markdown",
      "metadata": {
        "id": "l2IJYirXSJNf"
      },
      "source": [
        "###Conversion of strings (content of file) into vectors (numeric form) "
      ]
    },
    {
      "cell_type": "markdown",
      "metadata": {
        "id": "J-Jr_pHwxL1W"
      },
      "source": [
        "We will consider file input_file_0_str for testing purpose"
      ]
    },
    {
      "cell_type": "code",
      "metadata": {
        "id": "UESvQPNxxQMc"
      },
      "source": [
        "test=input_file_0_str"
      ],
      "execution_count": null,
      "outputs": []
    },
    {
      "cell_type": "markdown",
      "metadata": {
        "id": "ArekYRo3qVjd"
      },
      "source": [
        "####Clearing"
      ]
    },
    {
      "cell_type": "code",
      "metadata": {
        "id": "5zNN3KtcqMgn"
      },
      "source": [
        "punctuations = '''!()-[]{};:'\"\\,<>./?@#$%^&*_~'''\n",
        "def remove_punctuations(my_str):\n",
        "  no_punct = \"\"\n",
        "  for char in my_str:\n",
        "    if char not in punctuations:\n",
        "      no_punct+= char\n",
        "  return no_punct\n",
        "\n",
        "#Test\n",
        "test=remove_punctuations(test)\n",
        "#print(test)"
      ],
      "execution_count": null,
      "outputs": []
    },
    {
      "cell_type": "code",
      "metadata": {
        "colab": {
          "base_uri": "https://localhost:8080/"
        },
        "id": "Q4-SzAv4ziLK",
        "outputId": "642e5ea7-c301-4ab8-ec9e-8eeca41aebd5"
      },
      "source": [
        "import re\n",
        "def keep_words_and_numbers(my_str):\n",
        "  my_str=re.sub('[^a-zA-Z0-9]',' ',my_str)\n",
        "  return my_str\n",
        "\n",
        "#Test\n",
        "test=keep_words_and_numbers(test)\n",
        "print(test)"
      ],
      "execution_count": null,
      "outputs": [
        {
          "output_type": "stream",
          "text": [
            "Path cantaloupesrvcscmueducrabapplesrvcscmuedufs7ececmuedueuropaenggtefsdcomdarwinsuranetuvaarpaclemclemnews From jmdcubehandheldcom Jim De Arras Newsgroups talkpoliticsguns Subject Re BATFFBI Murders Almost Everyone in Waco Today 419 Date 21 Apr 1993 125603 GMT Organization Hand Held Products Inc Lines 138 Distribution world MessageID 1r3g93INN2m9clemhandheldcom References C5tLxr1xqnewsudeledu NNTPPostingHost dalehandheldcom  In article C5tLxr1xqnewsudeledu robychopinudeledu Scott W Roby   writes  In article 1r21g2INNeahclemhandheldcom jmdcubehandheldcom Jim De   Arras writes  In article C5sou8LnBnewsudeledu robychopinudeledu Scott W Roby    writes   In article 1993Apr2016373016128guinnessidbsuedu   betzgozeridbsuedu    Andrew Betz writes   In article C5rynwIz8newsudeledu robychopinudeledu Scott W Roby    writes   And I suppose the FBI also prevented them from coming out with their    hands up while national tv cameras watch      Watch from where  Two miles away  Far enough away that whatever   really happenned must be explained through the vengeful filter of   a humiliated agency that said quote Enough is enough      Please tell me what you think would have happened had the people    come out with their hands up several weeks ago     It didnt happen    And who is responsible for it not happening  Certainly not the children  Koresh was calling the shots  He was   talking with his lawyer and the FBI  Since others were released safely   there is no sane reason for keeping the children inside the compound    The FBI and Koresh were calling the shots  And there were very sane reasons   for keeping the children if they let them go the parents would NEVER see them   again  That is not an easy choice in spite of you cold attitude about it    scenario that is simplest and most plausible  I do not generally    believe in conspiracy theories that involve complicated and unlikely    scenarios      The FBI sent letters to Martin Luther Kings wife insinuating   that MLK was having an affair  Again please tell us exactly   how much you trust our supposedly benevolent government      More than someone who would not release children from the compound     Obviously  You are an authority worshiper    Not at all  Are you a Koresh worshiper  I am a constitution worshiper  You quite obviously eat anything the   authorities feed you without doubt which makes you no different that a Koresh   worshiper      Ie more than David KoreshVernon HowellJesus Christ   I saw lengthy excerpts from an Australian documentary made in    1992 that clearly showed that this was a cult    Give me a camera and time with you and I can present excerpts that show   you    to be a cult leader  Guarenteed     Thanks for my laugh of the day  Definitely a very silly supposition   If you do not believe this you are truly naive  It is not only possible it   is easy  I worked in the broadcast profession at a network station in the   late 70s I know what Im saying here  Embarrasing footage is easy to get add   a little sinister music and the right voiceover and Ill have you mother   agreeing to commit you   You should at least view the whole    documentary before you claim it as a source    I would if I could  The news show that showed the lengthy excerpts also   had interviews with the filmmaker who made the documentary who basically   confirmed what was shown in the excerpts from the time he spent at the   compound in 1992   The news shows were looking for excerpts which backed their position  Do you   think they would show excerpts which disproved their points    I am not pleased with the BATF handling of the affair  I think they    bungled it badly from the start  But I dont think they are    responsible for the fire which started in two different places    Two places eh  You saw this  Or did the wonderful FBI tell you this    I saw one place    I believe that this was reported by local radio reporters on site  A fire started in a three story tower at the same time as the two   story window shown on the tv coverage   The reports of multistarts came solely from the FBI  Anyone observing the   fire from the available video would be hard pressed to see more than one point   of fire  Which spread across the compound as a uniform rate    The BATF is by no means devoid of fault in the handling of this affair   But to suggest that they may have intentionally started the fire is    ludicrous      I suspect that there were plenty of camerapeople willing to   risk small arms fire to get some good footage  These people   were told to get the hell out of camera range  Why    Couldnt answer this one eh  This is the most important question of all   it    is the root cause of all the other suspicion    I thought about mentioning how Reagan and the military treated the press   in Grenada and how that set the precedent but decided it wasnt worthy   of discussion  If the news reporter got shot you can bet his family   would sue the government for letting him into the danger area  No reported has ever sued the government for such a situation  They know the   dangers  Remember the BATF invited the initial coverage And how about a   simple remotecontrolled camera or two  There were ways to provide media   access  The FBI obviously just didnt want any     The root cause of suspicion in my mind is why 100 people wouldnt flee   a building that had numerous exits during the 30 minutes time it took   to burn down  Or why didnt they flee hours earlier when the tear gas was   first introduced  I can find no rational explanation for their behavior   I can find several  Tear gas and smoke making it impossible to remove the   barricades  Flames blocking exits to the saferooms Perhaps the gun shots were   from the FBI keeping them pinned in  Who knows        Jim  jmdhandheldcom  Im always rethinking that  Theres never been a day when I havent rethought   that  But I cant do that by myself  Bill Clinton  6 April 93 If I were an American as I am an Englishman while a foreign troop was landed   in my country I never would lay down my armsnevernevernever WILLIAM PITT EARL OF CHATHAM 17081778 18 Nov 1777 \n"
          ],
          "name": "stdout"
        }
      ]
    },
    {
      "cell_type": "markdown",
      "metadata": {
        "id": "DWJXlyHOrlS5"
      },
      "source": [
        "#### Tokenization"
      ]
    },
    {
      "cell_type": "code",
      "metadata": {
        "colab": {
          "base_uri": "https://localhost:8080/"
        },
        "id": "kc2NLXjYrcoM",
        "outputId": "001eff9d-b11a-4f67-9620-5b5ebc330efa"
      },
      "source": [
        "def make_tokens(my_str):\n",
        "  return my_str.split()\n",
        "\n",
        "#Test\n",
        "test=make_tokens(test)\n",
        "print(test)"
      ],
      "execution_count": null,
      "outputs": [
        {
          "output_type": "stream",
          "text": [
            "['Path', 'cantaloupesrvcscmueducrabapplesrvcscmuedufs7ececmuedueuropaenggtefsdcomdarwinsuranetuvaarpaclemclemnews', 'From', 'jmdcubehandheldcom', 'Jim', 'De', 'Arras', 'Newsgroups', 'talkpoliticsguns', 'Subject', 'Re', 'BATFFBI', 'Murders', 'Almost', 'Everyone', 'in', 'Waco', 'Today', '419', 'Date', '21', 'Apr', '1993', '125603', 'GMT', 'Organization', 'Hand', 'Held', 'Products', 'Inc', 'Lines', '138', 'Distribution', 'world', 'MessageID', '1r3g93INN2m9clemhandheldcom', 'References', 'C5tLxr1xqnewsudeledu', 'NNTPPostingHost', 'dalehandheldcom', 'In', 'article', 'C5tLxr1xqnewsudeledu', 'robychopinudeledu', 'Scott', 'W', 'Roby', 'writes', 'In', 'article', '1r21g2INNeahclemhandheldcom', 'jmdcubehandheldcom', 'Jim', 'De', 'Arras', 'writes', 'In', 'article', 'C5sou8LnBnewsudeledu', 'robychopinudeledu', 'Scott', 'W', 'Roby', 'writes', 'In', 'article', '1993Apr2016373016128guinnessidbsuedu', 'betzgozeridbsuedu', 'Andrew', 'Betz', 'writes', 'In', 'article', 'C5rynwIz8newsudeledu', 'robychopinudeledu', 'Scott', 'W', 'Roby', 'writes', 'And', 'I', 'suppose', 'the', 'FBI', 'also', 'prevented', 'them', 'from', 'coming', 'out', 'with', 'their', 'hands', 'up', 'while', 'national', 'tv', 'cameras', 'watch', 'Watch', 'from', 'where', 'Two', 'miles', 'away', 'Far', 'enough', 'away', 'that', 'whatever', 'really', 'happenned', 'must', 'be', 'explained', 'through', 'the', 'vengeful', 'filter', 'of', 'a', 'humiliated', 'agency', 'that', 'said', 'quote', 'Enough', 'is', 'enough', 'Please', 'tell', 'me', 'what', 'you', 'think', 'would', 'have', 'happened', 'had', 'the', 'people', 'come', 'out', 'with', 'their', 'hands', 'up', 'several', 'weeks', 'ago', 'It', 'didnt', 'happen', 'And', 'who', 'is', 'responsible', 'for', 'it', 'not', 'happening', 'Certainly', 'not', 'the', 'children', 'Koresh', 'was', 'calling', 'the', 'shots', 'He', 'was', 'talking', 'with', 'his', 'lawyer', 'and', 'the', 'FBI', 'Since', 'others', 'were', 'released', 'safely', 'there', 'is', 'no', 'sane', 'reason', 'for', 'keeping', 'the', 'children', 'inside', 'the', 'compound', 'The', 'FBI', 'and', 'Koresh', 'were', 'calling', 'the', 'shots', 'And', 'there', 'were', 'very', 'sane', 'reasons', 'for', 'keeping', 'the', 'children', 'if', 'they', 'let', 'them', 'go', 'the', 'parents', 'would', 'NEVER', 'see', 'them', 'again', 'That', 'is', 'not', 'an', 'easy', 'choice', 'in', 'spite', 'of', 'you', 'cold', 'attitude', 'about', 'it', 'scenario', 'that', 'is', 'simplest', 'and', 'most', 'plausible', 'I', 'do', 'not', 'generally', 'believe', 'in', 'conspiracy', 'theories', 'that', 'involve', 'complicated', 'and', 'unlikely', 'scenarios', 'The', 'FBI', 'sent', 'letters', 'to', 'Martin', 'Luther', 'Kings', 'wife', 'insinuating', 'that', 'MLK', 'was', 'having', 'an', 'affair', 'Again', 'please', 'tell', 'us', 'exactly', 'how', 'much', 'you', 'trust', 'our', 'supposedly', 'benevolent', 'government', 'More', 'than', 'someone', 'who', 'would', 'not', 'release', 'children', 'from', 'the', 'compound', 'Obviously', 'You', 'are', 'an', 'authority', 'worshiper', 'Not', 'at', 'all', 'Are', 'you', 'a', 'Koresh', 'worshiper', 'I', 'am', 'a', 'constitution', 'worshiper', 'You', 'quite', 'obviously', 'eat', 'anything', 'the', 'authorities', 'feed', 'you', 'without', 'doubt', 'which', 'makes', 'you', 'no', 'different', 'that', 'a', 'Koresh', 'worshiper', 'Ie', 'more', 'than', 'David', 'KoreshVernon', 'HowellJesus', 'Christ', 'I', 'saw', 'lengthy', 'excerpts', 'from', 'an', 'Australian', 'documentary', 'made', 'in', '1992', 'that', 'clearly', 'showed', 'that', 'this', 'was', 'a', 'cult', 'Give', 'me', 'a', 'camera', 'and', 'time', 'with', 'you', 'and', 'I', 'can', 'present', 'excerpts', 'that', 'show', 'you', 'to', 'be', 'a', 'cult', 'leader', 'Guarenteed', 'Thanks', 'for', 'my', 'laugh', 'of', 'the', 'day', 'Definitely', 'a', 'very', 'silly', 'supposition', 'If', 'you', 'do', 'not', 'believe', 'this', 'you', 'are', 'truly', 'naive', 'It', 'is', 'not', 'only', 'possible', 'it', 'is', 'easy', 'I', 'worked', 'in', 'the', 'broadcast', 'profession', 'at', 'a', 'network', 'station', 'in', 'the', 'late', '70s', 'I', 'know', 'what', 'Im', 'saying', 'here', 'Embarrasing', 'footage', 'is', 'easy', 'to', 'get', 'add', 'a', 'little', 'sinister', 'music', 'and', 'the', 'right', 'voiceover', 'and', 'Ill', 'have', 'you', 'mother', 'agreeing', 'to', 'commit', 'you', 'You', 'should', 'at', 'least', 'view', 'the', 'whole', 'documentary', 'before', 'you', 'claim', 'it', 'as', 'a', 'source', 'I', 'would', 'if', 'I', 'could', 'The', 'news', 'show', 'that', 'showed', 'the', 'lengthy', 'excerpts', 'also', 'had', 'interviews', 'with', 'the', 'filmmaker', 'who', 'made', 'the', 'documentary', 'who', 'basically', 'confirmed', 'what', 'was', 'shown', 'in', 'the', 'excerpts', 'from', 'the', 'time', 'he', 'spent', 'at', 'the', 'compound', 'in', '1992', 'The', 'news', 'shows', 'were', 'looking', 'for', 'excerpts', 'which', 'backed', 'their', 'position', 'Do', 'you', 'think', 'they', 'would', 'show', 'excerpts', 'which', 'disproved', 'their', 'points', 'I', 'am', 'not', 'pleased', 'with', 'the', 'BATF', 'handling', 'of', 'the', 'affair', 'I', 'think', 'they', 'bungled', 'it', 'badly', 'from', 'the', 'start', 'But', 'I', 'dont', 'think', 'they', 'are', 'responsible', 'for', 'the', 'fire', 'which', 'started', 'in', 'two', 'different', 'places', 'Two', 'places', 'eh', 'You', 'saw', 'this', 'Or', 'did', 'the', 'wonderful', 'FBI', 'tell', 'you', 'this', 'I', 'saw', 'one', 'place', 'I', 'believe', 'that', 'this', 'was', 'reported', 'by', 'local', 'radio', 'reporters', 'on', 'site', 'A', 'fire', 'started', 'in', 'a', 'three', 'story', 'tower', 'at', 'the', 'same', 'time', 'as', 'the', 'two', 'story', 'window', 'shown', 'on', 'the', 'tv', 'coverage', 'The', 'reports', 'of', 'multistarts', 'came', 'solely', 'from', 'the', 'FBI', 'Anyone', 'observing', 'the', 'fire', 'from', 'the', 'available', 'video', 'would', 'be', 'hard', 'pressed', 'to', 'see', 'more', 'than', 'one', 'point', 'of', 'fire', 'Which', 'spread', 'across', 'the', 'compound', 'as', 'a', 'uniform', 'rate', 'The', 'BATF', 'is', 'by', 'no', 'means', 'devoid', 'of', 'fault', 'in', 'the', 'handling', 'of', 'this', 'affair', 'But', 'to', 'suggest', 'that', 'they', 'may', 'have', 'intentionally', 'started', 'the', 'fire', 'is', 'ludicrous', 'I', 'suspect', 'that', 'there', 'were', 'plenty', 'of', 'camerapeople', 'willing', 'to', 'risk', 'small', 'arms', 'fire', 'to', 'get', 'some', 'good', 'footage', 'These', 'people', 'were', 'told', 'to', 'get', 'the', 'hell', 'out', 'of', 'camera', 'range', 'Why', 'Couldnt', 'answer', 'this', 'one', 'eh', 'This', 'is', 'the', 'most', 'important', 'question', 'of', 'all', 'it', 'is', 'the', 'root', 'cause', 'of', 'all', 'the', 'other', 'suspicion', 'I', 'thought', 'about', 'mentioning', 'how', 'Reagan', 'and', 'the', 'military', 'treated', 'the', 'press', 'in', 'Grenada', 'and', 'how', 'that', 'set', 'the', 'precedent', 'but', 'decided', 'it', 'wasnt', 'worthy', 'of', 'discussion', 'If', 'the', 'news', 'reporter', 'got', 'shot', 'you', 'can', 'bet', 'his', 'family', 'would', 'sue', 'the', 'government', 'for', 'letting', 'him', 'into', 'the', 'danger', 'area', 'No', 'reported', 'has', 'ever', 'sued', 'the', 'government', 'for', 'such', 'a', 'situation', 'They', 'know', 'the', 'dangers', 'Remember', 'the', 'BATF', 'invited', 'the', 'initial', 'coverage', 'And', 'how', 'about', 'a', 'simple', 'remotecontrolled', 'camera', 'or', 'two', 'There', 'were', 'ways', 'to', 'provide', 'media', 'access', 'The', 'FBI', 'obviously', 'just', 'didnt', 'want', 'any', 'The', 'root', 'cause', 'of', 'suspicion', 'in', 'my', 'mind', 'is', 'why', '100', 'people', 'wouldnt', 'flee', 'a', 'building', 'that', 'had', 'numerous', 'exits', 'during', 'the', '30', 'minutes', 'time', 'it', 'took', 'to', 'burn', 'down', 'Or', 'why', 'didnt', 'they', 'flee', 'hours', 'earlier', 'when', 'the', 'tear', 'gas', 'was', 'first', 'introduced', 'I', 'can', 'find', 'no', 'rational', 'explanation', 'for', 'their', 'behavior', 'I', 'can', 'find', 'several', 'Tear', 'gas', 'and', 'smoke', 'making', 'it', 'impossible', 'to', 'remove', 'the', 'barricades', 'Flames', 'blocking', 'exits', 'to', 'the', 'saferooms', 'Perhaps', 'the', 'gun', 'shots', 'were', 'from', 'the', 'FBI', 'keeping', 'them', 'pinned', 'in', 'Who', 'knows', 'Jim', 'jmdhandheldcom', 'Im', 'always', 'rethinking', 'that', 'Theres', 'never', 'been', 'a', 'day', 'when', 'I', 'havent', 'rethought', 'that', 'But', 'I', 'cant', 'do', 'that', 'by', 'myself', 'Bill', 'Clinton', '6', 'April', '93', 'If', 'I', 'were', 'an', 'American', 'as', 'I', 'am', 'an', 'Englishman', 'while', 'a', 'foreign', 'troop', 'was', 'landed', 'in', 'my', 'country', 'I', 'never', 'would', 'lay', 'down', 'my', 'armsnevernevernever', 'WILLIAM', 'PITT', 'EARL', 'OF', 'CHATHAM', '17081778', '18', 'Nov', '1777']\n"
          ],
          "name": "stdout"
        }
      ]
    },
    {
      "cell_type": "markdown",
      "metadata": {
        "id": "rSBJ2xqAsK-5"
      },
      "source": [
        "#### Removing Stopwords"
      ]
    },
    {
      "cell_type": "code",
      "metadata": {
        "colab": {
          "base_uri": "https://localhost:8080/"
        },
        "id": "2jxMLDDP1P8o",
        "outputId": "740a6f7c-ca83-4439-ae54-db53f141dfd6"
      },
      "source": [
        "import nltk\n",
        "nltk.download('stopwords')\n",
        "from nltk.corpus import stopwords\n",
        "stopwords=stopwords.words('english')"
      ],
      "execution_count": null,
      "outputs": [
        {
          "output_type": "stream",
          "text": [
            "[nltk_data] Downloading package stopwords to /root/nltk_data...\n",
            "[nltk_data]   Unzipping corpora/stopwords.zip.\n"
          ],
          "name": "stdout"
        }
      ]
    },
    {
      "cell_type": "code",
      "metadata": {
        "colab": {
          "base_uri": "https://localhost:8080/"
        },
        "id": "eBySLEEY5ddU",
        "outputId": "1c0f3c2a-9c7b-4f78-9533-56ea2a8f6082"
      },
      "source": [
        "len(stopwords)"
      ],
      "execution_count": null,
      "outputs": [
        {
          "output_type": "execute_result",
          "data": {
            "text/plain": [
              "179"
            ]
          },
          "metadata": {
            "tags": []
          },
          "execution_count": 41
        }
      ]
    },
    {
      "cell_type": "code",
      "metadata": {
        "colab": {
          "base_uri": "https://localhost:8080/"
        },
        "id": "AU6hXBF55ajY",
        "outputId": "70dd60db-2d4b-437c-d6f7-406e2b09b987"
      },
      "source": [
        "print(stopwords)"
      ],
      "execution_count": null,
      "outputs": [
        {
          "output_type": "stream",
          "text": [
            "['i', 'me', 'my', 'myself', 'we', 'our', 'ours', 'ourselves', 'you', \"you're\", \"you've\", \"you'll\", \"you'd\", 'your', 'yours', 'yourself', 'yourselves', 'he', 'him', 'his', 'himself', 'she', \"she's\", 'her', 'hers', 'herself', 'it', \"it's\", 'its', 'itself', 'they', 'them', 'their', 'theirs', 'themselves', 'what', 'which', 'who', 'whom', 'this', 'that', \"that'll\", 'these', 'those', 'am', 'is', 'are', 'was', 'were', 'be', 'been', 'being', 'have', 'has', 'had', 'having', 'do', 'does', 'did', 'doing', 'a', 'an', 'the', 'and', 'but', 'if', 'or', 'because', 'as', 'until', 'while', 'of', 'at', 'by', 'for', 'with', 'about', 'against', 'between', 'into', 'through', 'during', 'before', 'after', 'above', 'below', 'to', 'from', 'up', 'down', 'in', 'out', 'on', 'off', 'over', 'under', 'again', 'further', 'then', 'once', 'here', 'there', 'when', 'where', 'why', 'how', 'all', 'any', 'both', 'each', 'few', 'more', 'most', 'other', 'some', 'such', 'no', 'nor', 'not', 'only', 'own', 'same', 'so', 'than', 'too', 'very', 's', 't', 'can', 'will', 'just', 'don', \"don't\", 'should', \"should've\", 'now', 'd', 'll', 'm', 'o', 're', 've', 'y', 'ain', 'aren', \"aren't\", 'couldn', \"couldn't\", 'didn', \"didn't\", 'doesn', \"doesn't\", 'hadn', \"hadn't\", 'hasn', \"hasn't\", 'haven', \"haven't\", 'isn', \"isn't\", 'ma', 'mightn', \"mightn't\", 'mustn', \"mustn't\", 'needn', \"needn't\", 'shan', \"shan't\", 'shouldn', \"shouldn't\", 'wasn', \"wasn't\", 'weren', \"weren't\", 'won', \"won't\", 'wouldn', \"wouldn't\"]\n"
          ],
          "name": "stdout"
        }
      ]
    },
    {
      "cell_type": "code",
      "metadata": {
        "colab": {
          "base_uri": "https://localhost:8080/"
        },
        "id": "EwjibAa5sbAH",
        "outputId": "c732f972-0dee-4b83-eb55-ff6d13af7edd"
      },
      "source": [
        "def remove_stopwords(my_str):\n",
        "  removed_stopwords=[]\n",
        "  for w in my_str:\n",
        "    if w not in stopwords:\n",
        "      removed_stopwords.append(w)\n",
        "  return removed_stopwords\n",
        "\n",
        "#Test\n",
        "test=remove_stopwords(test)\n",
        "print(test)\n",
        "print(len(test))"
      ],
      "execution_count": null,
      "outputs": [
        {
          "output_type": "stream",
          "text": [
            "['Path', 'cantaloupesrvcscmueducrabapplesrvcscmuedufs7ececmuedueuropaenggtefsdcomdarwinsuranetuvaarpaclemclemnews', 'From', 'jmdcubehandheldcom', 'Jim', 'De', 'Arras', 'Newsgroups', 'talkpoliticsguns', 'Subject', 'Re', 'BATFFBI', 'Murders', 'Almost', 'Everyone', 'Waco', 'Today', '419', 'Date', '21', 'Apr', '1993', '125603', 'GMT', 'Organization', 'Hand', 'Held', 'Products', 'Inc', 'Lines', '138', 'Distribution', 'world', 'MessageID', '1r3g93INN2m9clemhandheldcom', 'References', 'C5tLxr1xqnewsudeledu', 'NNTPPostingHost', 'dalehandheldcom', 'In', 'article', 'C5tLxr1xqnewsudeledu', 'robychopinudeledu', 'Scott', 'W', 'Roby', 'writes', 'In', 'article', '1r21g2INNeahclemhandheldcom', 'jmdcubehandheldcom', 'Jim', 'De', 'Arras', 'writes', 'In', 'article', 'C5sou8LnBnewsudeledu', 'robychopinudeledu', 'Scott', 'W', 'Roby', 'writes', 'In', 'article', '1993Apr2016373016128guinnessidbsuedu', 'betzgozeridbsuedu', 'Andrew', 'Betz', 'writes', 'In', 'article', 'C5rynwIz8newsudeledu', 'robychopinudeledu', 'Scott', 'W', 'Roby', 'writes', 'And', 'I', 'suppose', 'FBI', 'also', 'prevented', 'coming', 'hands', 'national', 'tv', 'cameras', 'watch', 'Watch', 'Two', 'miles', 'away', 'Far', 'enough', 'away', 'whatever', 'really', 'happenned', 'must', 'explained', 'vengeful', 'filter', 'humiliated', 'agency', 'said', 'quote', 'Enough', 'enough', 'Please', 'tell', 'think', 'would', 'happened', 'people', 'come', 'hands', 'several', 'weeks', 'ago', 'It', 'didnt', 'happen', 'And', 'responsible', 'happening', 'Certainly', 'children', 'Koresh', 'calling', 'shots', 'He', 'talking', 'lawyer', 'FBI', 'Since', 'others', 'released', 'safely', 'sane', 'reason', 'keeping', 'children', 'inside', 'compound', 'The', 'FBI', 'Koresh', 'calling', 'shots', 'And', 'sane', 'reasons', 'keeping', 'children', 'let', 'go', 'parents', 'would', 'NEVER', 'see', 'That', 'easy', 'choice', 'spite', 'cold', 'attitude', 'scenario', 'simplest', 'plausible', 'I', 'generally', 'believe', 'conspiracy', 'theories', 'involve', 'complicated', 'unlikely', 'scenarios', 'The', 'FBI', 'sent', 'letters', 'Martin', 'Luther', 'Kings', 'wife', 'insinuating', 'MLK', 'affair', 'Again', 'please', 'tell', 'us', 'exactly', 'much', 'trust', 'supposedly', 'benevolent', 'government', 'More', 'someone', 'would', 'release', 'children', 'compound', 'Obviously', 'You', 'authority', 'worshiper', 'Not', 'Are', 'Koresh', 'worshiper', 'I', 'constitution', 'worshiper', 'You', 'quite', 'obviously', 'eat', 'anything', 'authorities', 'feed', 'without', 'doubt', 'makes', 'different', 'Koresh', 'worshiper', 'Ie', 'David', 'KoreshVernon', 'HowellJesus', 'Christ', 'I', 'saw', 'lengthy', 'excerpts', 'Australian', 'documentary', 'made', '1992', 'clearly', 'showed', 'cult', 'Give', 'camera', 'time', 'I', 'present', 'excerpts', 'show', 'cult', 'leader', 'Guarenteed', 'Thanks', 'laugh', 'day', 'Definitely', 'silly', 'supposition', 'If', 'believe', 'truly', 'naive', 'It', 'possible', 'easy', 'I', 'worked', 'broadcast', 'profession', 'network', 'station', 'late', '70s', 'I', 'know', 'Im', 'saying', 'Embarrasing', 'footage', 'easy', 'get', 'add', 'little', 'sinister', 'music', 'right', 'voiceover', 'Ill', 'mother', 'agreeing', 'commit', 'You', 'least', 'view', 'whole', 'documentary', 'claim', 'source', 'I', 'would', 'I', 'could', 'The', 'news', 'show', 'showed', 'lengthy', 'excerpts', 'also', 'interviews', 'filmmaker', 'made', 'documentary', 'basically', 'confirmed', 'shown', 'excerpts', 'time', 'spent', 'compound', '1992', 'The', 'news', 'shows', 'looking', 'excerpts', 'backed', 'position', 'Do', 'think', 'would', 'show', 'excerpts', 'disproved', 'points', 'I', 'pleased', 'BATF', 'handling', 'affair', 'I', 'think', 'bungled', 'badly', 'start', 'But', 'I', 'dont', 'think', 'responsible', 'fire', 'started', 'two', 'different', 'places', 'Two', 'places', 'eh', 'You', 'saw', 'Or', 'wonderful', 'FBI', 'tell', 'I', 'saw', 'one', 'place', 'I', 'believe', 'reported', 'local', 'radio', 'reporters', 'site', 'A', 'fire', 'started', 'three', 'story', 'tower', 'time', 'two', 'story', 'window', 'shown', 'tv', 'coverage', 'The', 'reports', 'multistarts', 'came', 'solely', 'FBI', 'Anyone', 'observing', 'fire', 'available', 'video', 'would', 'hard', 'pressed', 'see', 'one', 'point', 'fire', 'Which', 'spread', 'across', 'compound', 'uniform', 'rate', 'The', 'BATF', 'means', 'devoid', 'fault', 'handling', 'affair', 'But', 'suggest', 'may', 'intentionally', 'started', 'fire', 'ludicrous', 'I', 'suspect', 'plenty', 'camerapeople', 'willing', 'risk', 'small', 'arms', 'fire', 'get', 'good', 'footage', 'These', 'people', 'told', 'get', 'hell', 'camera', 'range', 'Why', 'Couldnt', 'answer', 'one', 'eh', 'This', 'important', 'question', 'root', 'cause', 'suspicion', 'I', 'thought', 'mentioning', 'Reagan', 'military', 'treated', 'press', 'Grenada', 'set', 'precedent', 'decided', 'wasnt', 'worthy', 'discussion', 'If', 'news', 'reporter', 'got', 'shot', 'bet', 'family', 'would', 'sue', 'government', 'letting', 'danger', 'area', 'No', 'reported', 'ever', 'sued', 'government', 'situation', 'They', 'know', 'dangers', 'Remember', 'BATF', 'invited', 'initial', 'coverage', 'And', 'simple', 'remotecontrolled', 'camera', 'two', 'There', 'ways', 'provide', 'media', 'access', 'The', 'FBI', 'obviously', 'didnt', 'want', 'The', 'root', 'cause', 'suspicion', 'mind', '100', 'people', 'wouldnt', 'flee', 'building', 'numerous', 'exits', '30', 'minutes', 'time', 'took', 'burn', 'Or', 'didnt', 'flee', 'hours', 'earlier', 'tear', 'gas', 'first', 'introduced', 'I', 'find', 'rational', 'explanation', 'behavior', 'I', 'find', 'several', 'Tear', 'gas', 'smoke', 'making', 'impossible', 'remove', 'barricades', 'Flames', 'blocking', 'exits', 'saferooms', 'Perhaps', 'gun', 'shots', 'FBI', 'keeping', 'pinned', 'Who', 'knows', 'Jim', 'jmdhandheldcom', 'Im', 'always', 'rethinking', 'Theres', 'never', 'day', 'I', 'havent', 'rethought', 'But', 'I', 'cant', 'Bill', 'Clinton', '6', 'April', '93', 'If', 'I', 'American', 'I', 'Englishman', 'foreign', 'troop', 'landed', 'country', 'I', 'never', 'would', 'lay', 'armsnevernevernever', 'WILLIAM', 'PITT', 'EARL', 'OF', 'CHATHAM', '17081778', '18', 'Nov', '1777']\n",
            "612\n"
          ],
          "name": "stdout"
        }
      ]
    },
    {
      "cell_type": "markdown",
      "metadata": {
        "id": "LLje8AJQwEDB"
      },
      "source": [
        "####Lower casing"
      ]
    },
    {
      "cell_type": "code",
      "metadata": {
        "colab": {
          "base_uri": "https://localhost:8080/"
        },
        "id": "MRPNhjY1wSRi",
        "outputId": "0df3e953-33ce-4c46-8439-96860b5e770a"
      },
      "source": [
        "def to_lower_case(my_str):\n",
        "  return [w.lower() for w in my_str]\n",
        "\n",
        "#Test\n",
        "test=to_lower_case(test)\n",
        "print(test)"
      ],
      "execution_count": null,
      "outputs": [
        {
          "output_type": "stream",
          "text": [
            "['path', 'cantaloupesrvcscmueducrabapplesrvcscmuedufs7ececmuedueuropaenggtefsdcomdarwinsuranetuvaarpaclemclemnews', 'from', 'jmdcubehandheldcom', 'jim', 'de', 'arras', 'newsgroups', 'talkpoliticsguns', 'subject', 're', 'batffbi', 'murders', 'almost', 'everyone', 'waco', 'today', '419', 'date', '21', 'apr', '1993', '125603', 'gmt', 'organization', 'hand', 'held', 'products', 'inc', 'lines', '138', 'distribution', 'world', 'messageid', '1r3g93inn2m9clemhandheldcom', 'references', 'c5tlxr1xqnewsudeledu', 'nntppostinghost', 'dalehandheldcom', 'in', 'article', 'c5tlxr1xqnewsudeledu', 'robychopinudeledu', 'scott', 'w', 'roby', 'writes', 'in', 'article', '1r21g2inneahclemhandheldcom', 'jmdcubehandheldcom', 'jim', 'de', 'arras', 'writes', 'in', 'article', 'c5sou8lnbnewsudeledu', 'robychopinudeledu', 'scott', 'w', 'roby', 'writes', 'in', 'article', '1993apr2016373016128guinnessidbsuedu', 'betzgozeridbsuedu', 'andrew', 'betz', 'writes', 'in', 'article', 'c5rynwiz8newsudeledu', 'robychopinudeledu', 'scott', 'w', 'roby', 'writes', 'and', 'i', 'suppose', 'fbi', 'also', 'prevented', 'coming', 'hands', 'national', 'tv', 'cameras', 'watch', 'watch', 'two', 'miles', 'away', 'far', 'enough', 'away', 'whatever', 'really', 'happenned', 'must', 'explained', 'vengeful', 'filter', 'humiliated', 'agency', 'said', 'quote', 'enough', 'enough', 'please', 'tell', 'think', 'would', 'happened', 'people', 'come', 'hands', 'several', 'weeks', 'ago', 'it', 'didnt', 'happen', 'and', 'responsible', 'happening', 'certainly', 'children', 'koresh', 'calling', 'shots', 'he', 'talking', 'lawyer', 'fbi', 'since', 'others', 'released', 'safely', 'sane', 'reason', 'keeping', 'children', 'inside', 'compound', 'the', 'fbi', 'koresh', 'calling', 'shots', 'and', 'sane', 'reasons', 'keeping', 'children', 'let', 'go', 'parents', 'would', 'never', 'see', 'that', 'easy', 'choice', 'spite', 'cold', 'attitude', 'scenario', 'simplest', 'plausible', 'i', 'generally', 'believe', 'conspiracy', 'theories', 'involve', 'complicated', 'unlikely', 'scenarios', 'the', 'fbi', 'sent', 'letters', 'martin', 'luther', 'kings', 'wife', 'insinuating', 'mlk', 'affair', 'again', 'please', 'tell', 'us', 'exactly', 'much', 'trust', 'supposedly', 'benevolent', 'government', 'more', 'someone', 'would', 'release', 'children', 'compound', 'obviously', 'you', 'authority', 'worshiper', 'not', 'are', 'koresh', 'worshiper', 'i', 'constitution', 'worshiper', 'you', 'quite', 'obviously', 'eat', 'anything', 'authorities', 'feed', 'without', 'doubt', 'makes', 'different', 'koresh', 'worshiper', 'ie', 'david', 'koreshvernon', 'howelljesus', 'christ', 'i', 'saw', 'lengthy', 'excerpts', 'australian', 'documentary', 'made', '1992', 'clearly', 'showed', 'cult', 'give', 'camera', 'time', 'i', 'present', 'excerpts', 'show', 'cult', 'leader', 'guarenteed', 'thanks', 'laugh', 'day', 'definitely', 'silly', 'supposition', 'if', 'believe', 'truly', 'naive', 'it', 'possible', 'easy', 'i', 'worked', 'broadcast', 'profession', 'network', 'station', 'late', '70s', 'i', 'know', 'im', 'saying', 'embarrasing', 'footage', 'easy', 'get', 'add', 'little', 'sinister', 'music', 'right', 'voiceover', 'ill', 'mother', 'agreeing', 'commit', 'you', 'least', 'view', 'whole', 'documentary', 'claim', 'source', 'i', 'would', 'i', 'could', 'the', 'news', 'show', 'showed', 'lengthy', 'excerpts', 'also', 'interviews', 'filmmaker', 'made', 'documentary', 'basically', 'confirmed', 'shown', 'excerpts', 'time', 'spent', 'compound', '1992', 'the', 'news', 'shows', 'looking', 'excerpts', 'backed', 'position', 'do', 'think', 'would', 'show', 'excerpts', 'disproved', 'points', 'i', 'pleased', 'batf', 'handling', 'affair', 'i', 'think', 'bungled', 'badly', 'start', 'but', 'i', 'dont', 'think', 'responsible', 'fire', 'started', 'two', 'different', 'places', 'two', 'places', 'eh', 'you', 'saw', 'or', 'wonderful', 'fbi', 'tell', 'i', 'saw', 'one', 'place', 'i', 'believe', 'reported', 'local', 'radio', 'reporters', 'site', 'a', 'fire', 'started', 'three', 'story', 'tower', 'time', 'two', 'story', 'window', 'shown', 'tv', 'coverage', 'the', 'reports', 'multistarts', 'came', 'solely', 'fbi', 'anyone', 'observing', 'fire', 'available', 'video', 'would', 'hard', 'pressed', 'see', 'one', 'point', 'fire', 'which', 'spread', 'across', 'compound', 'uniform', 'rate', 'the', 'batf', 'means', 'devoid', 'fault', 'handling', 'affair', 'but', 'suggest', 'may', 'intentionally', 'started', 'fire', 'ludicrous', 'i', 'suspect', 'plenty', 'camerapeople', 'willing', 'risk', 'small', 'arms', 'fire', 'get', 'good', 'footage', 'these', 'people', 'told', 'get', 'hell', 'camera', 'range', 'why', 'couldnt', 'answer', 'one', 'eh', 'this', 'important', 'question', 'root', 'cause', 'suspicion', 'i', 'thought', 'mentioning', 'reagan', 'military', 'treated', 'press', 'grenada', 'set', 'precedent', 'decided', 'wasnt', 'worthy', 'discussion', 'if', 'news', 'reporter', 'got', 'shot', 'bet', 'family', 'would', 'sue', 'government', 'letting', 'danger', 'area', 'no', 'reported', 'ever', 'sued', 'government', 'situation', 'they', 'know', 'dangers', 'remember', 'batf', 'invited', 'initial', 'coverage', 'and', 'simple', 'remotecontrolled', 'camera', 'two', 'there', 'ways', 'provide', 'media', 'access', 'the', 'fbi', 'obviously', 'didnt', 'want', 'the', 'root', 'cause', 'suspicion', 'mind', '100', 'people', 'wouldnt', 'flee', 'building', 'numerous', 'exits', '30', 'minutes', 'time', 'took', 'burn', 'or', 'didnt', 'flee', 'hours', 'earlier', 'tear', 'gas', 'first', 'introduced', 'i', 'find', 'rational', 'explanation', 'behavior', 'i', 'find', 'several', 'tear', 'gas', 'smoke', 'making', 'impossible', 'remove', 'barricades', 'flames', 'blocking', 'exits', 'saferooms', 'perhaps', 'gun', 'shots', 'fbi', 'keeping', 'pinned', 'who', 'knows', 'jim', 'jmdhandheldcom', 'im', 'always', 'rethinking', 'theres', 'never', 'day', 'i', 'havent', 'rethought', 'but', 'i', 'cant', 'bill', 'clinton', '6', 'april', '93', 'if', 'i', 'american', 'i', 'englishman', 'foreign', 'troop', 'landed', 'country', 'i', 'never', 'would', 'lay', 'armsnevernevernever', 'william', 'pitt', 'earl', 'of', 'chatham', '17081778', '18', 'nov', '1777']\n"
          ],
          "name": "stdout"
        }
      ]
    },
    {
      "cell_type": "markdown",
      "metadata": {
        "id": "lID_t66msP3K"
      },
      "source": [
        "####Stemming"
      ]
    },
    {
      "cell_type": "code",
      "metadata": {
        "colab": {
          "base_uri": "https://localhost:8080/"
        },
        "id": "WPY_LsCWu7PL",
        "outputId": "44b73d91-1d48-4f91-a65e-f9f2714bae7c"
      },
      "source": [
        "from nltk.stem import PorterStemmer \n",
        "def stemming(my_str):\n",
        "  ps = PorterStemmer()\n",
        "  return [ps.stem(w) for w in my_str]\n",
        "\n",
        "#Test\n",
        "test=stemming(test)\n",
        "print(test)"
      ],
      "execution_count": null,
      "outputs": [
        {
          "output_type": "stream",
          "text": [
            "['path', 'cantaloupesrvcscmueducrabapplesrvcscmuedufs7ececmuedueuropaenggtefsdcomdarwinsuranetuvaarpaclemclemnew', 'from', 'jmdcubehandheldcom', 'jim', 'de', 'arra', 'newsgroup', 'talkpoliticsgun', 'subject', 're', 'batffbi', 'murder', 'almost', 'everyon', 'waco', 'today', '419', 'date', '21', 'apr', '1993', '125603', 'gmt', 'organ', 'hand', 'held', 'product', 'inc', 'line', '138', 'distribut', 'world', 'messageid', '1r3g93inn2m9clemhandheldcom', 'refer', 'c5tlxr1xqnewsudeledu', 'nntppostinghost', 'dalehandheldcom', 'in', 'articl', 'c5tlxr1xqnewsudeledu', 'robychopinudeledu', 'scott', 'w', 'robi', 'write', 'in', 'articl', '1r21g2inneahclemhandheldcom', 'jmdcubehandheldcom', 'jim', 'de', 'arra', 'write', 'in', 'articl', 'c5sou8lnbnewsudeledu', 'robychopinudeledu', 'scott', 'w', 'robi', 'write', 'in', 'articl', '1993apr2016373016128guinnessidbsuedu', 'betzgozeridbsuedu', 'andrew', 'betz', 'write', 'in', 'articl', 'c5rynwiz8newsudeledu', 'robychopinudeledu', 'scott', 'w', 'robi', 'write', 'and', 'i', 'suppos', 'fbi', 'also', 'prevent', 'come', 'hand', 'nation', 'tv', 'camera', 'watch', 'watch', 'two', 'mile', 'away', 'far', 'enough', 'away', 'whatev', 'realli', 'happen', 'must', 'explain', 'veng', 'filter', 'humili', 'agenc', 'said', 'quot', 'enough', 'enough', 'pleas', 'tell', 'think', 'would', 'happen', 'peopl', 'come', 'hand', 'sever', 'week', 'ago', 'it', 'didnt', 'happen', 'and', 'respons', 'happen', 'certainli', 'children', 'koresh', 'call', 'shot', 'he', 'talk', 'lawyer', 'fbi', 'sinc', 'other', 'releas', 'safe', 'sane', 'reason', 'keep', 'children', 'insid', 'compound', 'the', 'fbi', 'koresh', 'call', 'shot', 'and', 'sane', 'reason', 'keep', 'children', 'let', 'go', 'parent', 'would', 'never', 'see', 'that', 'easi', 'choic', 'spite', 'cold', 'attitud', 'scenario', 'simplest', 'plausibl', 'i', 'gener', 'believ', 'conspiraci', 'theori', 'involv', 'complic', 'unlik', 'scenario', 'the', 'fbi', 'sent', 'letter', 'martin', 'luther', 'king', 'wife', 'insinu', 'mlk', 'affair', 'again', 'pleas', 'tell', 'us', 'exactli', 'much', 'trust', 'supposedli', 'benevol', 'govern', 'more', 'someon', 'would', 'releas', 'children', 'compound', 'obvious', 'you', 'author', 'worship', 'not', 'are', 'koresh', 'worship', 'i', 'constitut', 'worship', 'you', 'quit', 'obvious', 'eat', 'anyth', 'author', 'feed', 'without', 'doubt', 'make', 'differ', 'koresh', 'worship', 'ie', 'david', 'koreshvernon', 'howelljesu', 'christ', 'i', 'saw', 'lengthi', 'excerpt', 'australian', 'documentari', 'made', '1992', 'clearli', 'show', 'cult', 'give', 'camera', 'time', 'i', 'present', 'excerpt', 'show', 'cult', 'leader', 'guarente', 'thank', 'laugh', 'day', 'definit', 'silli', 'supposit', 'if', 'believ', 'truli', 'naiv', 'it', 'possibl', 'easi', 'i', 'work', 'broadcast', 'profess', 'network', 'station', 'late', '70', 'i', 'know', 'im', 'say', 'embarras', 'footag', 'easi', 'get', 'add', 'littl', 'sinist', 'music', 'right', 'voiceov', 'ill', 'mother', 'agre', 'commit', 'you', 'least', 'view', 'whole', 'documentari', 'claim', 'sourc', 'i', 'would', 'i', 'could', 'the', 'news', 'show', 'show', 'lengthi', 'excerpt', 'also', 'interview', 'filmmak', 'made', 'documentari', 'basic', 'confirm', 'shown', 'excerpt', 'time', 'spent', 'compound', '1992', 'the', 'news', 'show', 'look', 'excerpt', 'back', 'posit', 'do', 'think', 'would', 'show', 'excerpt', 'disprov', 'point', 'i', 'pleas', 'batf', 'handl', 'affair', 'i', 'think', 'bungl', 'badli', 'start', 'but', 'i', 'dont', 'think', 'respons', 'fire', 'start', 'two', 'differ', 'place', 'two', 'place', 'eh', 'you', 'saw', 'or', 'wonder', 'fbi', 'tell', 'i', 'saw', 'one', 'place', 'i', 'believ', 'report', 'local', 'radio', 'report', 'site', 'a', 'fire', 'start', 'three', 'stori', 'tower', 'time', 'two', 'stori', 'window', 'shown', 'tv', 'coverag', 'the', 'report', 'multistart', 'came', 'sole', 'fbi', 'anyon', 'observ', 'fire', 'avail', 'video', 'would', 'hard', 'press', 'see', 'one', 'point', 'fire', 'which', 'spread', 'across', 'compound', 'uniform', 'rate', 'the', 'batf', 'mean', 'devoid', 'fault', 'handl', 'affair', 'but', 'suggest', 'may', 'intent', 'start', 'fire', 'ludicr', 'i', 'suspect', 'plenti', 'camerapeopl', 'will', 'risk', 'small', 'arm', 'fire', 'get', 'good', 'footag', 'these', 'peopl', 'told', 'get', 'hell', 'camera', 'rang', 'whi', 'couldnt', 'answer', 'one', 'eh', 'thi', 'import', 'question', 'root', 'caus', 'suspicion', 'i', 'thought', 'mention', 'reagan', 'militari', 'treat', 'press', 'grenada', 'set', 'preced', 'decid', 'wasnt', 'worthi', 'discuss', 'if', 'news', 'report', 'got', 'shot', 'bet', 'famili', 'would', 'sue', 'govern', 'let', 'danger', 'area', 'no', 'report', 'ever', 'su', 'govern', 'situat', 'they', 'know', 'danger', 'rememb', 'batf', 'invit', 'initi', 'coverag', 'and', 'simpl', 'remotecontrol', 'camera', 'two', 'there', 'way', 'provid', 'media', 'access', 'the', 'fbi', 'obvious', 'didnt', 'want', 'the', 'root', 'caus', 'suspicion', 'mind', '100', 'peopl', 'wouldnt', 'flee', 'build', 'numer', 'exit', '30', 'minut', 'time', 'took', 'burn', 'or', 'didnt', 'flee', 'hour', 'earlier', 'tear', 'ga', 'first', 'introduc', 'i', 'find', 'ration', 'explan', 'behavior', 'i', 'find', 'sever', 'tear', 'ga', 'smoke', 'make', 'imposs', 'remov', 'barricad', 'flame', 'block', 'exit', 'saferoom', 'perhap', 'gun', 'shot', 'fbi', 'keep', 'pin', 'who', 'know', 'jim', 'jmdhandheldcom', 'im', 'alway', 'rethink', 'there', 'never', 'day', 'i', 'havent', 'rethought', 'but', 'i', 'cant', 'bill', 'clinton', '6', 'april', '93', 'if', 'i', 'american', 'i', 'englishman', 'foreign', 'troop', 'land', 'countri', 'i', 'never', 'would', 'lay', 'armsnevernevernev', 'william', 'pitt', 'earl', 'of', 'chatham', '17081778', '18', 'nov', '1777']\n"
          ],
          "name": "stdout"
        }
      ]
    },
    {
      "cell_type": "markdown",
      "metadata": {
        "id": "S-IHlhJbStgL"
      },
      "source": [
        "####Applying the aforementioned methods into train and test datasets"
      ]
    },
    {
      "cell_type": "code",
      "metadata": {
        "id": "GJC0VQ-UOTZw"
      },
      "source": [
        "input_train_in_tokens=[]\n",
        "for i in input_train:\n",
        "  i=remove_punctuations(str(i))\n",
        "  i=keep_words_and_numbers(i)\n",
        "  i=make_tokens(i)\n",
        "  i=remove_stopwords(i)\n",
        "  i=to_lower_case(i)\n",
        "  i=stemming(i)\n",
        "  input_train_in_tokens.append(i)"
      ],
      "execution_count": null,
      "outputs": []
    },
    {
      "cell_type": "code",
      "metadata": {
        "colab": {
          "base_uri": "https://localhost:8080/"
        },
        "id": "1voH3vB5StEV",
        "outputId": "00ee144e-8a6e-4bb7-ccca-46272eb2e2f0"
      },
      "source": [
        "len(input_train_in_tokens)"
      ],
      "execution_count": null,
      "outputs": [
        {
          "output_type": "execute_result",
          "data": {
            "text/plain": [
              "15019"
            ]
          },
          "metadata": {
            "tags": []
          },
          "execution_count": 47
        }
      ]
    },
    {
      "cell_type": "code",
      "metadata": {
        "colab": {
          "base_uri": "https://localhost:8080/"
        },
        "id": "m6KctvheQefp",
        "outputId": "778bbb19-982f-4703-aed8-372714b35ded"
      },
      "source": [
        "print(input_train_in_tokens[44])"
      ],
      "execution_count": null,
      "outputs": [
        {
          "output_type": "stream",
          "text": [
            "['bpath', 'cantaloupesrvcscmuedurochesterudelgatechhowlandrestonansnetzaphodmpsohiostateeduuunetcaxenitecelectroelectrocomlotdsapapoutsnfrom', 'apapoutslotdsuucp', 'anesti', 'papoutsisnnewsgroup', 'compsysibmpchardwarenfollowupto', 'compsysibmpchardwarensubject', 'canon', 'canadanmessageid', 'apapouts0es2lotdsuucpnd', '22', 'apr', '93', '023201', 'estnorgan', 'the', 'land', 'the', 'darksid', 'bb', '5198889869nline', '6nnwould', 'someon', 'pleas', 'leav', 'full', 'address', 'canon', 'canadanthank', 'younn', 'via', 'uci', 'v121', 'cnet', 'amigannuucp', 'apapoutslotdsuucpn']\n"
          ],
          "name": "stdout"
        }
      ]
    },
    {
      "cell_type": "code",
      "metadata": {
        "colab": {
          "base_uri": "https://localhost:8080/"
        },
        "id": "M_TYz_OqSYOb",
        "outputId": "3576597e-8be7-4a56-fb50-81c1179db744"
      },
      "source": [
        "print(type(input_train_in_tokens),type(input_train_in_tokens[0][0]))"
      ],
      "execution_count": null,
      "outputs": [
        {
          "output_type": "stream",
          "text": [
            "<class 'list'> <class 'str'>\n"
          ],
          "name": "stdout"
        }
      ]
    },
    {
      "cell_type": "code",
      "metadata": {
        "id": "KR8as6w_Siak"
      },
      "source": [
        "input_test_in_tokens=[]\n",
        "for i in input_test:\n",
        "  i=remove_punctuations(str(i))\n",
        "  i=keep_words_and_numbers(i)\n",
        "  i=make_tokens(i)\n",
        "  i=remove_stopwords(i)\n",
        "  i=to_lower_case(i)\n",
        "  i=stemming(i)\n",
        "  input_test_in_tokens.append(i)"
      ],
      "execution_count": null,
      "outputs": []
    },
    {
      "cell_type": "code",
      "metadata": {
        "colab": {
          "base_uri": "https://localhost:8080/"
        },
        "id": "TxdLeoGfSzkP",
        "outputId": "d0a2332d-8056-48e4-aa03-f2e0685f85a5"
      },
      "source": [
        "len(input_test_in_tokens)"
      ],
      "execution_count": null,
      "outputs": [
        {
          "output_type": "execute_result",
          "data": {
            "text/plain": [
              "5007"
            ]
          },
          "metadata": {
            "tags": []
          },
          "execution_count": 51
        }
      ]
    },
    {
      "cell_type": "markdown",
      "metadata": {
        "id": "aCu7GbvAU7q6"
      },
      "source": [
        "### Similar process can be done using sklearn's class CountVectorizer"
      ]
    },
    {
      "cell_type": "code",
      "metadata": {
        "id": "CrEpkLMXx9TJ"
      },
      "source": [
        "from sklearn.feature_extraction.text import CountVectorizer\n",
        "counter = CountVectorizer(decode_error='ignore')#encoding='latin-1'\n",
        "counter.fit(input_train)\n",
        "train_counts = counter.transform(input_train)\n",
        "test_counts = counter.transform(input_test)"
      ],
      "execution_count": null,
      "outputs": []
    },
    {
      "cell_type": "markdown",
      "metadata": {
        "id": "rqpvxVYwU9Sn"
      },
      "source": [
        "###Model"
      ]
    },
    {
      "cell_type": "code",
      "metadata": {
        "id": "XPWsfIp_zCh_",
        "colab": {
          "base_uri": "https://localhost:8080/"
        },
        "outputId": "c08a1dd2-a357-48d3-91b6-9a58a5e7b840"
      },
      "source": [
        "from sklearn.naive_bayes import MultinomialNB\n",
        "classifier = MultinomialNB()\n",
        "classifier.fit(train_counts,output_train)"
      ],
      "execution_count": null,
      "outputs": [
        {
          "output_type": "execute_result",
          "data": {
            "text/plain": [
              "MultinomialNB(alpha=1.0, class_prior=None, fit_prior=True)"
            ]
          },
          "metadata": {
            "tags": []
          },
          "execution_count": 57
        }
      ]
    },
    {
      "cell_type": "markdown",
      "metadata": {
        "id": "IKeThXVrVuKH"
      },
      "source": [
        "###Prediction"
      ]
    },
    {
      "cell_type": "code",
      "metadata": {
        "id": "2Vhp8BDVVwzs"
      },
      "source": [
        "predicted = classifier.predict(test_counts)"
      ],
      "execution_count": null,
      "outputs": []
    },
    {
      "cell_type": "code",
      "metadata": {
        "colab": {
          "base_uri": "https://localhost:8080/"
        },
        "id": "MisHgoy4W96k",
        "outputId": "373fb714-ccf1-4906-ffe1-fd4fe3a83ef0"
      },
      "source": [
        "print(\"Actual result:\")\n",
        "for i in output_test[:10]:\n",
        "  print(i)"
      ],
      "execution_count": null,
      "outputs": [
        {
          "output_type": "stream",
          "text": [
            "Actual result:\n",
            "20_newsgroups_dataset/sci.electronics\n",
            "20_newsgroups_dataset/sci.electronics\n",
            "20_newsgroups_dataset/comp.graphics\n",
            "20_newsgroups_dataset/misc.forsale\n",
            "20_newsgroups_dataset/comp.sys.ibm.pc.hardware\n",
            "20_newsgroups_dataset/comp.windows.x\n",
            "20_newsgroups_dataset/sci.space\n",
            "20_newsgroups_dataset/comp.sys.mac.hardware\n",
            "20_newsgroups_dataset/comp.graphics\n",
            "20_newsgroups_dataset/rec.autos\n"
          ],
          "name": "stdout"
        }
      ]
    },
    {
      "cell_type": "code",
      "metadata": {
        "colab": {
          "base_uri": "https://localhost:8080/"
        },
        "id": "VQyX6TaUXQA2",
        "outputId": "8dec1d09-8b45-43c3-f398-2d18c3fb98d5"
      },
      "source": [
        "print(\"Predicted:\")\n",
        "for i in predicted[:10]:\n",
        "  print(i)"
      ],
      "execution_count": null,
      "outputs": [
        {
          "output_type": "stream",
          "text": [
            "Predicted:\n",
            "20_newsgroups_dataset/sci.space\n",
            "20_newsgroups_dataset/sci.electronics\n",
            "20_newsgroups_dataset/comp.graphics\n",
            "20_newsgroups_dataset/misc.forsale\n",
            "20_newsgroups_dataset/comp.sys.ibm.pc.hardware\n",
            "20_newsgroups_dataset/comp.windows.x\n",
            "20_newsgroups_dataset/sci.space\n",
            "20_newsgroups_dataset/comp.sys.mac.hardware\n",
            "20_newsgroups_dataset/comp.graphics\n",
            "20_newsgroups_dataset/rec.autos\n"
          ],
          "name": "stdout"
        }
      ]
    },
    {
      "cell_type": "code",
      "metadata": {
        "colab": {
          "base_uri": "https://localhost:8080/"
        },
        "id": "Ew8uaL9BXgwn",
        "outputId": "8dcf5c99-3e9e-41c6-991e-6a650ddba5ec"
      },
      "source": [
        "print(\"Difference:\")\n",
        "correct=0\n",
        "incorrect=0\n",
        "for i in range(5007):\n",
        "  if(output_test[i]==predicted[i]):\n",
        "    correct+=1\n",
        "  else:\n",
        "    incorrect+=1\n",
        "print(\"Correct:\",correct)\n",
        "print(\"Incorrect:\",incorrect)"
      ],
      "execution_count": null,
      "outputs": [
        {
          "output_type": "stream",
          "text": [
            "Difference:\n",
            "Correct: 4416\n",
            "Incorrect: 591\n"
          ],
          "name": "stdout"
        }
      ]
    },
    {
      "cell_type": "markdown",
      "metadata": {
        "id": "mxpcKWjcVEXi"
      },
      "source": [
        "###Evalution"
      ]
    },
    {
      "cell_type": "markdown",
      "metadata": {
        "id": "ZI1_Yq1gaFeG"
      },
      "source": [
        "#### Accuracy"
      ]
    },
    {
      "cell_type": "code",
      "metadata": {
        "id": "5ifqtPiqafQ3"
      },
      "source": [
        "from sklearn.metrics import accuracy_score\n",
        "from sklearn.metrics import confusion_matrix\n",
        "from sklearn.metrics import f1_score"
      ],
      "execution_count": null,
      "outputs": []
    },
    {
      "cell_type": "code",
      "metadata": {
        "id": "OmxzdU0FzN3r"
      },
      "source": [
        "accuracy = accuracy_score(output_test,predicted)"
      ],
      "execution_count": null,
      "outputs": []
    },
    {
      "cell_type": "code",
      "metadata": {
        "colab": {
          "base_uri": "https://localhost:8080/"
        },
        "id": "8G3uJ7r3zVi3",
        "outputId": "eae34142-6396-4d47-dec8-00d897d6cf92"
      },
      "source": [
        "accuracy"
      ],
      "execution_count": null,
      "outputs": [
        {
          "output_type": "execute_result",
          "data": {
            "text/plain": [
              "0.8819652486518874"
            ]
          },
          "metadata": {
            "tags": []
          },
          "execution_count": 72
        }
      ]
    },
    {
      "cell_type": "markdown",
      "metadata": {
        "id": "vZkSMCjEaD08"
      },
      "source": [
        "####Confusion Matrix"
      ]
    },
    {
      "cell_type": "code",
      "metadata": {
        "colab": {
          "base_uri": "https://localhost:8080/"
        },
        "id": "ef3nFC0ZZxll",
        "outputId": "dca69610-4fc1-4619-8457-ab8743b2963f"
      },
      "source": [
        "confusion = confusion_matrix(output_test, predicted)\n",
        "print(\"Confusion matrix:\\n{}\".format(confusion))\n",
        "#rows-actual,cols-predicted"
      ],
      "execution_count": null,
      "outputs": [
        {
          "output_type": "stream",
          "text": [
            "Confusion matrix:\n",
            "[[207   0   0   0   0   0   0   0   0   0   0   0   0   0   0   2   0   1\n",
            "    3  34]\n",
            " [  0 215   0   8   0  10   2   0   0   0   0   0   2   0   0   0   1   0\n",
            "    0   0]\n",
            " [  0  18 140  40   3  33   0   0   0   0   0   1   3   0   1   0   0   0\n",
            "    2   0]\n",
            " [  1   9   1 210  11   1   1   0   0   0   0   0   2   0   0   0   0   0\n",
            "    0   0]\n",
            " [  0   7   0   9 225   1   0   0   0   0   0   0   0   0   0   0   0   0\n",
            "    0   0]\n",
            " [  0  13   2   4   4 244   0   0   0   0   0   2   1   2   1   0   0   0\n",
            "    0   0]\n",
            " [  1   2   0   4   2   0 214   6   0   0   2   1   4   0   2   0   4   3\n",
            "    3   2]\n",
            " [  0   0   0   1   0   0   6 226   3   0   2   0   4   0   2   0   1   0\n",
            "    2   0]\n",
            " [  0   0   0   0   1   0   1   9 238   0   0   1   0   0   2   0   3   0\n",
            "    2   0]\n",
            " [  1   0   0   0   0   1   1   0   2 255   7   0   0   0   1   0   0   0\n",
            "    0   0]\n",
            " [  0   0   0   0   0   0   2   0   0   2 242   0   0   0   0   0   1   0\n",
            "    0   0]\n",
            " [  0   1   0   0   1   0   3   0   0   0   1 244   0   1   0   0   0   1\n",
            "    0   1]\n",
            " [  0   4   0   4   7   1   2   4   0   0   0   3 225   0   6   0   0   0\n",
            "    0   1]\n",
            " [  0   3   0   1   0   1   2   1   0   0   2   1   1 257   2   0   1   2\n",
            "    3   0]\n",
            " [  0   3   0   0   1   2   0   1   0   0   0   2   0   0 243   0   1   0\n",
            "    1   0]\n",
            " [  0   0   0   0   0   0   0   0   0   0   0   0   0   0   0 252   0   1\n",
            "    0   0]\n",
            " [  0   0   0   1   0   0   0   0   0   0   0   1   0   0   0   0 218   3\n",
            "   12   1]\n",
            " [  0   0   0   0   0   0   0   0   0   0   0   0   0   0   0   1   1 215\n",
            "    5   0]\n",
            " [  0   0   0   0   0   0   0   0   0   0   0   1   0   0   0   0   7  16\n",
            "  198  16]\n",
            " [ 56   0   0   0   0   0   0   0   0   0   0   0   0   0   1  11  10   1\n",
            "   44 148]]\n"
          ],
          "name": "stdout"
        }
      ]
    },
    {
      "cell_type": "markdown",
      "metadata": {
        "id": "OF63E9kDa8uU"
      },
      "source": [
        "####Precision and Recall"
      ]
    },
    {
      "cell_type": "code",
      "metadata": {
        "colab": {
          "base_uri": "https://localhost:8080/"
        },
        "id": "qrFtcMMJa9HD",
        "outputId": "8fceb205-02a3-4b45-8be7-616900e1a9cc"
      },
      "source": [
        "from sklearn.metrics import classification_report\n",
        "print(classification_report(output_test, predicted,target_names=folders,))"
      ],
      "execution_count": null,
      "outputs": [
        {
          "output_type": "stream",
          "text": [
            "                          precision    recall  f1-score   support\n",
            "\n",
            "      talk.politics.guns       0.78      0.84      0.81       247\n",
            "comp.sys.ibm.pc.hardware       0.78      0.90      0.84       238\n",
            "          comp.windows.x       0.98      0.58      0.73       241\n",
            "            misc.forsale       0.74      0.89      0.81       236\n",
            "  soc.religion.christian       0.88      0.93      0.91       242\n",
            "           comp.graphics       0.83      0.89      0.86       273\n",
            "         sci.electronics       0.91      0.86      0.88       250\n",
            "               sci.space       0.91      0.91      0.91       247\n",
            "      talk.religion.misc       0.98      0.93      0.95       257\n",
            "         rec.motorcycles       0.99      0.95      0.97       268\n",
            " comp.os.ms-windows.misc       0.95      0.98      0.96       247\n",
            "   talk.politics.mideast       0.95      0.96      0.96       253\n",
            "               sci.crypt       0.93      0.88      0.90       257\n",
            "      rec.sport.baseball       0.99      0.93      0.96       277\n",
            "             alt.atheism       0.93      0.96      0.94       254\n",
            "                 sci.med       0.95      1.00      0.97       253\n",
            "      talk.politics.misc       0.88      0.92      0.90       236\n",
            "        rec.sport.hockey       0.88      0.97      0.92       222\n",
            "               rec.autos       0.72      0.83      0.77       238\n",
            "   comp.sys.mac.hardware       0.73      0.55      0.62       271\n",
            "\n",
            "                accuracy                           0.88      5007\n",
            "               macro avg       0.89      0.88      0.88      5007\n",
            "            weighted avg       0.89      0.88      0.88      5007\n",
            "\n"
          ],
          "name": "stdout"
        }
      ]
    },
    {
      "cell_type": "markdown",
      "metadata": {
        "id": "UHQhsHiqbZgl"
      },
      "source": [
        "####F1 Score "
      ]
    },
    {
      "cell_type": "code",
      "metadata": {
        "colab": {
          "base_uri": "https://localhost:8080/"
        },
        "id": "4JCAJKIWbuya",
        "outputId": "99a62f6e-4a26-4f36-a6f5-f97eb233ff4b"
      },
      "source": [
        "print(\"f1 score most frequent: {:.2f}\".format(f1_score(output_test, predicted,average='micro')))"
      ],
      "execution_count": null,
      "outputs": [
        {
          "output_type": "stream",
          "text": [
            "f1 score most frequent: 0.88\n"
          ],
          "name": "stdout"
        }
      ]
    },
    {
      "cell_type": "markdown",
      "metadata": {
        "id": "8R9nzjdfdeDf"
      },
      "source": [
        "### Similar process can be done using sklearn's class TfidfVectorizer"
      ]
    },
    {
      "cell_type": "code",
      "metadata": {
        "id": "kg-USaM7WIfI"
      },
      "source": [
        "from sklearn.feature_extraction.text import TfidfVectorizer\n",
        "vectorizer = TfidfVectorizer(decode_error='ignore')\n",
        "vectorizer.fit(input_train)\n",
        "train_counts = vectorizer.transform(input_train)\n",
        "test_counts = vectorizer.transform(input_test)"
      ],
      "execution_count": null,
      "outputs": []
    },
    {
      "cell_type": "markdown",
      "metadata": {
        "id": "Ag0ltfIFd0uh"
      },
      "source": [
        "###Model"
      ]
    },
    {
      "cell_type": "code",
      "metadata": {
        "id": "W-SRi5gbWe8a"
      },
      "source": [
        "from sklearn.naive_bayes import MultinomialNB\n",
        "classifier = MultinomialNB()\n",
        "classifier.fit(train_counts,output_train)\n",
        "predicted_using_tfidf = classifier.predict(test_counts)"
      ],
      "execution_count": null,
      "outputs": []
    },
    {
      "cell_type": "markdown",
      "metadata": {
        "id": "Y4Hqy96KeWac"
      },
      "source": [
        "#### Accuracy"
      ]
    },
    {
      "cell_type": "code",
      "metadata": {
        "id": "3HPvFVYQWiK5"
      },
      "source": [
        "from sklearn.metrics import accuracy_score\n",
        "accuracy_using_tfidf = accuracy_score(output_test,predicted_using_tfidf)"
      ],
      "execution_count": null,
      "outputs": []
    },
    {
      "cell_type": "code",
      "metadata": {
        "colab": {
          "base_uri": "https://localhost:8080/"
        },
        "id": "y4tXNnwdWkNH",
        "outputId": "0c1cf6a4-5d28-4c4b-c75b-c575a74acde2"
      },
      "source": [
        "accuracy_using_tfidf"
      ],
      "execution_count": null,
      "outputs": [
        {
          "output_type": "execute_result",
          "data": {
            "text/plain": [
              "0.8735769922109047"
            ]
          },
          "metadata": {
            "tags": []
          },
          "execution_count": 84
        }
      ]
    },
    {
      "cell_type": "markdown",
      "metadata": {
        "id": "DyGtlWVWecKm"
      },
      "source": [
        "####Confusion Matrix"
      ]
    },
    {
      "cell_type": "code",
      "metadata": {
        "colab": {
          "base_uri": "https://localhost:8080/"
        },
        "id": "PL9UWirXegbY",
        "outputId": "a350cb90-8108-4c36-8f0e-4181a2f67643"
      },
      "source": [
        "confusion_using_tfidf = confusion_matrix(output_test, predicted_using_tfidf)\n",
        "print(\"Confusion matrix:\\n{}\".format(confusion_using_tfidf))\n",
        "#rows-actual,cols-predicted"
      ],
      "execution_count": null,
      "outputs": [
        {
          "output_type": "stream",
          "text": [
            "Confusion matrix:\n",
            "[[206   0   0   0   0   0   0   0   0   0   0   0   0   0   0  10   1   0\n",
            "    2  28]\n",
            " [  1 199   7   4   2   5   1   1   0   1   1   5   4   0   2   1   3   1\n",
            "    0   0]\n",
            " [  0   4 222   9   1   2   0   0   0   0   1   0   1   0   1   0   0   0\n",
            "    0   0]\n",
            " [  1   2   6 212   9   0   1   1   0   0   1   2   0   0   0   0   1   0\n",
            "    0   0]\n",
            " [  1   0   2  12 220   0   1   0   0   0   0   2   1   0   0   0   2   0\n",
            "    1   0]\n",
            " [  2  11  12   8   2 218   0   1   3   0   1   4   0   2   3   2   4   0\n",
            "    0   0]\n",
            " [  1   0   1   5   5   0 201   5   1   0   5   3   3   0   2   0   9   3\n",
            "    5   1]\n",
            " [  0   0   0   1   1   0   4 221   4   0   2   0   4   0   2   0   6   0\n",
            "    2   0]\n",
            " [  1   0   0   0   1   0   0   4 241   0   0   2   0   0   1   0   4   2\n",
            "    1   0]\n",
            " [  1   0   0   0   0   2   1   0   2 248  11   0   0   0   1   0   1   0\n",
            "    1   0]\n",
            " [  0   1   0   0   0   0   0   1   0   1 241   1   0   0   0   0   1   1\n",
            "    0   0]\n",
            " [  0   1   0   0   0   0   1   0   0   0   1 246   2   0   0   0   1   1\n",
            "    0   0]\n",
            " [  0   3   2   5   7   0   3   6   0   0   2   9 205   0   8   1   3   1\n",
            "    1   1]\n",
            " [  0   2   0   1   1   1   2   1   1   1   5   2   1 238   3   7   7   3\n",
            "    1   0]\n",
            " [  0   1   0   0   2   1   0   1   0   0   1   3   0   0 239   3   1   1\n",
            "    1   0]\n",
            " [  0   0   0   0   0   0   0   0   0   0   0   0   0   0   0 253   0   0\n",
            "    0   0]\n",
            " [  0   0   0   1   0   0   0   0   0   0   0   0   0   0   0   0 225   0\n",
            "    9   1]\n",
            " [  0   0   0   0   0   0   0   0   0   0   0   0   0   0   0   1   1 219\n",
            "    1   0]\n",
            " [  0   0   0   0   0   0   0   0   0   0   1   1   0   0   0   0  13  15\n",
            "  193  15]\n",
            " [ 57   0   0   0   0   0   0   0   0   0   0   0   0   0   1  32  14   1\n",
            "   39 127]]\n"
          ],
          "name": "stdout"
        }
      ]
    },
    {
      "cell_type": "markdown",
      "metadata": {
        "id": "c2OwvLpVfj0B"
      },
      "source": [
        "####Precision and Recall"
      ]
    },
    {
      "cell_type": "code",
      "metadata": {
        "colab": {
          "base_uri": "https://localhost:8080/"
        },
        "id": "jYPjaz5_fnr3",
        "outputId": "f6a328a9-2777-40b6-ccac-4b4ab876d17b"
      },
      "source": [
        "from sklearn.metrics import classification_report\n",
        "print(classification_report(output_test, predicted_using_tfidf,target_names=folders,))"
      ],
      "execution_count": null,
      "outputs": [
        {
          "output_type": "stream",
          "text": [
            "                          precision    recall  f1-score   support\n",
            "\n",
            "      talk.politics.guns       0.76      0.83      0.80       247\n",
            "comp.sys.ibm.pc.hardware       0.89      0.84      0.86       238\n",
            "          comp.windows.x       0.88      0.92      0.90       241\n",
            "            misc.forsale       0.82      0.90      0.86       236\n",
            "  soc.religion.christian       0.88      0.91      0.89       242\n",
            "           comp.graphics       0.95      0.80      0.87       273\n",
            "         sci.electronics       0.93      0.80      0.86       250\n",
            "               sci.space       0.91      0.89      0.90       247\n",
            "      talk.religion.misc       0.96      0.94      0.95       257\n",
            "         rec.motorcycles       0.99      0.93      0.96       268\n",
            " comp.os.ms-windows.misc       0.88      0.98      0.93       247\n",
            "   talk.politics.mideast       0.88      0.97      0.92       253\n",
            "               sci.crypt       0.93      0.80      0.86       257\n",
            "      rec.sport.baseball       0.99      0.86      0.92       277\n",
            "             alt.atheism       0.91      0.94      0.92       254\n",
            "                 sci.med       0.82      1.00      0.90       253\n",
            "      talk.politics.misc       0.76      0.95      0.84       236\n",
            "        rec.sport.hockey       0.88      0.99      0.93       222\n",
            "               rec.autos       0.75      0.81      0.78       238\n",
            "   comp.sys.mac.hardware       0.73      0.47      0.57       271\n",
            "\n",
            "                accuracy                           0.87      5007\n",
            "               macro avg       0.88      0.88      0.87      5007\n",
            "            weighted avg       0.88      0.87      0.87      5007\n",
            "\n"
          ],
          "name": "stdout"
        }
      ]
    },
    {
      "cell_type": "markdown",
      "metadata": {
        "id": "-ZcX4qykf6Oi"
      },
      "source": [
        "####F1 Score "
      ]
    },
    {
      "cell_type": "code",
      "metadata": {
        "colab": {
          "base_uri": "https://localhost:8080/"
        },
        "id": "6PXMwqRjf9uc",
        "outputId": "3051d635-9967-4b3f-90af-d690877bdd0c"
      },
      "source": [
        "print(\"f1 score most frequent: {:.2f}\".format(f1_score(output_test, predicted_using_tfidf,average='micro')))"
      ],
      "execution_count": null,
      "outputs": [
        {
          "output_type": "stream",
          "text": [
            "f1 score most frequent: 0.87\n"
          ],
          "name": "stdout"
        }
      ]
    },
    {
      "cell_type": "markdown",
      "metadata": {
        "id": "fMRiFjftIEBA"
      },
      "source": [
        "##Conclusion"
      ]
    },
    {
      "cell_type": "markdown",
      "metadata": {
        "id": "HUU8vPHClhMQ"
      },
      "source": [
        "**This model is pretty good with both types of vectorizers**\n",
        "\n",
        " "
      ]
    },
    {
      "cell_type": "markdown",
      "metadata": {
        "id": "OkZj4ll1s8U-"
      },
      "source": [
        "![image.png](data:image/png;base64,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)"
      ]
    },
    {
      "cell_type": "markdown",
      "metadata": {
        "id": "_onr6gfpCpEQ"
      },
      "source": [
        "##Reference"
      ]
    },
    {
      "cell_type": "markdown",
      "metadata": {
        "id": "pPkbAGONCqtA"
      },
      "source": [
        "* https://scikit-learn.org/stable/modules/naive_bayes.html#multinomial-naive-bayes\n",
        "* https://www.youtube.com/user/krishnaik06\n",
        "* https://scikit-learn.org/stable/modules/generated/sklearn.feature_extraction.text.TfidfVectorizer.html\n",
        "* https://scikit-learn.org/stable/modules/generated/sklearn.feature_extraction.text.CountVectorizer.html\n"
      ]
    }
  ]
}