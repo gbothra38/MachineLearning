{
  "nbformat": 4,
  "nbformat_minor": 0,
  "metadata": {
    "colab": {
      "name": "Spam.ipynb",
      "provenance": [],
      "mount_file_id": "1v_mKKbmg6Ah6gnM8bpiGZm_zi8eW5yy7",
      "authorship_tag": "ABX9TyPauDewOcXKhbTV9eKQNwPC",
      "include_colab_link": true
    },
    "kernelspec": {
      "display_name": "Python 3",
      "name": "python3"
    },
    "language_info": {
      "name": "python"
    }
  },
  "cells": [
    {
      "cell_type": "markdown",
      "metadata": {
        "id": "view-in-github",
        "colab_type": "text"
      },
      "source": [
        "<a href=\"https://colab.research.google.com/github/gbothra38/MachineLearning/blob/main/Spam.ipynb\" target=\"_parent\"><img src=\"https://colab.research.google.com/assets/colab-badge.svg\" alt=\"Open In Colab\"/></a>"
      ]
    },
    {
      "cell_type": "markdown",
      "metadata": {
        "id": "oj9jwH0JTYqI"
      },
      "source": [
        "###Naive Bayes"
      ]
    },
    {
      "cell_type": "markdown",
      "metadata": {
        "id": "j972kALUTrI8"
      },
      "source": [
        "* Bayes Theorem:\n",
        "\n",
        "  P(A|B)=P(B|A)*P(A) / P(B)\n",
        "\n",
        "* In our case:\n",
        "\n",
        " P(y|X)=P(X|y)*P(y) / P(X),  \n",
        "  X=(x1,x2,.....,xn) are the features\n",
        " \n",
        " Assuming that all features are mutually independent\n",
        " P(y|X)=P(x1|y)*P(x2|y)*....*P(xn|y)*P(y) / p(X)\n"
      ]
    },
    {
      "cell_type": "code",
      "metadata": {
        "id": "WXX2QF-rVQUk"
      },
      "source": [
        "import pandas as pd\n",
        "import numpy as np"
      ],
      "execution_count": null,
      "outputs": []
    },
    {
      "cell_type": "code",
      "metadata": {
        "colab": {
          "base_uri": "https://localhost:8080/"
        },
        "id": "dTfxaBG5XIUr",
        "outputId": "851e2d69-5d7e-4963-d4aa-a270242b326c"
      },
      "source": [
        "ls drive/"
      ],
      "execution_count": null,
      "outputs": [
        {
          "output_type": "stream",
          "text": [
            "\u001b[0m\u001b[01;34mMyDrive\u001b[0m/\n"
          ],
          "name": "stdout"
        }
      ]
    },
    {
      "cell_type": "code",
      "metadata": {
        "colab": {
          "base_uri": "https://localhost:8080/"
        },
        "id": "OnokTyTaXS9T",
        "outputId": "092ebb23-9db7-4f47-d2f4-049302ccc4c6"
      },
      "source": [
        "cd drive/MyDrive"
      ],
      "execution_count": null,
      "outputs": [
        {
          "output_type": "stream",
          "text": [
            "/content/drive/MyDrive\n"
          ],
          "name": "stdout"
        }
      ]
    },
    {
      "cell_type": "code",
      "metadata": {
        "id": "1C9nPKNlYEVx"
      },
      "source": [
        "dataset=pd.read_csv('spam_ham_dataset.csv')"
      ],
      "execution_count": null,
      "outputs": []
    },
    {
      "cell_type": "code",
      "metadata": {
        "id": "3d3JheiYYRhC"
      },
      "source": [
        "class NaiveBayes():\n",
        "  def fit(self,input,output):\n",
        "    self.no_of_examples,self.no_of_features=input.shape\n",
        "    self.classes=np.unique(output)\n",
        "    self.no_of_classes=len(self.classes)\n",
        "\n",
        "    self.mean=np.zeros((self.no_of_classes,self.no_of_features))\n",
        "    self.variance=np.zeros((self.no_of_classes,self.no_of_features))\n",
        "    self.prior=np.zeros(self.no_of_classes)\n",
        "\n",
        "    for c in self.classes:\n",
        "      input_class=input[c==output]\n",
        "      self.mean[c,:]=input_class.mean(axis=0)\n",
        "      self.variance[c,:]=input_class.mean(axis=0)\n",
        "      self.prior[c]=np.array(input_class.shape[0])/float(self.no_of_examples)\n",
        "\n",
        "\n",
        "  def predicts(self,input_test):\n",
        "    y_predicted=[self.predict(i) for i in input_test]\n",
        "    return y_predicted\n",
        "\n",
        "  def safe_log(self,input_):\n",
        "    result=np.where(input_>0.01,input_,1.0)\n",
        "    np.log(result,out=result,where=result>0)\n",
        "    return result\n",
        "\n",
        "  def predict(self,input_instance):\n",
        "    posteriors=[]\n",
        "\n",
        "    for index, c in enumerate(self.classes):\n",
        "      prior=np.log(self.prior[index])\n",
        "      class_conditional=np.sum(self.safe_log(self.pdf(index,input_instance)))\n",
        "      posterior=prior+class_conditional\n",
        "      posteriors.append(posterior)\n",
        "\n",
        "    return self.classes[np.argmax(posteriors)]\n",
        "\n",
        "\n",
        "  def pdf(self,index,input_instance):\n",
        "    np.seterr(divide='ignore', invalid='ignore')\n",
        "    mean=self.mean[index]\n",
        "    variance=self.variance[index]\n",
        "    numerator=np.exp(-(input_instance-mean)**2/(2*variance))\n",
        "    denominator=np.sqrt(2*np.pi*variance)\n",
        "    return np.divide(numerator,denominator, where=denominator!=0)"
      ],
      "execution_count": null,
      "outputs": []
    },
    {
      "cell_type": "code",
      "metadata": {
        "id": "yW7LB6_1oDPa"
      },
      "source": [
        "import nltk\n",
        "from nltk.corpus import words\n",
        "from sklearn.model_selection import train_test_split"
      ],
      "execution_count": null,
      "outputs": []
    },
    {
      "cell_type": "code",
      "metadata": {
        "colab": {
          "base_uri": "https://localhost:8080/"
        },
        "id": "y38Dc-IBoGO8",
        "outputId": "d71bf02d-931b-4d4b-fdd7-6c9969a2ada8"
      },
      "source": [
        "nltk.download('words')"
      ],
      "execution_count": null,
      "outputs": [
        {
          "output_type": "stream",
          "text": [
            "[nltk_data] Downloading package words to /root/nltk_data...\n",
            "[nltk_data]   Unzipping corpora/words.zip.\n"
          ],
          "name": "stdout"
        },
        {
          "output_type": "execute_result",
          "data": {
            "text/plain": [
              "True"
            ]
          },
          "metadata": {
            "tags": []
          },
          "execution_count": 7
        }
      ]
    },
    {
      "cell_type": "code",
      "metadata": {
        "id": "NkbHZcNPFKx-"
      },
      "source": [
        "words=words.words()"
      ],
      "execution_count": null,
      "outputs": []
    },
    {
      "cell_type": "markdown",
      "metadata": {
        "id": "ofdPG6-Yo-vU"
      },
      "source": [
        "Functions to perform preprocessing tasks"
      ]
    },
    {
      "cell_type": "code",
      "metadata": {
        "id": "hH4sn9XNo3k9"
      },
      "source": [
        "def build_vocabulary(mail,vocab):\n",
        "  for word in mail.split():\n",
        "    if(word.lower() not in vocab and word.lower() in words):\n",
        "      vocab[word]=len(vocab)"
      ],
      "execution_count": null,
      "outputs": []
    },
    {
      "cell_type": "code",
      "metadata": {
        "colab": {
          "base_uri": "https://localhost:8080/"
        },
        "id": "4ASmTAYClgWH",
        "outputId": "84276f36-d6f5-4a5f-e5dd-3a0b0e93767c"
      },
      "source": [
        "dataset.columns"
      ],
      "execution_count": null,
      "outputs": [
        {
          "output_type": "execute_result",
          "data": {
            "text/plain": [
              "Index(['Unnamed: 0', 'label', 'text', 'label_num'], dtype='object')"
            ]
          },
          "metadata": {
            "tags": []
          },
          "execution_count": 10
        }
      ]
    },
    {
      "cell_type": "markdown",
      "metadata": {
        "id": "guPYhhT4mb49"
      },
      "source": [
        "First and second columns are of no use"
      ]
    },
    {
      "cell_type": "code",
      "metadata": {
        "id": "CjoUWc2gmRh0"
      },
      "source": [
        "dataset.drop(['Unnamed: 0','label'],axis=1,inplace=True)"
      ],
      "execution_count": null,
      "outputs": []
    },
    {
      "cell_type": "code",
      "metadata": {
        "colab": {
          "base_uri": "https://localhost:8080/",
          "height": 204
        },
        "id": "V3AvHgatm5Ho",
        "outputId": "9d4f1dc1-4b0e-44d8-b188-d3bdfbd8b04a"
      },
      "source": [
        "dataset.head()"
      ],
      "execution_count": null,
      "outputs": [
        {
          "output_type": "execute_result",
          "data": {
            "text/html": [
              "<div>\n",
              "<style scoped>\n",
              "    .dataframe tbody tr th:only-of-type {\n",
              "        vertical-align: middle;\n",
              "    }\n",
              "\n",
              "    .dataframe tbody tr th {\n",
              "        vertical-align: top;\n",
              "    }\n",
              "\n",
              "    .dataframe thead th {\n",
              "        text-align: right;\n",
              "    }\n",
              "</style>\n",
              "<table border=\"1\" class=\"dataframe\">\n",
              "  <thead>\n",
              "    <tr style=\"text-align: right;\">\n",
              "      <th></th>\n",
              "      <th>text</th>\n",
              "      <th>label_num</th>\n",
              "    </tr>\n",
              "  </thead>\n",
              "  <tbody>\n",
              "    <tr>\n",
              "      <th>0</th>\n",
              "      <td>Subject: enron methanol ; meter # : 988291\\r\\n...</td>\n",
              "      <td>0</td>\n",
              "    </tr>\n",
              "    <tr>\n",
              "      <th>1</th>\n",
              "      <td>Subject: hpl nom for january 9 , 2001\\r\\n( see...</td>\n",
              "      <td>0</td>\n",
              "    </tr>\n",
              "    <tr>\n",
              "      <th>2</th>\n",
              "      <td>Subject: neon retreat\\r\\nho ho ho , we ' re ar...</td>\n",
              "      <td>0</td>\n",
              "    </tr>\n",
              "    <tr>\n",
              "      <th>3</th>\n",
              "      <td>Subject: photoshop , windows , office . cheap ...</td>\n",
              "      <td>1</td>\n",
              "    </tr>\n",
              "    <tr>\n",
              "      <th>4</th>\n",
              "      <td>Subject: re : indian springs\\r\\nthis deal is t...</td>\n",
              "      <td>0</td>\n",
              "    </tr>\n",
              "  </tbody>\n",
              "</table>\n",
              "</div>"
            ],
            "text/plain": [
              "                                                text  label_num\n",
              "0  Subject: enron methanol ; meter # : 988291\\r\\n...          0\n",
              "1  Subject: hpl nom for january 9 , 2001\\r\\n( see...          0\n",
              "2  Subject: neon retreat\\r\\nho ho ho , we ' re ar...          0\n",
              "3  Subject: photoshop , windows , office . cheap ...          1\n",
              "4  Subject: re : indian springs\\r\\nthis deal is t...          0"
            ]
          },
          "metadata": {
            "tags": []
          },
          "execution_count": 12
        }
      ]
    },
    {
      "cell_type": "markdown",
      "metadata": {
        "id": "M7Zrlk5__Opn"
      },
      "source": [
        "Remove rows containing NA or None values"
      ]
    },
    {
      "cell_type": "code",
      "metadata": {
        "id": "z86fFk_l_FrY"
      },
      "source": [
        "dataset.dropna(inplace=True)\n",
        "dataset.reset_index(drop=True,inplace=True)"
      ],
      "execution_count": null,
      "outputs": []
    },
    {
      "cell_type": "code",
      "metadata": {
        "colab": {
          "base_uri": "https://localhost:8080/"
        },
        "id": "jQe6SfP5Ax4G",
        "outputId": "a5bc36f7-c127-4e0b-dfbb-b12c0f72372e"
      },
      "source": [
        "dataset.shape"
      ],
      "execution_count": null,
      "outputs": [
        {
          "output_type": "execute_result",
          "data": {
            "text/plain": [
              "(5171, 2)"
            ]
          },
          "metadata": {
            "tags": []
          },
          "execution_count": 14
        }
      ]
    },
    {
      "cell_type": "code",
      "metadata": {
        "colab": {
          "base_uri": "https://localhost:8080/"
        },
        "id": "ry9lrbsKnOqs",
        "outputId": "ddc3c091-eb52-4640-cba7-5f74e8fad20f"
      },
      "source": [
        "input_dataset=dataset['text']\n",
        "output_dataset=dataset['label_num']\n",
        "input_dataset.shape"
      ],
      "execution_count": null,
      "outputs": [
        {
          "output_type": "execute_result",
          "data": {
            "text/plain": [
              "(5171,)"
            ]
          },
          "metadata": {
            "tags": []
          },
          "execution_count": 15
        }
      ]
    },
    {
      "cell_type": "code",
      "metadata": {
        "colab": {
          "background_save": true
        },
        "id": "QlQuRvjXK0Fq"
      },
      "source": [
        "vocab={}\n",
        "for i in range(input_dataset.shape[0]):\n",
        "  build_vocabulary(input_dataset[i],vocab)"
      ],
      "execution_count": null,
      "outputs": []
    },
    {
      "cell_type": "code",
      "metadata": {
        "colab": {
          "background_save": true
        },
        "id": "lvQMv7x0Jds1",
        "outputId": "a3cb841a-77bb-40e9-b4ad-5ecd040823b4"
      },
      "source": [
        "len(vocab)"
      ],
      "execution_count": null,
      "outputs": [
        {
          "output_type": "execute_result",
          "data": {
            "text/plain": [
              "18007"
            ]
          },
          "metadata": {
            "tags": []
          },
          "execution_count": 0
        }
      ]
    },
    {
      "cell_type": "code",
      "metadata": {
        "id": "awW-GRihJml5"
      },
      "source": [
        "input_dataset_numeric=np.zeros((input_dataset.shape[0],len(vocab)))"
      ],
      "execution_count": null,
      "outputs": []
    },
    {
      "cell_type": "code",
      "metadata": {
        "id": "mTI6eftULao0"
      },
      "source": [
        "for i in range(input_dataset.shape[0]):\n",
        "  for word in input_dataset[i].split():\n",
        "    input_dataset_numeric[i,vocab['word']]+=1"
      ],
      "execution_count": null,
      "outputs": []
    },
    {
      "cell_type": "code",
      "metadata": {
        "id": "wk_ug_jTMsxC"
      },
      "source": [
        "input_train,input_test,output_train,output_test=train_test_split(input_dataset_numeric,output_dataset,random_state=10)"
      ],
      "execution_count": null,
      "outputs": []
    },
    {
      "cell_type": "code",
      "metadata": {
        "id": "vTUHrigtOD-Z"
      },
      "source": [
        "naive=NaiveBayes()\n",
        "naive.fit(input_train,output_train)"
      ],
      "execution_count": null,
      "outputs": []
    },
    {
      "cell_type": "code",
      "metadata": {
        "id": "r4v9uLUnJmbz"
      },
      "source": [
        "predicted=naive.predicts(input_test)"
      ],
      "execution_count": null,
      "outputs": []
    },
    {
      "cell_type": "code",
      "metadata": {
        "colab": {
          "base_uri": "https://localhost:8080/"
        },
        "id": "x4VBBOW9epfF",
        "outputId": "8f73f0e6-3eaa-4570-b674-5404699813c4"
      },
      "source": [
        "predicted.count(1)"
      ],
      "execution_count": null,
      "outputs": [
        {
          "output_type": "execute_result",
          "data": {
            "text/plain": [
              "16"
            ]
          },
          "metadata": {
            "tags": []
          },
          "execution_count": 95
        }
      ]
    },
    {
      "cell_type": "code",
      "metadata": {
        "colab": {
          "base_uri": "https://localhost:8080/"
        },
        "id": "fmd8H7WriXol",
        "outputId": "277a7939-6101-4657-faa8-9611db85ccfc"
      },
      "source": [
        "score=np.sum(predicted==output_test)/output_test.shape[0]\n",
        "score"
      ],
      "execution_count": null,
      "outputs": [
        {
          "output_type": "execute_result",
          "data": {
            "text/plain": [
              "0.6983758700696056"
            ]
          },
          "metadata": {
            "tags": []
          },
          "execution_count": 94
        }
      ]
    },
    {
      "cell_type": "code",
      "metadata": {
        "id": "5gTmySFmiyYE"
      },
      "source": [
        ""
      ],
      "execution_count": null,
      "outputs": []
    }
  ]
}